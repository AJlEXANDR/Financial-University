{
 "cells": [
  {
   "cell_type": "markdown",
   "id": "472a14e4",
   "metadata": {},
   "source": [
    "# Множественная линейная регрессия на чистых данных"
   ]
  },
  {
   "cell_type": "markdown",
   "id": "d4a57917",
   "metadata": {},
   "source": [
    "### Задания для выполнения\n",
    "\n",
    "1) Ваша задача - построить предиктивную модель предсказания целевой переменной в зависимости от значения нескольких факторов (признаков).\n",
    "\n",
    "2) Загрузите датасет из приложения. Вам понадобится два файла - отдельно с признаками (помечен x) и значениями целевой переменной (помечен y). Файлы не содержат заголовков столбцов и строк.\n",
    "\n",
    "3) Сделайте количественное описание датасета: количество точек данных, признаков, статистику по каждому признаку.\n",
    "\n",
    "4) Разделите все наблюдения на обучающую и тестовую выборки в соотношении 80-20.\n",
    "\n",
    "5) Для целевой и каждого из признаков постройте парную регрессионную модель. Визуализируйте линию регрессии и исходные данные на графике. При помощи коэффициентов оцените силу связи.\n",
    "\n",
    "6) Постройте модель множественной линейной регрессии целевой переменной от всех показателей. Оцените качество регрессии, сделайте вывод."
   ]
  },
  {
   "cell_type": "code",
   "execution_count": 1,
   "id": "7614185c",
   "metadata": {},
   "outputs": [],
   "source": [
    "import numpy as np\n",
    "import pandas as pd\n",
    "import seaborn as sns\n",
    "import matplotlib.pyplot as plt\n",
    "from sklearn import linear_model\n",
    "from sklearn.model_selection import train_test_split\n",
    "from sklearn.preprocessing import PolynomialFeatures\n",
    "from sklearn.metrics import r2_score, mean_squared_error, mean_absolute_error, median_absolute_error"
   ]
  },
  {
   "cell_type": "markdown",
   "id": "256aa76a",
   "metadata": {},
   "source": [
    "### №2"
   ]
  },
  {
   "cell_type": "code",
   "execution_count": 2,
   "id": "4cd8e54a",
   "metadata": {},
   "outputs": [],
   "source": [
    "X = pd.read_csv('1_x.csv', header=None)\n",
    "Y = pd.read_csv('1_y.csv', header=None)"
   ]
  },
  {
   "cell_type": "code",
   "execution_count": 3,
   "id": "e26b68d0",
   "metadata": {},
   "outputs": [
    {
     "data": {
      "text/html": [
       "<div>\n",
       "<style scoped>\n",
       "    .dataframe tbody tr th:only-of-type {\n",
       "        vertical-align: middle;\n",
       "    }\n",
       "\n",
       "    .dataframe tbody tr th {\n",
       "        vertical-align: top;\n",
       "    }\n",
       "\n",
       "    .dataframe thead th {\n",
       "        text-align: right;\n",
       "    }\n",
       "</style>\n",
       "<table border=\"1\" class=\"dataframe\">\n",
       "  <thead>\n",
       "    <tr style=\"text-align: right;\">\n",
       "      <th></th>\n",
       "      <th>0</th>\n",
       "      <th>1</th>\n",
       "      <th>2</th>\n",
       "      <th>3</th>\n",
       "      <th>4</th>\n",
       "      <th>5</th>\n",
       "      <th>6</th>\n",
       "    </tr>\n",
       "  </thead>\n",
       "  <tbody>\n",
       "    <tr>\n",
       "      <th>0</th>\n",
       "      <td>1.599865</td>\n",
       "      <td>0.340598</td>\n",
       "      <td>-0.603400</td>\n",
       "      <td>0.150586</td>\n",
       "      <td>-0.209677</td>\n",
       "      <td>0.955045</td>\n",
       "      <td>0.347682</td>\n",
       "    </tr>\n",
       "    <tr>\n",
       "      <th>1</th>\n",
       "      <td>1.472656</td>\n",
       "      <td>0.466832</td>\n",
       "      <td>-1.947130</td>\n",
       "      <td>0.625906</td>\n",
       "      <td>0.589354</td>\n",
       "      <td>0.753521</td>\n",
       "      <td>-2.138552</td>\n",
       "    </tr>\n",
       "    <tr>\n",
       "      <th>2</th>\n",
       "      <td>0.279378</td>\n",
       "      <td>-1.717121</td>\n",
       "      <td>0.251069</td>\n",
       "      <td>0.730013</td>\n",
       "      <td>0.301801</td>\n",
       "      <td>-0.206711</td>\n",
       "      <td>0.894811</td>\n",
       "    </tr>\n",
       "    <tr>\n",
       "      <th>3</th>\n",
       "      <td>0.450771</td>\n",
       "      <td>1.133196</td>\n",
       "      <td>-0.294028</td>\n",
       "      <td>-2.595338</td>\n",
       "      <td>0.313911</td>\n",
       "      <td>1.953527</td>\n",
       "      <td>0.359938</td>\n",
       "    </tr>\n",
       "    <tr>\n",
       "      <th>4</th>\n",
       "      <td>1.507042</td>\n",
       "      <td>0.932115</td>\n",
       "      <td>-0.789549</td>\n",
       "      <td>1.043712</td>\n",
       "      <td>-1.404000</td>\n",
       "      <td>-0.124354</td>\n",
       "      <td>-0.921117</td>\n",
       "    </tr>\n",
       "    <tr>\n",
       "      <th>...</th>\n",
       "      <td>...</td>\n",
       "      <td>...</td>\n",
       "      <td>...</td>\n",
       "      <td>...</td>\n",
       "      <td>...</td>\n",
       "      <td>...</td>\n",
       "      <td>...</td>\n",
       "    </tr>\n",
       "    <tr>\n",
       "      <th>120</th>\n",
       "      <td>1.018825</td>\n",
       "      <td>1.618920</td>\n",
       "      <td>-1.561572</td>\n",
       "      <td>1.057171</td>\n",
       "      <td>1.893181</td>\n",
       "      <td>-0.647510</td>\n",
       "      <td>1.220188</td>\n",
       "    </tr>\n",
       "    <tr>\n",
       "      <th>121</th>\n",
       "      <td>-1.244391</td>\n",
       "      <td>0.327816</td>\n",
       "      <td>-1.004231</td>\n",
       "      <td>-1.877654</td>\n",
       "      <td>1.307478</td>\n",
       "      <td>-1.839689</td>\n",
       "      <td>-0.176182</td>\n",
       "    </tr>\n",
       "    <tr>\n",
       "      <th>122</th>\n",
       "      <td>-1.968106</td>\n",
       "      <td>-0.054336</td>\n",
       "      <td>0.558046</td>\n",
       "      <td>-0.527741</td>\n",
       "      <td>-0.060449</td>\n",
       "      <td>0.531740</td>\n",
       "      <td>-0.374088</td>\n",
       "    </tr>\n",
       "    <tr>\n",
       "      <th>123</th>\n",
       "      <td>-0.970556</td>\n",
       "      <td>0.436830</td>\n",
       "      <td>0.877973</td>\n",
       "      <td>-0.970337</td>\n",
       "      <td>-0.282711</td>\n",
       "      <td>-1.464295</td>\n",
       "      <td>-0.976662</td>\n",
       "    </tr>\n",
       "    <tr>\n",
       "      <th>124</th>\n",
       "      <td>1.755678</td>\n",
       "      <td>0.028767</td>\n",
       "      <td>1.631109</td>\n",
       "      <td>-1.209245</td>\n",
       "      <td>0.004220</td>\n",
       "      <td>-0.196236</td>\n",
       "      <td>0.093187</td>\n",
       "    </tr>\n",
       "  </tbody>\n",
       "</table>\n",
       "<p>125 rows × 7 columns</p>\n",
       "</div>"
      ],
      "text/plain": [
       "            0         1         2         3         4         5         6\n",
       "0    1.599865  0.340598 -0.603400  0.150586 -0.209677  0.955045  0.347682\n",
       "1    1.472656  0.466832 -1.947130  0.625906  0.589354  0.753521 -2.138552\n",
       "2    0.279378 -1.717121  0.251069  0.730013  0.301801 -0.206711  0.894811\n",
       "3    0.450771  1.133196 -0.294028 -2.595338  0.313911  1.953527  0.359938\n",
       "4    1.507042  0.932115 -0.789549  1.043712 -1.404000 -0.124354 -0.921117\n",
       "..        ...       ...       ...       ...       ...       ...       ...\n",
       "120  1.018825  1.618920 -1.561572  1.057171  1.893181 -0.647510  1.220188\n",
       "121 -1.244391  0.327816 -1.004231 -1.877654  1.307478 -1.839689 -0.176182\n",
       "122 -1.968106 -0.054336  0.558046 -0.527741 -0.060449  0.531740 -0.374088\n",
       "123 -0.970556  0.436830  0.877973 -0.970337 -0.282711 -1.464295 -0.976662\n",
       "124  1.755678  0.028767  1.631109 -1.209245  0.004220 -0.196236  0.093187\n",
       "\n",
       "[125 rows x 7 columns]"
      ]
     },
     "execution_count": 3,
     "metadata": {},
     "output_type": "execute_result"
    }
   ],
   "source": [
    "X"
   ]
  },
  {
   "cell_type": "code",
   "execution_count": 4,
   "id": "bf65a196",
   "metadata": {},
   "outputs": [
    {
     "data": {
      "text/html": [
       "<div>\n",
       "<style scoped>\n",
       "    .dataframe tbody tr th:only-of-type {\n",
       "        vertical-align: middle;\n",
       "    }\n",
       "\n",
       "    .dataframe tbody tr th {\n",
       "        vertical-align: top;\n",
       "    }\n",
       "\n",
       "    .dataframe thead th {\n",
       "        text-align: right;\n",
       "    }\n",
       "</style>\n",
       "<table border=\"1\" class=\"dataframe\">\n",
       "  <thead>\n",
       "    <tr style=\"text-align: right;\">\n",
       "      <th></th>\n",
       "      <th>0</th>\n",
       "    </tr>\n",
       "  </thead>\n",
       "  <tbody>\n",
       "    <tr>\n",
       "      <th>0</th>\n",
       "      <td>101.507602</td>\n",
       "    </tr>\n",
       "    <tr>\n",
       "      <th>1</th>\n",
       "      <td>-65.305680</td>\n",
       "    </tr>\n",
       "    <tr>\n",
       "      <th>2</th>\n",
       "      <td>152.189336</td>\n",
       "    </tr>\n",
       "    <tr>\n",
       "      <th>3</th>\n",
       "      <td>-109.702103</td>\n",
       "    </tr>\n",
       "    <tr>\n",
       "      <th>4</th>\n",
       "      <td>-11.188624</td>\n",
       "    </tr>\n",
       "    <tr>\n",
       "      <th>...</th>\n",
       "      <td>...</td>\n",
       "    </tr>\n",
       "    <tr>\n",
       "      <th>120</th>\n",
       "      <td>293.947002</td>\n",
       "    </tr>\n",
       "    <tr>\n",
       "      <th>121</th>\n",
       "      <td>-146.511266</td>\n",
       "    </tr>\n",
       "    <tr>\n",
       "      <th>122</th>\n",
       "      <td>-143.163481</td>\n",
       "    </tr>\n",
       "    <tr>\n",
       "      <th>123</th>\n",
       "      <td>-188.233401</td>\n",
       "    </tr>\n",
       "    <tr>\n",
       "      <th>124</th>\n",
       "      <td>76.381467</td>\n",
       "    </tr>\n",
       "  </tbody>\n",
       "</table>\n",
       "<p>125 rows × 1 columns</p>\n",
       "</div>"
      ],
      "text/plain": [
       "              0\n",
       "0    101.507602\n",
       "1    -65.305680\n",
       "2    152.189336\n",
       "3   -109.702103\n",
       "4    -11.188624\n",
       "..          ...\n",
       "120  293.947002\n",
       "121 -146.511266\n",
       "122 -143.163481\n",
       "123 -188.233401\n",
       "124   76.381467\n",
       "\n",
       "[125 rows x 1 columns]"
      ]
     },
     "execution_count": 4,
     "metadata": {},
     "output_type": "execute_result"
    }
   ],
   "source": [
    "Y"
   ]
  },
  {
   "cell_type": "markdown",
   "id": "e7201af4",
   "metadata": {},
   "source": [
    "### №3"
   ]
  },
  {
   "cell_type": "markdown",
   "id": "c4ccf9a9",
   "metadata": {},
   "source": [
    "#### X"
   ]
  },
  {
   "cell_type": "code",
   "execution_count": 5,
   "id": "8f1e2c7c",
   "metadata": {},
   "outputs": [
    {
     "data": {
      "text/plain": [
       "<bound method DataFrame.info of             0         1         2         3         4         5         6\n",
       "0    1.599865  0.340598 -0.603400  0.150586 -0.209677  0.955045  0.347682\n",
       "1    1.472656  0.466832 -1.947130  0.625906  0.589354  0.753521 -2.138552\n",
       "2    0.279378 -1.717121  0.251069  0.730013  0.301801 -0.206711  0.894811\n",
       "3    0.450771  1.133196 -0.294028 -2.595338  0.313911  1.953527  0.359938\n",
       "4    1.507042  0.932115 -0.789549  1.043712 -1.404000 -0.124354 -0.921117\n",
       "..        ...       ...       ...       ...       ...       ...       ...\n",
       "120  1.018825  1.618920 -1.561572  1.057171  1.893181 -0.647510  1.220188\n",
       "121 -1.244391  0.327816 -1.004231 -1.877654  1.307478 -1.839689 -0.176182\n",
       "122 -1.968106 -0.054336  0.558046 -0.527741 -0.060449  0.531740 -0.374088\n",
       "123 -0.970556  0.436830  0.877973 -0.970337 -0.282711 -1.464295 -0.976662\n",
       "124  1.755678  0.028767  1.631109 -1.209245  0.004220 -0.196236  0.093187\n",
       "\n",
       "[125 rows x 7 columns]>"
      ]
     },
     "execution_count": 5,
     "metadata": {},
     "output_type": "execute_result"
    }
   ],
   "source": [
    "X.info"
   ]
  },
  {
   "cell_type": "code",
   "execution_count": 6,
   "id": "ebbc5f3f",
   "metadata": {},
   "outputs": [
    {
     "data": {
      "text/plain": [
       "0    float64\n",
       "1    float64\n",
       "2    float64\n",
       "3    float64\n",
       "4    float64\n",
       "5    float64\n",
       "6    float64\n",
       "dtype: object"
      ]
     },
     "execution_count": 6,
     "metadata": {},
     "output_type": "execute_result"
    }
   ],
   "source": [
    "X.dtypes"
   ]
  },
  {
   "cell_type": "code",
   "execution_count": 7,
   "id": "d6f6511e",
   "metadata": {},
   "outputs": [
    {
     "data": {
      "text/plain": [
       "0   -0.046701\n",
       "1    0.173034\n",
       "2    0.049015\n",
       "3   -0.005271\n",
       "4   -0.095981\n",
       "5   -0.107452\n",
       "6   -0.056552\n",
       "dtype: float64"
      ]
     },
     "execution_count": 7,
     "metadata": {},
     "output_type": "execute_result"
    }
   ],
   "source": [
    "X.mean()"
   ]
  },
  {
   "cell_type": "markdown",
   "id": "4f79bf4b",
   "metadata": {},
   "source": [
    "#### Y"
   ]
  },
  {
   "cell_type": "code",
   "execution_count": 8,
   "id": "b3ed1ca4",
   "metadata": {},
   "outputs": [
    {
     "data": {
      "text/plain": [
       "<bound method DataFrame.info of               0\n",
       "0    101.507602\n",
       "1    -65.305680\n",
       "2    152.189336\n",
       "3   -109.702103\n",
       "4    -11.188624\n",
       "..          ...\n",
       "120  293.947002\n",
       "121 -146.511266\n",
       "122 -143.163481\n",
       "123 -188.233401\n",
       "124   76.381467\n",
       "\n",
       "[125 rows x 1 columns]>"
      ]
     },
     "execution_count": 8,
     "metadata": {},
     "output_type": "execute_result"
    }
   ],
   "source": [
    "Y.info"
   ]
  },
  {
   "cell_type": "code",
   "execution_count": 9,
   "id": "de9d748c",
   "metadata": {},
   "outputs": [
    {
     "data": {
      "text/plain": [
       "0    float64\n",
       "dtype: object"
      ]
     },
     "execution_count": 9,
     "metadata": {},
     "output_type": "execute_result"
    }
   ],
   "source": [
    "Y.dtypes"
   ]
  },
  {
   "cell_type": "code",
   "execution_count": 10,
   "id": "5a2f46c4",
   "metadata": {},
   "outputs": [
    {
     "data": {
      "text/plain": [
       "0   -10.905182\n",
       "dtype: float64"
      ]
     },
     "execution_count": 10,
     "metadata": {},
     "output_type": "execute_result"
    }
   ],
   "source": [
    "Y.mean()"
   ]
  },
  {
   "cell_type": "code",
   "execution_count": 11,
   "id": "6aa52dea",
   "metadata": {},
   "outputs": [
    {
     "data": {
      "image/png": "[encoded data removed]",
      "text/plain": [
       "<Figure size 432x288 with 1 Axes>"
      ]
     },
     "metadata": {
      "needs_background": "light"
     },
     "output_type": "display_data"
    }
   ],
   "source": [
    "plt.figure()\n",
    "[plt.scatter(X[i], Y) for i in range(6)]\n",
    "plt.show()"
   ]
  },
  {
   "cell_type": "code",
   "execution_count": 12,
   "id": "ca5bcb2b",
   "metadata": {
    "scrolled": true
   },
   "outputs": [
    {
     "data": {
      "image/png": "[encoded data removed]",
      "text/plain": [
       "<Figure size 2520x360 with 7 Axes>"
      ]
     },
     "metadata": {
      "needs_background": "light"
     },
     "output_type": "display_data"
    }
   ],
   "source": [
    "fig, (ax1, ax2, ax3, ax4, ax5, ax6, ax7) = plt.subplots(1, 7, figsize=(35, 5))\n",
    "# fig, (ax1, ax2, ax3) = plt.subplots(1, 3, figsize=(15, 5))\n",
    "\n",
    "ax1.scatter(X[0], Y, c=\"red\")\n",
    "ax2.scatter(X[1], Y, c=\"orange\")\n",
    "ax3.scatter(X[2], Y, c=\"yellow\")\n",
    "ax4.scatter(X[3], Y, c=\"green\")\n",
    "ax5.scatter(X[4], Y, c=\"cyan\")\n",
    "ax6.scatter(X[5], Y, c=\"blue\")\n",
    "ax7.scatter(X[6], Y, c=\"violet\")\n",
    "plt.show()"
   ]
  },
  {
   "cell_type": "markdown",
   "id": "7b64e5cf",
   "metadata": {},
   "source": [
    "Мы видим что хорошая корреляция у нас наблюдается у четвертого признака из датасета X и датасета Y, а так же самая лучшая у 6 признака из датасета X и датасета Y. "
   ]
  },
  {
   "cell_type": "markdown",
   "id": "7890fa4b",
   "metadata": {},
   "source": [
    "### №4"
   ]
  },
  {
   "cell_type": "code",
   "execution_count": 13,
   "id": "bfee7341",
   "metadata": {},
   "outputs": [],
   "source": [
    "# x_r = np.array(X[6]).reshape(-1, 1)\n",
    "# y_r = np.array(Y).reshape(-1, 1)"
   ]
  },
  {
   "cell_type": "code",
   "execution_count": 19,
   "id": "38971c93",
   "metadata": {},
   "outputs": [],
   "source": [
    "X_train, X_test, y_train, y_test = train_test_split(X, Y, test_size=0.2, random_state=123)"
   ]
  },
  {
   "cell_type": "code",
   "execution_count": 31,
   "id": "2f248c15",
   "metadata": {},
   "outputs": [
    {
     "data": {
      "text/plain": [
       "124    1.755678\n",
       "91    -0.480577\n",
       "35     0.388306\n",
       "116    0.189008\n",
       "19     0.454784\n",
       "         ...   \n",
       "102    0.780244\n",
       "98     0.295936\n",
       "92    -1.229713\n",
       "66     0.180496\n",
       "109   -0.185674\n",
       "Name: 0, Length: 100, dtype: float64"
      ]
     },
     "execution_count": 31,
     "metadata": {},
     "output_type": "execute_result"
    }
   ],
   "source": [
    "X_train[0]"
   ]
  },
  {
   "cell_type": "markdown",
   "id": "77fd7700",
   "metadata": {},
   "source": [
    "### №5"
   ]
  },
  {
   "cell_type": "markdown",
   "id": "2785dadd",
   "metadata": {},
   "source": [
    "#### Y и X[1]"
   ]
  },
  {
   "cell_type": "code",
   "execution_count": 65,
   "id": "b9a2466f",
   "metadata": {},
   "outputs": [
    {
     "data": {
      "text/html": [
       "<style>#sk-container-id-3 {color: black;background-color: white;}#sk-container-id-3 pre{padding: 0;}#sk-container-id-3 div.sk-toggleable {background-color: white;}#sk-container-id-3 label.sk-toggleable__label {cursor: pointer;display: block;width: 100%;margin-bottom: 0;padding: 0.3em;box-sizing: border-box;text-align: center;}#sk-container-id-3 label.sk-toggleable__label-arrow:before {content: \"▸\";float: left;margin-right: 0.25em;color: #696969;}#sk-container-id-3 label.sk-toggleable__label-arrow:hover:before {color: black;}#sk-container-id-3 div.sk-estimator:hover label.sk-toggleable__label-arrow:before {color: black;}#sk-container-id-3 div.sk-toggleable__content {max-height: 0;max-width: 0;overflow: hidden;text-align: left;background-color: #f0f8ff;}#sk-container-id-3 div.sk-toggleable__content pre {margin: 0.2em;color: black;border-radius: 0.25em;background-color: #f0f8ff;}#sk-container-id-3 input.sk-toggleable__control:checked~div.sk-toggleable__content {max-height: 200px;max-width: 100%;overflow: auto;}#sk-container-id-3 input.sk-toggleable__control:checked~label.sk-toggleable__label-arrow:before {content: \"▾\";}#sk-container-id-3 div.sk-estimator input.sk-toggleable__control:checked~label.sk-toggleable__label {background-color: #d4ebff;}#sk-container-id-3 div.sk-label input.sk-toggleable__control:checked~label.sk-toggleable__label {background-color: #d4ebff;}#sk-container-id-3 input.sk-hidden--visually {border: 0;clip: rect(1px 1px 1px 1px);clip: rect(1px, 1px, 1px, 1px);height: 1px;margin: -1px;overflow: hidden;padding: 0;position: absolute;width: 1px;}#sk-container-id-3 div.sk-estimator {font-family: monospace;background-color: #f0f8ff;border: 1px dotted black;border-radius: 0.25em;box-sizing: border-box;margin-bottom: 0.5em;}#sk-container-id-3 div.sk-estimator:hover {background-color: #d4ebff;}#sk-container-id-3 div.sk-parallel-item::after {content: \"\";width: 100%;border-bottom: 1px solid gray;flex-grow: 1;}#sk-container-id-3 div.sk-label:hover label.sk-toggleable__label {background-color: #d4ebff;}#sk-container-id-3 div.sk-serial::before {content: \"\";position: absolute;border-left: 1px solid gray;box-sizing: border-box;top: 0;bottom: 0;left: 50%;z-index: 0;}#sk-container-id-3 div.sk-serial {display: flex;flex-direction: column;align-items: center;background-color: white;padding-right: 0.2em;padding-left: 0.2em;position: relative;}#sk-container-id-3 div.sk-item {position: relative;z-index: 1;}#sk-container-id-3 div.sk-parallel {display: flex;align-items: stretch;justify-content: center;background-color: white;position: relative;}#sk-container-id-3 div.sk-item::before, #sk-container-id-3 div.sk-parallel-item::before {content: \"\";position: absolute;border-left: 1px solid gray;box-sizing: border-box;top: 0;bottom: 0;left: 50%;z-index: -1;}#sk-container-id-3 div.sk-parallel-item {display: flex;flex-direction: column;z-index: 1;position: relative;background-color: white;}#sk-container-id-3 div.sk-parallel-item:first-child::after {align-self: flex-end;width: 50%;}#sk-container-id-3 div.sk-parallel-item:last-child::after {align-self: flex-start;width: 50%;}#sk-container-id-3 div.sk-parallel-item:only-child::after {width: 0;}#sk-container-id-3 div.sk-dashed-wrapped {border: 1px dashed gray;margin: 0 0.4em 0.5em 0.4em;box-sizing: border-box;padding-bottom: 0.4em;background-color: white;}#sk-container-id-3 div.sk-label label {font-family: monospace;font-weight: bold;display: inline-block;line-height: 1.2em;}#sk-container-id-3 div.sk-label-container {text-align: center;}#sk-container-id-3 div.sk-container {/* jupyter's `normalize.less` sets `[hidden] { display: none; }` but bootstrap.min.css set `[hidden] { display: none !important; }` so we also need the `!important` here to be able to override the default hidden behavior on the sphinx rendered scikit-learn.org. See: https://github.com/scikit-learn/scikit-learn/issues/21755 */display: inline-block !important;position: relative;}#sk-container-id-3 div.sk-text-repr-fallback {display: none;}</style><div id=\"sk-container-id-3\" class=\"sk-top-container\"><div class=\"sk-text-repr-fallback\"><pre>LinearRegression()</pre><b>In a Jupyter environment, please rerun this cell to show the HTML representation or trust the notebook. <br />On GitHub, the HTML representation is unable to render, please try loading this page with nbviewer.org.</b></div><div class=\"sk-container\" hidden><div class=\"sk-item\"><div class=\"sk-estimator sk-toggleable\"><input class=\"sk-toggleable__control sk-hidden--visually\" id=\"sk-estimator-id-3\" type=\"checkbox\" checked><label for=\"sk-estimator-id-3\" class=\"sk-toggleable__label sk-toggleable__label-arrow\">LinearRegression</label><div class=\"sk-toggleable__content\"><pre>LinearRegression()</pre></div></div></div></div></div>"
      ],
      "text/plain": [
       "LinearRegression()"
      ]
     },
     "execution_count": 65,
     "metadata": {},
     "output_type": "execute_result"
    }
   ],
   "source": [
    "model_1 = linear_model.LinearRegression()\n",
    "x_tr_1 = X_train[0].values.reshape(-1,1)\n",
    "y_tr_1 = y_train.values\n",
    "model_1.fit(x_tr_1, y_tr_1)"
   ]
  },
  {
   "cell_type": "code",
   "execution_count": 66,
   "id": "c0512f94",
   "metadata": {},
   "outputs": [
    {
     "name": "stdout",
     "output_type": "stream",
     "text": [
      "The R-squared value is: 0.0608 \n",
      "\n"
     ]
    }
   ],
   "source": [
    "print(\"The R-squared value is: {0:0.4f} \\n\".format(model_1.score(x_tr_1, y_tr_1)))"
   ]
  },
  {
   "cell_type": "code",
   "execution_count": 67,
   "id": "0184847a",
   "metadata": {},
   "outputs": [
    {
     "name": "stdout",
     "output_type": "stream",
     "text": [
      "Коэффициент корреляции 0.0608 показывает что корреляция между тренировочными признаками слабая\n"
     ]
    }
   ],
   "source": [
    "print(f'Коэффициент корреляции {np.round(model_1.score(x_tr_1, y_tr_1), 4)} показывает что корреляция между тренировочными признаками слабая')"
   ]
  },
  {
   "cell_type": "code",
   "execution_count": 68,
   "id": "92d85345",
   "metadata": {},
   "outputs": [
    {
     "data": {
      "text/plain": [
       "array([[ 50.71245151],\n",
       "       [-12.66824935],\n",
       "       [ 58.97150167],\n",
       "       [-15.62763382],\n",
       "       [-44.23984371],\n",
       "       [  6.86004568],\n",
       "       [-10.44542521],\n",
       "       [ 19.06988607],\n",
       "       [  0.76096868],\n",
       "       [-28.55693277],\n",
       "       [ 15.16500906],\n",
       "       [-14.90505233],\n",
       "       [  7.65970732],\n",
       "       [-57.81054036],\n",
       "       [-34.20250491],\n",
       "       [ 54.13826325],\n",
       "       [ 17.67728821],\n",
       "       [ -1.14555912],\n",
       "       [ 37.54955413],\n",
       "       [-48.4289624 ],\n",
       "       [ 33.29485029],\n",
       "       [ 13.11751444],\n",
       "       [-42.68171243],\n",
       "       [-22.38541038],\n",
       "       [-77.5448665 ]])"
      ]
     },
     "execution_count": 68,
     "metadata": {},
     "output_type": "execute_result"
    }
   ],
   "source": [
    "x_tst_1 = X_test[0].values.reshape(-1,1)\n",
    "y_tst_1 = y_test.values\n",
    "predicted_1 = model_1.predict(x_tst_1)\n",
    "predicted_1"
   ]
  },
  {
   "cell_type": "code",
   "execution_count": 69,
   "id": "a41cb569",
   "metadata": {},
   "outputs": [],
   "source": [
    "mae = np.mean(abs(predicted_1-y_tst_1))\n",
    "rmse = np.sqrt(np.mean((predicted_1-y_tst_1)**2))\n",
    "rae = np.mean(abs(predicted_1-y_tst_1))/np.mean(abs(y_tst_1-np.mean(y_tst_1)))\n",
    "rse = np.mean((predicted_1-y_tst_1)**2)/np.mean((y_tst_1-np.mean(y_tst_1))**2)"
   ]
  },
  {
   "cell_type": "code",
   "execution_count": 70,
   "id": "a22221cd",
   "metadata": {},
   "outputs": [
    {
     "name": "stdout",
     "output_type": "stream",
     "text": [
      "The R-squared value is: 0.0620\n",
      "Mean Absolute Error: 94.680349\n",
      "Root Mean Squared Error: 117.800008\n",
      "Relative Absolute Error: 0.924824\n",
      "Relative Squared Error: 0.938010\n"
     ]
    }
   ],
   "source": [
    "print(\"The R-squared value is: {0:0.4f}\".format(model_1.score(x_tst_1, y_tst_1))) \n",
    "print(\"Mean Absolute Error: {0:0.6f}\".format(mae)) \n",
    "print(\"Root Mean Squared Error: {0:0.6f}\".format(rmse)) \n",
    "print(\"Relative Absolute Error: {0:0.6f}\".format(rae)) \n",
    "print(\"Relative Squared Error: {0:0.6f}\".format(rse)) "
   ]
  },
  {
   "cell_type": "code",
   "execution_count": 71,
   "id": "65868de7",
   "metadata": {},
   "outputs": [
    {
     "data": {
      "image/png": "[encoded data removed]",
      "text/plain": [
       "<Figure size 432x288 with 1 Axes>"
      ]
     },
     "metadata": {
      "needs_background": "light"
     },
     "output_type": "display_data"
    }
   ],
   "source": [
    "plt.scatter(X[0], Y, color=\"green\")\n",
    "plt.grid(linestyle='-')\n",
    "plt.plot(X_test[0].values, predicted_1, color=\"r\", linewidth=3)\n",
    "plt.show()"
   ]
  },
  {
   "cell_type": "markdown",
   "id": "3a606ed0",
   "metadata": {},
   "source": [
    "#### Y и X[2]"
   ]
  },
  {
   "cell_type": "code",
   "execution_count": 78,
   "id": "08ae7bc2",
   "metadata": {},
   "outputs": [
    {
     "data": {
      "text/html": [
       "<style>#sk-container-id-5 {color: black;background-color: white;}#sk-container-id-5 pre{padding: 0;}#sk-container-id-5 div.sk-toggleable {background-color: white;}#sk-container-id-5 label.sk-toggleable__label {cursor: pointer;display: block;width: 100%;margin-bottom: 0;padding: 0.3em;box-sizing: border-box;text-align: center;}#sk-container-id-5 label.sk-toggleable__label-arrow:before {content: \"▸\";float: left;margin-right: 0.25em;color: #696969;}#sk-container-id-5 label.sk-toggleable__label-arrow:hover:before {color: black;}#sk-container-id-5 div.sk-estimator:hover label.sk-toggleable__label-arrow:before {color: black;}#sk-container-id-5 div.sk-toggleable__content {max-height: 0;max-width: 0;overflow: hidden;text-align: left;background-color: #f0f8ff;}#sk-container-id-5 div.sk-toggleable__content pre {margin: 0.2em;color: black;border-radius: 0.25em;background-color: #f0f8ff;}#sk-container-id-5 input.sk-toggleable__control:checked~div.sk-toggleable__content {max-height: 200px;max-width: 100%;overflow: auto;}#sk-container-id-5 input.sk-toggleable__control:checked~label.sk-toggleable__label-arrow:before {content: \"▾\";}#sk-container-id-5 div.sk-estimator input.sk-toggleable__control:checked~label.sk-toggleable__label {background-color: #d4ebff;}#sk-container-id-5 div.sk-label input.sk-toggleable__control:checked~label.sk-toggleable__label {background-color: #d4ebff;}#sk-container-id-5 input.sk-hidden--visually {border: 0;clip: rect(1px 1px 1px 1px);clip: rect(1px, 1px, 1px, 1px);height: 1px;margin: -1px;overflow: hidden;padding: 0;position: absolute;width: 1px;}#sk-container-id-5 div.sk-estimator {font-family: monospace;background-color: #f0f8ff;border: 1px dotted black;border-radius: 0.25em;box-sizing: border-box;margin-bottom: 0.5em;}#sk-container-id-5 div.sk-estimator:hover {background-color: #d4ebff;}#sk-container-id-5 div.sk-parallel-item::after {content: \"\";width: 100%;border-bottom: 1px solid gray;flex-grow: 1;}#sk-container-id-5 div.sk-label:hover label.sk-toggleable__label {background-color: #d4ebff;}#sk-container-id-5 div.sk-serial::before {content: \"\";position: absolute;border-left: 1px solid gray;box-sizing: border-box;top: 0;bottom: 0;left: 50%;z-index: 0;}#sk-container-id-5 div.sk-serial {display: flex;flex-direction: column;align-items: center;background-color: white;padding-right: 0.2em;padding-left: 0.2em;position: relative;}#sk-container-id-5 div.sk-item {position: relative;z-index: 1;}#sk-container-id-5 div.sk-parallel {display: flex;align-items: stretch;justify-content: center;background-color: white;position: relative;}#sk-container-id-5 div.sk-item::before, #sk-container-id-5 div.sk-parallel-item::before {content: \"\";position: absolute;border-left: 1px solid gray;box-sizing: border-box;top: 0;bottom: 0;left: 50%;z-index: -1;}#sk-container-id-5 div.sk-parallel-item {display: flex;flex-direction: column;z-index: 1;position: relative;background-color: white;}#sk-container-id-5 div.sk-parallel-item:first-child::after {align-self: flex-end;width: 50%;}#sk-container-id-5 div.sk-parallel-item:last-child::after {align-self: flex-start;width: 50%;}#sk-container-id-5 div.sk-parallel-item:only-child::after {width: 0;}#sk-container-id-5 div.sk-dashed-wrapped {border: 1px dashed gray;margin: 0 0.4em 0.5em 0.4em;box-sizing: border-box;padding-bottom: 0.4em;background-color: white;}#sk-container-id-5 div.sk-label label {font-family: monospace;font-weight: bold;display: inline-block;line-height: 1.2em;}#sk-container-id-5 div.sk-label-container {text-align: center;}#sk-container-id-5 div.sk-container {/* jupyter's `normalize.less` sets `[hidden] { display: none; }` but bootstrap.min.css set `[hidden] { display: none !important; }` so we also need the `!important` here to be able to override the default hidden behavior on the sphinx rendered scikit-learn.org. See: https://github.com/scikit-learn/scikit-learn/issues/21755 */display: inline-block !important;position: relative;}#sk-container-id-5 div.sk-text-repr-fallback {display: none;}</style><div id=\"sk-container-id-5\" class=\"sk-top-container\"><div class=\"sk-text-repr-fallback\"><pre>LinearRegression()</pre><b>In a Jupyter environment, please rerun this cell to show the HTML representation or trust the notebook. <br />On GitHub, the HTML representation is unable to render, please try loading this page with nbviewer.org.</b></div><div class=\"sk-container\" hidden><div class=\"sk-item\"><div class=\"sk-estimator sk-toggleable\"><input class=\"sk-toggleable__control sk-hidden--visually\" id=\"sk-estimator-id-5\" type=\"checkbox\" checked><label for=\"sk-estimator-id-5\" class=\"sk-toggleable__label sk-toggleable__label-arrow\">LinearRegression</label><div class=\"sk-toggleable__content\"><pre>LinearRegression()</pre></div></div></div></div></div>"
      ],
      "text/plain": [
       "LinearRegression()"
      ]
     },
     "execution_count": 78,
     "metadata": {},
     "output_type": "execute_result"
    }
   ],
   "source": [
    "model_2 = linear_model.LinearRegression()\n",
    "x_tr_2 = X_train[1].values.reshape(-1,1)\n",
    "y_tr_2 = y_train.values\n",
    "model_2.fit(x_tr_2, y_tr_2)"
   ]
  },
  {
   "cell_type": "code",
   "execution_count": 79,
   "id": "5ff5a50a",
   "metadata": {},
   "outputs": [
    {
     "name": "stdout",
     "output_type": "stream",
     "text": [
      "Коэффициент корреляции 0.0001 показывает что корреляция между тренировочными признаками слабая\n"
     ]
    }
   ],
   "source": [
    "print(f'Коэффициент корреляции {np.round(model_2.score(x_tr_2, y_tr_2), 4)} показывает что корреляция между тренировочными признаками слабая')"
   ]
  },
  {
   "cell_type": "code",
   "execution_count": 80,
   "id": "6e1dbbfe",
   "metadata": {},
   "outputs": [
    {
     "data": {
      "text/plain": [
       "array([[ -6.2146445 ],\n",
       "       [ -6.67408028],\n",
       "       [ -7.55342116],\n",
       "       [ -8.18963801],\n",
       "       [ -7.94740642],\n",
       "       [ -8.29466927],\n",
       "       [-10.21511786],\n",
       "       [ -6.09359444],\n",
       "       [ -5.24895808],\n",
       "       [ -9.03329864],\n",
       "       [ -7.6930592 ],\n",
       "       [ -7.04087404],\n",
       "       [ -6.77352542],\n",
       "       [ -7.6364765 ],\n",
       "       [ -9.54879799],\n",
       "       [ -7.11847272],\n",
       "       [ -5.26196645],\n",
       "       [ -4.66020157],\n",
       "       [ -9.07196623],\n",
       "       [ -9.21660566],\n",
       "       [ -5.0120822 ],\n",
       "       [ -9.03289824],\n",
       "       [ -8.22819001],\n",
       "       [ -9.05137438],\n",
       "       [ -7.72192566]])"
      ]
     },
     "execution_count": 80,
     "metadata": {},
     "output_type": "execute_result"
    }
   ],
   "source": [
    "x_tst_2 = X_test[1].values.reshape(-1,1)\n",
    "y_tst_2 = y_test.values\n",
    "predicted_2 = model_2.predict(x_tst_2)\n",
    "predicted_2"
   ]
  },
  {
   "cell_type": "code",
   "execution_count": 81,
   "id": "17ca32e2",
   "metadata": {},
   "outputs": [],
   "source": [
    "mae = np.mean(abs(predicted_2-y_tst_2))\n",
    "rmse = np.sqrt(np.mean((predicted_2-y_tst_2)**2))\n",
    "rae = np.mean(abs(predicted_2-y_tst_2))/np.mean(abs(y_tst_2-np.mean(y_tst_2)))\n",
    "rse = np.mean((predicted_2-y_tst_2)**2)/np.mean((y_tst_2-np.mean(y_tst_2))**2)"
   ]
  },
  {
   "cell_type": "code",
   "execution_count": 82,
   "id": "b3543c13",
   "metadata": {},
   "outputs": [
    {
     "name": "stdout",
     "output_type": "stream",
     "text": [
      "The R-squared value is: -0.0219\n",
      "Mean Absolute Error: 99.238564\n",
      "Root Mean Squared Error: 122.956862\n",
      "Relative Absolute Error: 0.969348\n",
      "Relative Squared Error: 1.021933\n"
     ]
    }
   ],
   "source": [
    "print(\"The R-squared value is: {0:0.4f}\".format(model_2.score(x_tst_2, y_tst_2))) \n",
    "print(\"Mean Absolute Error: {0:0.6f}\".format(mae)) \n",
    "print(\"Root Mean Squared Error: {0:0.6f}\".format(rmse)) \n",
    "print(\"Relative Absolute Error: {0:0.6f}\".format(rae)) \n",
    "print(\"Relative Squared Error: {0:0.6f}\".format(rse))"
   ]
  },
  {
   "cell_type": "code",
   "execution_count": 83,
   "id": "735241a5",
   "metadata": {},
   "outputs": [
    {
     "data": {
      "image/png": "[encoded data removed]",
      "text/plain": [
       "<Figure size 432x288 with 1 Axes>"
      ]
     },
     "metadata": {
      "needs_background": "light"
     },
     "output_type": "display_data"
    }
   ],
   "source": [
    "plt.scatter(X[1], Y, color=\"green\")\n",
    "plt.grid(linestyle='-')\n",
    "plt.plot(X_test[1].values, predicted_2, color=\"r\", linewidth=3)\n",
    "plt.show()"
   ]
  },
  {
   "cell_type": "markdown",
   "id": "1635dd9e",
   "metadata": {},
   "source": [
    "#### Y и X[3]"
   ]
  },
  {
   "cell_type": "code",
   "execution_count": 86,
   "id": "c6870767",
   "metadata": {},
   "outputs": [
    {
     "data": {
      "text/html": [
       "<style>#sk-container-id-6 {color: black;background-color: white;}#sk-container-id-6 pre{padding: 0;}#sk-container-id-6 div.sk-toggleable {background-color: white;}#sk-container-id-6 label.sk-toggleable__label {cursor: pointer;display: block;width: 100%;margin-bottom: 0;padding: 0.3em;box-sizing: border-box;text-align: center;}#sk-container-id-6 label.sk-toggleable__label-arrow:before {content: \"▸\";float: left;margin-right: 0.25em;color: #696969;}#sk-container-id-6 label.sk-toggleable__label-arrow:hover:before {color: black;}#sk-container-id-6 div.sk-estimator:hover label.sk-toggleable__label-arrow:before {color: black;}#sk-container-id-6 div.sk-toggleable__content {max-height: 0;max-width: 0;overflow: hidden;text-align: left;background-color: #f0f8ff;}#sk-container-id-6 div.sk-toggleable__content pre {margin: 0.2em;color: black;border-radius: 0.25em;background-color: #f0f8ff;}#sk-container-id-6 input.sk-toggleable__control:checked~div.sk-toggleable__content {max-height: 200px;max-width: 100%;overflow: auto;}#sk-container-id-6 input.sk-toggleable__control:checked~label.sk-toggleable__label-arrow:before {content: \"▾\";}#sk-container-id-6 div.sk-estimator input.sk-toggleable__control:checked~label.sk-toggleable__label {background-color: #d4ebff;}#sk-container-id-6 div.sk-label input.sk-toggleable__control:checked~label.sk-toggleable__label {background-color: #d4ebff;}#sk-container-id-6 input.sk-hidden--visually {border: 0;clip: rect(1px 1px 1px 1px);clip: rect(1px, 1px, 1px, 1px);height: 1px;margin: -1px;overflow: hidden;padding: 0;position: absolute;width: 1px;}#sk-container-id-6 div.sk-estimator {font-family: monospace;background-color: #f0f8ff;border: 1px dotted black;border-radius: 0.25em;box-sizing: border-box;margin-bottom: 0.5em;}#sk-container-id-6 div.sk-estimator:hover {background-color: #d4ebff;}#sk-container-id-6 div.sk-parallel-item::after {content: \"\";width: 100%;border-bottom: 1px solid gray;flex-grow: 1;}#sk-container-id-6 div.sk-label:hover label.sk-toggleable__label {background-color: #d4ebff;}#sk-container-id-6 div.sk-serial::before {content: \"\";position: absolute;border-left: 1px solid gray;box-sizing: border-box;top: 0;bottom: 0;left: 50%;z-index: 0;}#sk-container-id-6 div.sk-serial {display: flex;flex-direction: column;align-items: center;background-color: white;padding-right: 0.2em;padding-left: 0.2em;position: relative;}#sk-container-id-6 div.sk-item {position: relative;z-index: 1;}#sk-container-id-6 div.sk-parallel {display: flex;align-items: stretch;justify-content: center;background-color: white;position: relative;}#sk-container-id-6 div.sk-item::before, #sk-container-id-6 div.sk-parallel-item::before {content: \"\";position: absolute;border-left: 1px solid gray;box-sizing: border-box;top: 0;bottom: 0;left: 50%;z-index: -1;}#sk-container-id-6 div.sk-parallel-item {display: flex;flex-direction: column;z-index: 1;position: relative;background-color: white;}#sk-container-id-6 div.sk-parallel-item:first-child::after {align-self: flex-end;width: 50%;}#sk-container-id-6 div.sk-parallel-item:last-child::after {align-self: flex-start;width: 50%;}#sk-container-id-6 div.sk-parallel-item:only-child::after {width: 0;}#sk-container-id-6 div.sk-dashed-wrapped {border: 1px dashed gray;margin: 0 0.4em 0.5em 0.4em;box-sizing: border-box;padding-bottom: 0.4em;background-color: white;}#sk-container-id-6 div.sk-label label {font-family: monospace;font-weight: bold;display: inline-block;line-height: 1.2em;}#sk-container-id-6 div.sk-label-container {text-align: center;}#sk-container-id-6 div.sk-container {/* jupyter's `normalize.less` sets `[hidden] { display: none; }` but bootstrap.min.css set `[hidden] { display: none !important; }` so we also need the `!important` here to be able to override the default hidden behavior on the sphinx rendered scikit-learn.org. See: https://github.com/scikit-learn/scikit-learn/issues/21755 */display: inline-block !important;position: relative;}#sk-container-id-6 div.sk-text-repr-fallback {display: none;}</style><div id=\"sk-container-id-6\" class=\"sk-top-container\"><div class=\"sk-text-repr-fallback\"><pre>LinearRegression()</pre><b>In a Jupyter environment, please rerun this cell to show the HTML representation or trust the notebook. <br />On GitHub, the HTML representation is unable to render, please try loading this page with nbviewer.org.</b></div><div class=\"sk-container\" hidden><div class=\"sk-item\"><div class=\"sk-estimator sk-toggleable\"><input class=\"sk-toggleable__control sk-hidden--visually\" id=\"sk-estimator-id-6\" type=\"checkbox\" checked><label for=\"sk-estimator-id-6\" class=\"sk-toggleable__label sk-toggleable__label-arrow\">LinearRegression</label><div class=\"sk-toggleable__content\"><pre>LinearRegression()</pre></div></div></div></div></div>"
      ],
      "text/plain": [
       "LinearRegression()"
      ]
     },
     "execution_count": 86,
     "metadata": {},
     "output_type": "execute_result"
    }
   ],
   "source": [
    "model_3 = linear_model.LinearRegression()\n",
    "x_tr_3 = X_train[2].values.reshape(-1,1)\n",
    "y_tr_3 = y_train.values\n",
    "model_3.fit(x_tr_3, y_tr_3)"
   ]
  },
  {
   "cell_type": "code",
   "execution_count": 87,
   "id": "13ecf758",
   "metadata": {},
   "outputs": [
    {
     "name": "stdout",
     "output_type": "stream",
     "text": [
      "Коэффициент корреляции 0.0244 показывает что корреляция между тренировочными признаками слабая\n"
     ]
    }
   ],
   "source": [
    "print(f'Коэффициент корреляции {np.round(model_3.score(x_tr_3, y_tr_3), 4)} показывает что корреляция между тренировочными признаками слабая')"
   ]
  },
  {
   "cell_type": "code",
   "execution_count": 88,
   "id": "29a25a41",
   "metadata": {},
   "outputs": [
    {
     "data": {
      "text/plain": [
       "array([[-24.68092028],\n",
       "       [ 10.81439164],\n",
       "       [ 17.51159766],\n",
       "       [ -3.40359854],\n",
       "       [ 23.76709061],\n",
       "       [-35.11289791],\n",
       "       [-11.98874963],\n",
       "       [ 16.95325106],\n",
       "       [ 19.59386641],\n",
       "       [-16.23021459],\n",
       "       [ -6.06981317],\n",
       "       [-12.48989648],\n",
       "       [ 22.45036713],\n",
       "       [-45.87589673],\n",
       "       [ -8.18473085],\n",
       "       [-20.53646679],\n",
       "       [ 21.52338794],\n",
       "       [ 16.48097693],\n",
       "       [  7.27662858],\n",
       "       [-30.00483141],\n",
       "       [ 39.51444203],\n",
       "       [-34.70556097],\n",
       "       [  9.51389558],\n",
       "       [ 20.46301194],\n",
       "       [  5.32208314]])"
      ]
     },
     "execution_count": 88,
     "metadata": {},
     "output_type": "execute_result"
    }
   ],
   "source": [
    "x_tst_3 = X_test[2].values.reshape(-1,1)\n",
    "y_tst_3 = y_test.values\n",
    "predicted_3 = model_3.predict(x_tst_3)\n",
    "predicted_3"
   ]
  },
  {
   "cell_type": "code",
   "execution_count": 89,
   "id": "9995ebbb",
   "metadata": {},
   "outputs": [],
   "source": [
    "mae = np.mean(abs(predicted_3-y_tst_3))\n",
    "rmse = np.sqrt(np.mean((predicted_3-y_tst_3)**2))\n",
    "rae = np.mean(abs(predicted_3-y_tst_3))/np.mean(abs(y_tst_3-np.mean(y_tst_3)))\n",
    "rse = np.mean((predicted_3-y_tst_3)**2)/np.mean((y_tst_3-np.mean(y_tst_3))**2)"
   ]
  },
  {
   "cell_type": "code",
   "execution_count": 90,
   "id": "c01f4e22",
   "metadata": {},
   "outputs": [
    {
     "name": "stdout",
     "output_type": "stream",
     "text": [
      "The R-squared value is: 0.0017\n",
      "Mean Absolute Error: 97.218454\n",
      "Root Mean Squared Error: 121.529506\n",
      "Relative Absolute Error: 0.949616\n",
      "Relative Squared Error: 0.998344\n"
     ]
    }
   ],
   "source": [
    "print(\"The R-squared value is: {0:0.4f}\".format(model_3.score(x_tst_3, y_tst_3))) \n",
    "print(\"Mean Absolute Error: {0:0.6f}\".format(mae)) \n",
    "print(\"Root Mean Squared Error: {0:0.6f}\".format(rmse)) \n",
    "print(\"Relative Absolute Error: {0:0.6f}\".format(rae)) \n",
    "print(\"Relative Squared Error: {0:0.6f}\".format(rse))"
   ]
  },
  {
   "cell_type": "code",
   "execution_count": 91,
   "id": "c7826d69",
   "metadata": {},
   "outputs": [
    {
     "data": {
      "image/png": "[encoded data removed]",
      "text/plain": [
       "<Figure size 432x288 with 1 Axes>"
      ]
     },
     "metadata": {
      "needs_background": "light"
     },
     "output_type": "display_data"
    }
   ],
   "source": [
    "plt.scatter(X[2], Y, color=\"green\")\n",
    "plt.grid(linestyle='-')\n",
    "plt.plot(X_test[2].values, predicted_3, color=\"r\", linewidth=3)\n",
    "plt.show()"
   ]
  },
  {
   "cell_type": "markdown",
   "id": "8221626f",
   "metadata": {},
   "source": [
    "#### Y и X[4]"
   ]
  },
  {
   "cell_type": "code",
   "execution_count": 92,
   "id": "5e356155",
   "metadata": {},
   "outputs": [
    {
     "data": {
      "text/html": [
       "<style>#sk-container-id-7 {color: black;background-color: white;}#sk-container-id-7 pre{padding: 0;}#sk-container-id-7 div.sk-toggleable {background-color: white;}#sk-container-id-7 label.sk-toggleable__label {cursor: pointer;display: block;width: 100%;margin-bottom: 0;padding: 0.3em;box-sizing: border-box;text-align: center;}#sk-container-id-7 label.sk-toggleable__label-arrow:before {content: \"▸\";float: left;margin-right: 0.25em;color: #696969;}#sk-container-id-7 label.sk-toggleable__label-arrow:hover:before {color: black;}#sk-container-id-7 div.sk-estimator:hover label.sk-toggleable__label-arrow:before {color: black;}#sk-container-id-7 div.sk-toggleable__content {max-height: 0;max-width: 0;overflow: hidden;text-align: left;background-color: #f0f8ff;}#sk-container-id-7 div.sk-toggleable__content pre {margin: 0.2em;color: black;border-radius: 0.25em;background-color: #f0f8ff;}#sk-container-id-7 input.sk-toggleable__control:checked~div.sk-toggleable__content {max-height: 200px;max-width: 100%;overflow: auto;}#sk-container-id-7 input.sk-toggleable__control:checked~label.sk-toggleable__label-arrow:before {content: \"▾\";}#sk-container-id-7 div.sk-estimator input.sk-toggleable__control:checked~label.sk-toggleable__label {background-color: #d4ebff;}#sk-container-id-7 div.sk-label input.sk-toggleable__control:checked~label.sk-toggleable__label {background-color: #d4ebff;}#sk-container-id-7 input.sk-hidden--visually {border: 0;clip: rect(1px 1px 1px 1px);clip: rect(1px, 1px, 1px, 1px);height: 1px;margin: -1px;overflow: hidden;padding: 0;position: absolute;width: 1px;}#sk-container-id-7 div.sk-estimator {font-family: monospace;background-color: #f0f8ff;border: 1px dotted black;border-radius: 0.25em;box-sizing: border-box;margin-bottom: 0.5em;}#sk-container-id-7 div.sk-estimator:hover {background-color: #d4ebff;}#sk-container-id-7 div.sk-parallel-item::after {content: \"\";width: 100%;border-bottom: 1px solid gray;flex-grow: 1;}#sk-container-id-7 div.sk-label:hover label.sk-toggleable__label {background-color: #d4ebff;}#sk-container-id-7 div.sk-serial::before {content: \"\";position: absolute;border-left: 1px solid gray;box-sizing: border-box;top: 0;bottom: 0;left: 50%;z-index: 0;}#sk-container-id-7 div.sk-serial {display: flex;flex-direction: column;align-items: center;background-color: white;padding-right: 0.2em;padding-left: 0.2em;position: relative;}#sk-container-id-7 div.sk-item {position: relative;z-index: 1;}#sk-container-id-7 div.sk-parallel {display: flex;align-items: stretch;justify-content: center;background-color: white;position: relative;}#sk-container-id-7 div.sk-item::before, #sk-container-id-7 div.sk-parallel-item::before {content: \"\";position: absolute;border-left: 1px solid gray;box-sizing: border-box;top: 0;bottom: 0;left: 50%;z-index: -1;}#sk-container-id-7 div.sk-parallel-item {display: flex;flex-direction: column;z-index: 1;position: relative;background-color: white;}#sk-container-id-7 div.sk-parallel-item:first-child::after {align-self: flex-end;width: 50%;}#sk-container-id-7 div.sk-parallel-item:last-child::after {align-self: flex-start;width: 50%;}#sk-container-id-7 div.sk-parallel-item:only-child::after {width: 0;}#sk-container-id-7 div.sk-dashed-wrapped {border: 1px dashed gray;margin: 0 0.4em 0.5em 0.4em;box-sizing: border-box;padding-bottom: 0.4em;background-color: white;}#sk-container-id-7 div.sk-label label {font-family: monospace;font-weight: bold;display: inline-block;line-height: 1.2em;}#sk-container-id-7 div.sk-label-container {text-align: center;}#sk-container-id-7 div.sk-container {/* jupyter's `normalize.less` sets `[hidden] { display: none; }` but bootstrap.min.css set `[hidden] { display: none !important; }` so we also need the `!important` here to be able to override the default hidden behavior on the sphinx rendered scikit-learn.org. See: https://github.com/scikit-learn/scikit-learn/issues/21755 */display: inline-block !important;position: relative;}#sk-container-id-7 div.sk-text-repr-fallback {display: none;}</style><div id=\"sk-container-id-7\" class=\"sk-top-container\"><div class=\"sk-text-repr-fallback\"><pre>LinearRegression()</pre><b>In a Jupyter environment, please rerun this cell to show the HTML representation or trust the notebook. <br />On GitHub, the HTML representation is unable to render, please try loading this page with nbviewer.org.</b></div><div class=\"sk-container\" hidden><div class=\"sk-item\"><div class=\"sk-estimator sk-toggleable\"><input class=\"sk-toggleable__control sk-hidden--visually\" id=\"sk-estimator-id-7\" type=\"checkbox\" checked><label for=\"sk-estimator-id-7\" class=\"sk-toggleable__label sk-toggleable__label-arrow\">LinearRegression</label><div class=\"sk-toggleable__content\"><pre>LinearRegression()</pre></div></div></div></div></div>"
      ],
      "text/plain": [
       "LinearRegression()"
      ]
     },
     "execution_count": 92,
     "metadata": {},
     "output_type": "execute_result"
    }
   ],
   "source": [
    "model_4 = linear_model.LinearRegression()\n",
    "x_tr_4 = X_train[3].values.reshape(-1,1)\n",
    "y_tr_4 = y_train.values\n",
    "model_4.fit(x_tr_4, y_tr_4)"
   ]
  },
  {
   "cell_type": "code",
   "execution_count": 94,
   "id": "d22c5e4c",
   "metadata": {},
   "outputs": [
    {
     "name": "stdout",
     "output_type": "stream",
     "text": [
      "Коэффициент корреляции 0.2292 показывает что корреляция между тренировочными признаками слабая\n"
     ]
    }
   ],
   "source": [
    "print(f'Коэффициент корреляции {np.round(model_4.score(x_tr_4, y_tr_4), 4)} показывает что корреляция между тренировочными признаками слабая')"
   ]
  },
  {
   "cell_type": "code",
   "execution_count": 95,
   "id": "816d37c1",
   "metadata": {},
   "outputs": [
    {
     "data": {
      "text/plain": [
       "array([[  62.89417552],\n",
       "       [  88.30683676],\n",
       "       [ -30.22953338],\n",
       "       [ -62.05186085],\n",
       "       [   5.16670946],\n",
       "       [  67.69632322],\n",
       "       [  -1.28193034],\n",
       "       [ -31.57703336],\n",
       "       [  53.24882285],\n",
       "       [-104.44086258],\n",
       "       [ -70.48428383],\n",
       "       [ -44.78964839],\n",
       "       [  15.30708827],\n",
       "       [  47.35390972],\n",
       "       [ 128.21627666],\n",
       "       [   4.96349631],\n",
       "       [  10.26915057],\n",
       "       [  -9.27349309],\n",
       "       [ -11.37856492],\n",
       "       [  37.96425419],\n",
       "       [ -91.6100735 ],\n",
       "       [  97.38599478],\n",
       "       [ -33.68718145],\n",
       "       [   1.11391536],\n",
       "       [ -39.0347132 ]])"
      ]
     },
     "execution_count": 95,
     "metadata": {},
     "output_type": "execute_result"
    }
   ],
   "source": [
    "x_tst_4 = X_test[3].values.reshape(-1,1)\n",
    "y_tst_4 = y_test.values\n",
    "predicted_4 = model_4.predict(x_tst_4)\n",
    "predicted_4"
   ]
  },
  {
   "cell_type": "code",
   "execution_count": 96,
   "id": "6abc8f1e",
   "metadata": {},
   "outputs": [],
   "source": [
    "mae = np.mean(abs(predicted_4-y_tst_4))\n",
    "rmse = np.sqrt(np.mean((predicted_4-y_tst_4)**2))\n",
    "rae = np.mean(abs(predicted_4-y_tst_4))/np.mean(abs(y_tst_4-np.mean(y_tst_4)))\n",
    "rse = np.mean((predicted_4-y_tst_4)**2)/np.mean((y_tst_4-np.mean(y_tst_4))**2)"
   ]
  },
  {
   "cell_type": "code",
   "execution_count": 97,
   "id": "83a0fccb",
   "metadata": {},
   "outputs": [
    {
     "name": "stdout",
     "output_type": "stream",
     "text": [
      "The R-squared value is: 0.1191\n",
      "Mean Absolute Error: 94.740142\n",
      "Root Mean Squared Error: 114.157951\n",
      "Relative Absolute Error: 0.925408\n",
      "Relative Squared Error: 0.880905\n"
     ]
    }
   ],
   "source": [
    "print(\"The R-squared value is: {0:0.4f}\".format(model_4.score(x_tst_4, y_tst_4))) \n",
    "print(\"Mean Absolute Error: {0:0.6f}\".format(mae)) \n",
    "print(\"Root Mean Squared Error: {0:0.6f}\".format(rmse)) \n",
    "print(\"Relative Absolute Error: {0:0.6f}\".format(rae)) \n",
    "print(\"Relative Squared Error: {0:0.6f}\".format(rse))"
   ]
  },
  {
   "cell_type": "code",
   "execution_count": 98,
   "id": "f54bbb9c",
   "metadata": {},
   "outputs": [
    {
     "data": {
      "image/png": "[encoded data removed]",
      "text/plain": [
       "<Figure size 432x288 with 1 Axes>"
      ]
     },
     "metadata": {
      "needs_background": "light"
     },
     "output_type": "display_data"
    }
   ],
   "source": [
    "plt.scatter(X[3], Y, color=\"green\")\n",
    "plt.grid(linestyle='-')\n",
    "plt.plot(X_test[3].values, predicted_4, color=\"r\", linewidth=3)\n",
    "plt.show()"
   ]
  },
  {
   "cell_type": "markdown",
   "id": "b99ad7af",
   "metadata": {},
   "source": [
    "#### Y и X[5]"
   ]
  },
  {
   "cell_type": "code",
   "execution_count": 100,
   "id": "cb37fee2",
   "metadata": {},
   "outputs": [
    {
     "data": {
      "text/html": [
       "<style>#sk-container-id-8 {color: black;background-color: white;}#sk-container-id-8 pre{padding: 0;}#sk-container-id-8 div.sk-toggleable {background-color: white;}#sk-container-id-8 label.sk-toggleable__label {cursor: pointer;display: block;width: 100%;margin-bottom: 0;padding: 0.3em;box-sizing: border-box;text-align: center;}#sk-container-id-8 label.sk-toggleable__label-arrow:before {content: \"▸\";float: left;margin-right: 0.25em;color: #696969;}#sk-container-id-8 label.sk-toggleable__label-arrow:hover:before {color: black;}#sk-container-id-8 div.sk-estimator:hover label.sk-toggleable__label-arrow:before {color: black;}#sk-container-id-8 div.sk-toggleable__content {max-height: 0;max-width: 0;overflow: hidden;text-align: left;background-color: #f0f8ff;}#sk-container-id-8 div.sk-toggleable__content pre {margin: 0.2em;color: black;border-radius: 0.25em;background-color: #f0f8ff;}#sk-container-id-8 input.sk-toggleable__control:checked~div.sk-toggleable__content {max-height: 200px;max-width: 100%;overflow: auto;}#sk-container-id-8 input.sk-toggleable__control:checked~label.sk-toggleable__label-arrow:before {content: \"▾\";}#sk-container-id-8 div.sk-estimator input.sk-toggleable__control:checked~label.sk-toggleable__label {background-color: #d4ebff;}#sk-container-id-8 div.sk-label input.sk-toggleable__control:checked~label.sk-toggleable__label {background-color: #d4ebff;}#sk-container-id-8 input.sk-hidden--visually {border: 0;clip: rect(1px 1px 1px 1px);clip: rect(1px, 1px, 1px, 1px);height: 1px;margin: -1px;overflow: hidden;padding: 0;position: absolute;width: 1px;}#sk-container-id-8 div.sk-estimator {font-family: monospace;background-color: #f0f8ff;border: 1px dotted black;border-radius: 0.25em;box-sizing: border-box;margin-bottom: 0.5em;}#sk-container-id-8 div.sk-estimator:hover {background-color: #d4ebff;}#sk-container-id-8 div.sk-parallel-item::after {content: \"\";width: 100%;border-bottom: 1px solid gray;flex-grow: 1;}#sk-container-id-8 div.sk-label:hover label.sk-toggleable__label {background-color: #d4ebff;}#sk-container-id-8 div.sk-serial::before {content: \"\";position: absolute;border-left: 1px solid gray;box-sizing: border-box;top: 0;bottom: 0;left: 50%;z-index: 0;}#sk-container-id-8 div.sk-serial {display: flex;flex-direction: column;align-items: center;background-color: white;padding-right: 0.2em;padding-left: 0.2em;position: relative;}#sk-container-id-8 div.sk-item {position: relative;z-index: 1;}#sk-container-id-8 div.sk-parallel {display: flex;align-items: stretch;justify-content: center;background-color: white;position: relative;}#sk-container-id-8 div.sk-item::before, #sk-container-id-8 div.sk-parallel-item::before {content: \"\";position: absolute;border-left: 1px solid gray;box-sizing: border-box;top: 0;bottom: 0;left: 50%;z-index: -1;}#sk-container-id-8 div.sk-parallel-item {display: flex;flex-direction: column;z-index: 1;position: relative;background-color: white;}#sk-container-id-8 div.sk-parallel-item:first-child::after {align-self: flex-end;width: 50%;}#sk-container-id-8 div.sk-parallel-item:last-child::after {align-self: flex-start;width: 50%;}#sk-container-id-8 div.sk-parallel-item:only-child::after {width: 0;}#sk-container-id-8 div.sk-dashed-wrapped {border: 1px dashed gray;margin: 0 0.4em 0.5em 0.4em;box-sizing: border-box;padding-bottom: 0.4em;background-color: white;}#sk-container-id-8 div.sk-label label {font-family: monospace;font-weight: bold;display: inline-block;line-height: 1.2em;}#sk-container-id-8 div.sk-label-container {text-align: center;}#sk-container-id-8 div.sk-container {/* jupyter's `normalize.less` sets `[hidden] { display: none; }` but bootstrap.min.css set `[hidden] { display: none !important; }` so we also need the `!important` here to be able to override the default hidden behavior on the sphinx rendered scikit-learn.org. See: https://github.com/scikit-learn/scikit-learn/issues/21755 */display: inline-block !important;position: relative;}#sk-container-id-8 div.sk-text-repr-fallback {display: none;}</style><div id=\"sk-container-id-8\" class=\"sk-top-container\"><div class=\"sk-text-repr-fallback\"><pre>LinearRegression()</pre><b>In a Jupyter environment, please rerun this cell to show the HTML representation or trust the notebook. <br />On GitHub, the HTML representation is unable to render, please try loading this page with nbviewer.org.</b></div><div class=\"sk-container\" hidden><div class=\"sk-item\"><div class=\"sk-estimator sk-toggleable\"><input class=\"sk-toggleable__control sk-hidden--visually\" id=\"sk-estimator-id-8\" type=\"checkbox\" checked><label for=\"sk-estimator-id-8\" class=\"sk-toggleable__label sk-toggleable__label-arrow\">LinearRegression</label><div class=\"sk-toggleable__content\"><pre>LinearRegression()</pre></div></div></div></div></div>"
      ],
      "text/plain": [
       "LinearRegression()"
      ]
     },
     "execution_count": 100,
     "metadata": {},
     "output_type": "execute_result"
    }
   ],
   "source": [
    "model_5 = linear_model.LinearRegression()\n",
    "x_tr_5 = X_train[4].values.reshape(-1,1)\n",
    "y_tr_5 = y_train.values\n",
    "model_5.fit(x_tr_5, y_tr_5)"
   ]
  },
  {
   "cell_type": "code",
   "execution_count": 102,
   "id": "c863a4f3",
   "metadata": {},
   "outputs": [
    {
     "name": "stdout",
     "output_type": "stream",
     "text": [
      "Коэффициент корреляции 0.1693 показывает что корреляция между тренировочными признаками слабая\n"
     ]
    }
   ],
   "source": [
    "print(f'Коэффициент корреляции {np.round(model_5.score(x_tr_5, y_tr_5), 4)} показывает что корреляция между тренировочными признаками слабая')"
   ]
  },
  {
   "cell_type": "code",
   "execution_count": 103,
   "id": "8888cefe",
   "metadata": {},
   "outputs": [
    {
     "data": {
      "text/plain": [
       "array([[ -81.82169257],\n",
       "       [-106.86563881],\n",
       "       [-159.80822629],\n",
       "       [  63.75900596],\n",
       "       [  42.77183516],\n",
       "       [ -17.18555022],\n",
       "       [ -85.57589347],\n",
       "       [ -49.66240397],\n",
       "       [  51.31822938],\n",
       "       [ -88.15265858],\n",
       "       [   6.5027629 ],\n",
       "       [  -1.43543967],\n",
       "       [   8.1847679 ],\n",
       "       [ -25.73085609],\n",
       "       [ -16.82632439],\n",
       "       [ -17.02207703],\n",
       "       [  -1.87038182],\n",
       "       [-128.27760719],\n",
       "       [  48.87279053],\n",
       "       [-106.7948718 ],\n",
       "       [ -48.13874753],\n",
       "       [  66.59142763],\n",
       "       [ -52.81118933],\n",
       "       [  85.51114606],\n",
       "       [  -8.925508  ]])"
      ]
     },
     "execution_count": 103,
     "metadata": {},
     "output_type": "execute_result"
    }
   ],
   "source": [
    "x_tst_5 = X_test[4].values.reshape(-1,1)\n",
    "y_tst_5 = y_test.values\n",
    "predicted_5 = model_5.predict(x_tst_5)\n",
    "predicted_5"
   ]
  },
  {
   "cell_type": "code",
   "execution_count": 105,
   "id": "e5d3252a",
   "metadata": {},
   "outputs": [],
   "source": [
    "mae = np.mean(abs(predicted_5-y_tst_5))\n",
    "rmse = np.sqrt(np.mean((predicted_5-y_tst_5)**2))\n",
    "rae = np.mean(abs(predicted_5-y_tst_5))/np.mean(abs(y_tst_5-np.mean(y_tst_5)))\n",
    "rse = np.mean((predicted_5-y_tst_5)**2)/np.mean((y_tst_5-np.mean(y_tst_5))**2)"
   ]
  },
  {
   "cell_type": "code",
   "execution_count": 106,
   "id": "8e74c796",
   "metadata": {},
   "outputs": [
    {
     "name": "stdout",
     "output_type": "stream",
     "text": [
      "The R-squared value is: 0.2850\n",
      "Mean Absolute Error: 88.005585\n",
      "Root Mean Squared Error: 102.850745\n",
      "Relative Absolute Error: 0.859626\n",
      "Relative Squared Error: 0.715042\n"
     ]
    }
   ],
   "source": [
    "print(\"The R-squared value is: {0:0.4f}\".format(model_5.score(x_tst_5, y_tst_5))) \n",
    "print(\"Mean Absolute Error: {0:0.6f}\".format(mae)) \n",
    "print(\"Root Mean Squared Error: {0:0.6f}\".format(rmse)) \n",
    "print(\"Relative Absolute Error: {0:0.6f}\".format(rae)) \n",
    "print(\"Relative Squared Error: {0:0.6f}\".format(rse))"
   ]
  },
  {
   "cell_type": "code",
   "execution_count": 107,
   "id": "bdfb3f12",
   "metadata": {},
   "outputs": [
    {
     "data": {
      "image/png": "[encoded data removed]",
      "text/plain": [
       "<Figure size 432x288 with 1 Axes>"
      ]
     },
     "metadata": {
      "needs_background": "light"
     },
     "output_type": "display_data"
    }
   ],
   "source": [
    "plt.scatter(X[4], Y, color=\"green\")\n",
    "plt.grid(linestyle='-')\n",
    "plt.plot(X_test[4].values, predicted_5, color=\"r\", linewidth=3)\n",
    "plt.show()"
   ]
  },
  {
   "cell_type": "markdown",
   "id": "4fbc3f34",
   "metadata": {},
   "source": [
    "#### Y и X[6]"
   ]
  },
  {
   "cell_type": "code",
   "execution_count": 108,
   "id": "7ac0e211",
   "metadata": {},
   "outputs": [
    {
     "data": {
      "text/html": [
       "<style>#sk-container-id-9 {color: black;background-color: white;}#sk-container-id-9 pre{padding: 0;}#sk-container-id-9 div.sk-toggleable {background-color: white;}#sk-container-id-9 label.sk-toggleable__label {cursor: pointer;display: block;width: 100%;margin-bottom: 0;padding: 0.3em;box-sizing: border-box;text-align: center;}#sk-container-id-9 label.sk-toggleable__label-arrow:before {content: \"▸\";float: left;margin-right: 0.25em;color: #696969;}#sk-container-id-9 label.sk-toggleable__label-arrow:hover:before {color: black;}#sk-container-id-9 div.sk-estimator:hover label.sk-toggleable__label-arrow:before {color: black;}#sk-container-id-9 div.sk-toggleable__content {max-height: 0;max-width: 0;overflow: hidden;text-align: left;background-color: #f0f8ff;}#sk-container-id-9 div.sk-toggleable__content pre {margin: 0.2em;color: black;border-radius: 0.25em;background-color: #f0f8ff;}#sk-container-id-9 input.sk-toggleable__control:checked~div.sk-toggleable__content {max-height: 200px;max-width: 100%;overflow: auto;}#sk-container-id-9 input.sk-toggleable__control:checked~label.sk-toggleable__label-arrow:before {content: \"▾\";}#sk-container-id-9 div.sk-estimator input.sk-toggleable__control:checked~label.sk-toggleable__label {background-color: #d4ebff;}#sk-container-id-9 div.sk-label input.sk-toggleable__control:checked~label.sk-toggleable__label {background-color: #d4ebff;}#sk-container-id-9 input.sk-hidden--visually {border: 0;clip: rect(1px 1px 1px 1px);clip: rect(1px, 1px, 1px, 1px);height: 1px;margin: -1px;overflow: hidden;padding: 0;position: absolute;width: 1px;}#sk-container-id-9 div.sk-estimator {font-family: monospace;background-color: #f0f8ff;border: 1px dotted black;border-radius: 0.25em;box-sizing: border-box;margin-bottom: 0.5em;}#sk-container-id-9 div.sk-estimator:hover {background-color: #d4ebff;}#sk-container-id-9 div.sk-parallel-item::after {content: \"\";width: 100%;border-bottom: 1px solid gray;flex-grow: 1;}#sk-container-id-9 div.sk-label:hover label.sk-toggleable__label {background-color: #d4ebff;}#sk-container-id-9 div.sk-serial::before {content: \"\";position: absolute;border-left: 1px solid gray;box-sizing: border-box;top: 0;bottom: 0;left: 50%;z-index: 0;}#sk-container-id-9 div.sk-serial {display: flex;flex-direction: column;align-items: center;background-color: white;padding-right: 0.2em;padding-left: 0.2em;position: relative;}#sk-container-id-9 div.sk-item {position: relative;z-index: 1;}#sk-container-id-9 div.sk-parallel {display: flex;align-items: stretch;justify-content: center;background-color: white;position: relative;}#sk-container-id-9 div.sk-item::before, #sk-container-id-9 div.sk-parallel-item::before {content: \"\";position: absolute;border-left: 1px solid gray;box-sizing: border-box;top: 0;bottom: 0;left: 50%;z-index: -1;}#sk-container-id-9 div.sk-parallel-item {display: flex;flex-direction: column;z-index: 1;position: relative;background-color: white;}#sk-container-id-9 div.sk-parallel-item:first-child::after {align-self: flex-end;width: 50%;}#sk-container-id-9 div.sk-parallel-item:last-child::after {align-self: flex-start;width: 50%;}#sk-container-id-9 div.sk-parallel-item:only-child::after {width: 0;}#sk-container-id-9 div.sk-dashed-wrapped {border: 1px dashed gray;margin: 0 0.4em 0.5em 0.4em;box-sizing: border-box;padding-bottom: 0.4em;background-color: white;}#sk-container-id-9 div.sk-label label {font-family: monospace;font-weight: bold;display: inline-block;line-height: 1.2em;}#sk-container-id-9 div.sk-label-container {text-align: center;}#sk-container-id-9 div.sk-container {/* jupyter's `normalize.less` sets `[hidden] { display: none; }` but bootstrap.min.css set `[hidden] { display: none !important; }` so we also need the `!important` here to be able to override the default hidden behavior on the sphinx rendered scikit-learn.org. See: https://github.com/scikit-learn/scikit-learn/issues/21755 */display: inline-block !important;position: relative;}#sk-container-id-9 div.sk-text-repr-fallback {display: none;}</style><div id=\"sk-container-id-9\" class=\"sk-top-container\"><div class=\"sk-text-repr-fallback\"><pre>LinearRegression()</pre><b>In a Jupyter environment, please rerun this cell to show the HTML representation or trust the notebook. <br />On GitHub, the HTML representation is unable to render, please try loading this page with nbviewer.org.</b></div><div class=\"sk-container\" hidden><div class=\"sk-item\"><div class=\"sk-estimator sk-toggleable\"><input class=\"sk-toggleable__control sk-hidden--visually\" id=\"sk-estimator-id-9\" type=\"checkbox\" checked><label for=\"sk-estimator-id-9\" class=\"sk-toggleable__label sk-toggleable__label-arrow\">LinearRegression</label><div class=\"sk-toggleable__content\"><pre>LinearRegression()</pre></div></div></div></div></div>"
      ],
      "text/plain": [
       "LinearRegression()"
      ]
     },
     "execution_count": 108,
     "metadata": {},
     "output_type": "execute_result"
    }
   ],
   "source": [
    "model_6 = linear_model.LinearRegression()\n",
    "x_tr_6 = X_train[5].values.reshape(-1,1)\n",
    "y_tr_6 = y_train.values\n",
    "model_6.fit(x_tr_6, y_tr_6)"
   ]
  },
  {
   "cell_type": "code",
   "execution_count": 109,
   "id": "e4efcff9",
   "metadata": {},
   "outputs": [
    {
     "name": "stdout",
     "output_type": "stream",
     "text": [
      "Коэффициент корреляции 0.0005 показывает что корреляция между тренировочными признаками слабая\n"
     ]
    }
   ],
   "source": [
    "print(f'Коэффициент корреляции {np.round(model_6.score(x_tr_6, y_tr_6), 4)} показывает что корреляция между тренировочными признаками слабая')"
   ]
  },
  {
   "cell_type": "code",
   "execution_count": 110,
   "id": "cc045b93",
   "metadata": {},
   "outputs": [
    {
     "data": {
      "text/plain": [
       "array([[ -7.32556043],\n",
       "       [-11.58776611],\n",
       "       [ -7.64156384],\n",
       "       [-14.15832807],\n",
       "       [ -8.45520321],\n",
       "       [ -5.63833459],\n",
       "       [ -1.19507281],\n",
       "       [ -5.18055345],\n",
       "       [ -5.84706047],\n",
       "       [ -8.44993884],\n",
       "       [ -9.58673134],\n",
       "       [ -8.01533308],\n",
       "       [ -7.51278683],\n",
       "       [ -2.90183178],\n",
       "       [-13.00162663],\n",
       "       [ -3.83780993],\n",
       "       [ -6.2926361 ],\n",
       "       [ -4.23455974],\n",
       "       [ -7.61472575],\n",
       "       [ -0.83051944],\n",
       "       [ -6.41761705],\n",
       "       [ -7.81636465],\n",
       "       [ -8.35186609],\n",
       "       [ -8.48883704],\n",
       "       [ -5.20559257]])"
      ]
     },
     "execution_count": 110,
     "metadata": {},
     "output_type": "execute_result"
    }
   ],
   "source": [
    "x_tst_6 = X_test[5].values.reshape(-1,1)\n",
    "y_tst_6 = y_test.values\n",
    "predicted_6 = model_6.predict(x_tst_6)\n",
    "predicted_6"
   ]
  },
  {
   "cell_type": "code",
   "execution_count": 111,
   "id": "a4531c06",
   "metadata": {},
   "outputs": [],
   "source": [
    "mae = np.mean(abs(predicted_6-y_tst_6))\n",
    "rmse = np.sqrt(np.mean((predicted_6-y_tst_6)**2))\n",
    "rae = np.mean(abs(predicted_6-y_tst_6))/np.mean(abs(y_tst_6-np.mean(y_tst_6)))\n",
    "rse = np.mean((predicted_6-y_tst_6)**2)/np.mean((y_tst_6-np.mean(y_tst_6))**2)"
   ]
  },
  {
   "cell_type": "code",
   "execution_count": 112,
   "id": "4de00d5c",
   "metadata": {},
   "outputs": [
    {
     "name": "stdout",
     "output_type": "stream",
     "text": [
      "The R-squared value is: -0.0399\n",
      "Mean Absolute Error: 100.154223\n",
      "Root Mean Squared Error: 124.034792\n",
      "Relative Absolute Error: 0.978292\n",
      "Relative Squared Error: 1.039930\n"
     ]
    }
   ],
   "source": [
    "print(\"The R-squared value is: {0:0.4f}\".format(model_6.score(x_tst_6, y_tst_6))) \n",
    "print(\"Mean Absolute Error: {0:0.6f}\".format(mae)) \n",
    "print(\"Root Mean Squared Error: {0:0.6f}\".format(rmse)) \n",
    "print(\"Relative Absolute Error: {0:0.6f}\".format(rae)) \n",
    "print(\"Relative Squared Error: {0:0.6f}\".format(rse))"
   ]
  },
  {
   "cell_type": "code",
   "execution_count": 113,
   "id": "440396fa",
   "metadata": {},
   "outputs": [
    {
     "data": {
      "image/png": "[encoded data removed]",
      "text/plain": [
       "<Figure size 432x288 with 1 Axes>"
      ]
     },
     "metadata": {
      "needs_background": "light"
     },
     "output_type": "display_data"
    }
   ],
   "source": [
    "plt.scatter(X[5], Y, color=\"green\")\n",
    "plt.grid(linestyle='-')\n",
    "plt.plot(X_test[5].values, predicted_6, color=\"r\", linewidth=3)\n",
    "plt.show()"
   ]
  },
  {
   "cell_type": "markdown",
   "id": "37be4ce9",
   "metadata": {},
   "source": [
    "#### Y и X[7]"
   ]
  },
  {
   "cell_type": "code",
   "execution_count": 115,
   "id": "ddb0be8e",
   "metadata": {},
   "outputs": [
    {
     "data": {
      "text/html": [
       "<style>#sk-container-id-10 {color: black;background-color: white;}#sk-container-id-10 pre{padding: 0;}#sk-container-id-10 div.sk-toggleable {background-color: white;}#sk-container-id-10 label.sk-toggleable__label {cursor: pointer;display: block;width: 100%;margin-bottom: 0;padding: 0.3em;box-sizing: border-box;text-align: center;}#sk-container-id-10 label.sk-toggleable__label-arrow:before {content: \"▸\";float: left;margin-right: 0.25em;color: #696969;}#sk-container-id-10 label.sk-toggleable__label-arrow:hover:before {color: black;}#sk-container-id-10 div.sk-estimator:hover label.sk-toggleable__label-arrow:before {color: black;}#sk-container-id-10 div.sk-toggleable__content {max-height: 0;max-width: 0;overflow: hidden;text-align: left;background-color: #f0f8ff;}#sk-container-id-10 div.sk-toggleable__content pre {margin: 0.2em;color: black;border-radius: 0.25em;background-color: #f0f8ff;}#sk-container-id-10 input.sk-toggleable__control:checked~div.sk-toggleable__content {max-height: 200px;max-width: 100%;overflow: auto;}#sk-container-id-10 input.sk-toggleable__control:checked~label.sk-toggleable__label-arrow:before {content: \"▾\";}#sk-container-id-10 div.sk-estimator input.sk-toggleable__control:checked~label.sk-toggleable__label {background-color: #d4ebff;}#sk-container-id-10 div.sk-label input.sk-toggleable__control:checked~label.sk-toggleable__label {background-color: #d4ebff;}#sk-container-id-10 input.sk-hidden--visually {border: 0;clip: rect(1px 1px 1px 1px);clip: rect(1px, 1px, 1px, 1px);height: 1px;margin: -1px;overflow: hidden;padding: 0;position: absolute;width: 1px;}#sk-container-id-10 div.sk-estimator {font-family: monospace;background-color: #f0f8ff;border: 1px dotted black;border-radius: 0.25em;box-sizing: border-box;margin-bottom: 0.5em;}#sk-container-id-10 div.sk-estimator:hover {background-color: #d4ebff;}#sk-container-id-10 div.sk-parallel-item::after {content: \"\";width: 100%;border-bottom: 1px solid gray;flex-grow: 1;}#sk-container-id-10 div.sk-label:hover label.sk-toggleable__label {background-color: #d4ebff;}#sk-container-id-10 div.sk-serial::before {content: \"\";position: absolute;border-left: 1px solid gray;box-sizing: border-box;top: 0;bottom: 0;left: 50%;z-index: 0;}#sk-container-id-10 div.sk-serial {display: flex;flex-direction: column;align-items: center;background-color: white;padding-right: 0.2em;padding-left: 0.2em;position: relative;}#sk-container-id-10 div.sk-item {position: relative;z-index: 1;}#sk-container-id-10 div.sk-parallel {display: flex;align-items: stretch;justify-content: center;background-color: white;position: relative;}#sk-container-id-10 div.sk-item::before, #sk-container-id-10 div.sk-parallel-item::before {content: \"\";position: absolute;border-left: 1px solid gray;box-sizing: border-box;top: 0;bottom: 0;left: 50%;z-index: -1;}#sk-container-id-10 div.sk-parallel-item {display: flex;flex-direction: column;z-index: 1;position: relative;background-color: white;}#sk-container-id-10 div.sk-parallel-item:first-child::after {align-self: flex-end;width: 50%;}#sk-container-id-10 div.sk-parallel-item:last-child::after {align-self: flex-start;width: 50%;}#sk-container-id-10 div.sk-parallel-item:only-child::after {width: 0;}#sk-container-id-10 div.sk-dashed-wrapped {border: 1px dashed gray;margin: 0 0.4em 0.5em 0.4em;box-sizing: border-box;padding-bottom: 0.4em;background-color: white;}#sk-container-id-10 div.sk-label label {font-family: monospace;font-weight: bold;display: inline-block;line-height: 1.2em;}#sk-container-id-10 div.sk-label-container {text-align: center;}#sk-container-id-10 div.sk-container {/* jupyter's `normalize.less` sets `[hidden] { display: none; }` but bootstrap.min.css set `[hidden] { display: none !important; }` so we also need the `!important` here to be able to override the default hidden behavior on the sphinx rendered scikit-learn.org. See: https://github.com/scikit-learn/scikit-learn/issues/21755 */display: inline-block !important;position: relative;}#sk-container-id-10 div.sk-text-repr-fallback {display: none;}</style><div id=\"sk-container-id-10\" class=\"sk-top-container\"><div class=\"sk-text-repr-fallback\"><pre>LinearRegression()</pre><b>In a Jupyter environment, please rerun this cell to show the HTML representation or trust the notebook. <br />On GitHub, the HTML representation is unable to render, please try loading this page with nbviewer.org.</b></div><div class=\"sk-container\" hidden><div class=\"sk-item\"><div class=\"sk-estimator sk-toggleable\"><input class=\"sk-toggleable__control sk-hidden--visually\" id=\"sk-estimator-id-10\" type=\"checkbox\" checked><label for=\"sk-estimator-id-10\" class=\"sk-toggleable__label sk-toggleable__label-arrow\">LinearRegression</label><div class=\"sk-toggleable__content\"><pre>LinearRegression()</pre></div></div></div></div></div>"
      ],
      "text/plain": [
       "LinearRegression()"
      ]
     },
     "execution_count": 115,
     "metadata": {},
     "output_type": "execute_result"
    }
   ],
   "source": [
    "model_7 = linear_model.LinearRegression()\n",
    "x_tr_7 = X_train[6].values.reshape(-1,1)\n",
    "y_tr_7 = y_train.values\n",
    "model_7.fit(x_tr_7, y_tr_7)"
   ]
  },
  {
   "cell_type": "code",
   "execution_count": 116,
   "id": "ad56e79c",
   "metadata": {},
   "outputs": [
    {
     "name": "stdout",
     "output_type": "stream",
     "text": [
      "Коэффициент корреляции 0.495 показывает что корреляция между тренировочными признаками слабая\n"
     ]
    }
   ],
   "source": [
    "print(f'Коэффициент корреляции {np.round(model_7.score(x_tr_7, y_tr_7), 4)} показывает что корреляция между тренировочными признаками слабая')"
   ]
  },
  {
   "cell_type": "code",
   "execution_count": 117,
   "id": "cc678cdb",
   "metadata": {},
   "outputs": [
    {
     "data": {
      "text/plain": [
       "array([[ -89.2836673 ],\n",
       "       [  44.324867  ],\n",
       "       [  13.85708828],\n",
       "       [  18.37350605],\n",
       "       [ -62.60234267],\n",
       "       [-134.05607557],\n",
       "       [ 117.96753857],\n",
       "       [-188.11166204],\n",
       "       [  89.55456073],\n",
       "       [   9.11132274],\n",
       "       [  28.35649796],\n",
       "       [-146.71855374],\n",
       "       [ -31.18041767],\n",
       "       [ -52.71658222],\n",
       "       [  45.96814796],\n",
       "       [  23.81572471],\n",
       "       [  16.40486765],\n",
       "       [-185.6862646 ],\n",
       "       [ -95.87405424],\n",
       "       [ -45.55803106],\n",
       "       [  34.44324129],\n",
       "       [-137.78404076],\n",
       "       [   2.37452881],\n",
       "       [ -28.33480634],\n",
       "       [ -40.52211292]])"
      ]
     },
     "execution_count": 117,
     "metadata": {},
     "output_type": "execute_result"
    }
   ],
   "source": [
    "x_tst_7 = X_test[6].values.reshape(-1,1)\n",
    "y_tst_7 = y_test.values\n",
    "predicted_7 = model_7.predict(x_tst_7)\n",
    "predicted_7"
   ]
  },
  {
   "cell_type": "code",
   "execution_count": 118,
   "id": "28cd93e2",
   "metadata": {},
   "outputs": [],
   "source": [
    "mae = np.mean(abs(predicted_7-y_tst_7))\n",
    "rmse = np.sqrt(np.mean((predicted_7-y_tst_7)**2))\n",
    "rae = np.mean(abs(predicted_7-y_tst_7))/np.mean(abs(y_tst_7-np.mean(y_tst_7)))\n",
    "rse = np.mean((predicted_7-y_tst_7)**2)/np.mean((y_tst_7-np.mean(y_tst_7))**2)"
   ]
  },
  {
   "cell_type": "code",
   "execution_count": 119,
   "id": "4a517db8",
   "metadata": {},
   "outputs": [
    {
     "name": "stdout",
     "output_type": "stream",
     "text": [
      "The R-squared value is: 0.3050\n",
      "Mean Absolute Error: 85.379486\n",
      "Root Mean Squared Error: 101.397970\n",
      "Relative Absolute Error: 0.833975\n",
      "Relative Squared Error: 0.694985\n"
     ]
    }
   ],
   "source": [
    "print(\"The R-squared value is: {0:0.4f}\".format(model_7.score(x_tst_7, y_tst_7))) \n",
    "print(\"Mean Absolute Error: {0:0.6f}\".format(mae)) \n",
    "print(\"Root Mean Squared Error: {0:0.6f}\".format(rmse)) \n",
    "print(\"Relative Absolute Error: {0:0.6f}\".format(rae)) \n",
    "print(\"Relative Squared Error: {0:0.6f}\".format(rse))"
   ]
  },
  {
   "cell_type": "code",
   "execution_count": 120,
   "id": "2e8bedb2",
   "metadata": {},
   "outputs": [
    {
     "data": {
      "image/png": "[encoded data removed]",
      "text/plain": [
       "<Figure size 432x288 with 1 Axes>"
      ]
     },
     "metadata": {
      "needs_background": "light"
     },
     "output_type": "display_data"
    }
   ],
   "source": [
    "plt.scatter(X[6], Y, color=\"green\")\n",
    "plt.grid(linestyle='-')\n",
    "plt.plot(X_test[6].values, predicted_7, color=\"r\", linewidth=3)\n",
    "plt.show()"
   ]
  },
  {
   "cell_type": "markdown",
   "id": "63b23aab",
   "metadata": {},
   "source": [
    "### Множественная (по всем столбцам X)"
   ]
  },
  {
   "cell_type": "code",
   "execution_count": 72,
   "id": "b667cd1f",
   "metadata": {},
   "outputs": [],
   "source": [
    "# # Split the dataset: 80% vs 20% \n",
    "# X_train, X_test, y_train, y_test = train_test_split(X, Y, test_size=0.2, random_state=123)"
   ]
  },
  {
   "cell_type": "code",
   "execution_count": 121,
   "id": "5ac1da3a",
   "metadata": {},
   "outputs": [
    {
     "data": {
      "text/html": [
       "<style>#sk-container-id-11 {color: black;background-color: white;}#sk-container-id-11 pre{padding: 0;}#sk-container-id-11 div.sk-toggleable {background-color: white;}#sk-container-id-11 label.sk-toggleable__label {cursor: pointer;display: block;width: 100%;margin-bottom: 0;padding: 0.3em;box-sizing: border-box;text-align: center;}#sk-container-id-11 label.sk-toggleable__label-arrow:before {content: \"▸\";float: left;margin-right: 0.25em;color: #696969;}#sk-container-id-11 label.sk-toggleable__label-arrow:hover:before {color: black;}#sk-container-id-11 div.sk-estimator:hover label.sk-toggleable__label-arrow:before {color: black;}#sk-container-id-11 div.sk-toggleable__content {max-height: 0;max-width: 0;overflow: hidden;text-align: left;background-color: #f0f8ff;}#sk-container-id-11 div.sk-toggleable__content pre {margin: 0.2em;color: black;border-radius: 0.25em;background-color: #f0f8ff;}#sk-container-id-11 input.sk-toggleable__control:checked~div.sk-toggleable__content {max-height: 200px;max-width: 100%;overflow: auto;}#sk-container-id-11 input.sk-toggleable__control:checked~label.sk-toggleable__label-arrow:before {content: \"▾\";}#sk-container-id-11 div.sk-estimator input.sk-toggleable__control:checked~label.sk-toggleable__label {background-color: #d4ebff;}#sk-container-id-11 div.sk-label input.sk-toggleable__control:checked~label.sk-toggleable__label {background-color: #d4ebff;}#sk-container-id-11 input.sk-hidden--visually {border: 0;clip: rect(1px 1px 1px 1px);clip: rect(1px, 1px, 1px, 1px);height: 1px;margin: -1px;overflow: hidden;padding: 0;position: absolute;width: 1px;}#sk-container-id-11 div.sk-estimator {font-family: monospace;background-color: #f0f8ff;border: 1px dotted black;border-radius: 0.25em;box-sizing: border-box;margin-bottom: 0.5em;}#sk-container-id-11 div.sk-estimator:hover {background-color: #d4ebff;}#sk-container-id-11 div.sk-parallel-item::after {content: \"\";width: 100%;border-bottom: 1px solid gray;flex-grow: 1;}#sk-container-id-11 div.sk-label:hover label.sk-toggleable__label {background-color: #d4ebff;}#sk-container-id-11 div.sk-serial::before {content: \"\";position: absolute;border-left: 1px solid gray;box-sizing: border-box;top: 0;bottom: 0;left: 50%;z-index: 0;}#sk-container-id-11 div.sk-serial {display: flex;flex-direction: column;align-items: center;background-color: white;padding-right: 0.2em;padding-left: 0.2em;position: relative;}#sk-container-id-11 div.sk-item {position: relative;z-index: 1;}#sk-container-id-11 div.sk-parallel {display: flex;align-items: stretch;justify-content: center;background-color: white;position: relative;}#sk-container-id-11 div.sk-item::before, #sk-container-id-11 div.sk-parallel-item::before {content: \"\";position: absolute;border-left: 1px solid gray;box-sizing: border-box;top: 0;bottom: 0;left: 50%;z-index: -1;}#sk-container-id-11 div.sk-parallel-item {display: flex;flex-direction: column;z-index: 1;position: relative;background-color: white;}#sk-container-id-11 div.sk-parallel-item:first-child::after {align-self: flex-end;width: 50%;}#sk-container-id-11 div.sk-parallel-item:last-child::after {align-self: flex-start;width: 50%;}#sk-container-id-11 div.sk-parallel-item:only-child::after {width: 0;}#sk-container-id-11 div.sk-dashed-wrapped {border: 1px dashed gray;margin: 0 0.4em 0.5em 0.4em;box-sizing: border-box;padding-bottom: 0.4em;background-color: white;}#sk-container-id-11 div.sk-label label {font-family: monospace;font-weight: bold;display: inline-block;line-height: 1.2em;}#sk-container-id-11 div.sk-label-container {text-align: center;}#sk-container-id-11 div.sk-container {/* jupyter's `normalize.less` sets `[hidden] { display: none; }` but bootstrap.min.css set `[hidden] { display: none !important; }` so we also need the `!important` here to be able to override the default hidden behavior on the sphinx rendered scikit-learn.org. See: https://github.com/scikit-learn/scikit-learn/issues/21755 */display: inline-block !important;position: relative;}#sk-container-id-11 div.sk-text-repr-fallback {display: none;}</style><div id=\"sk-container-id-11\" class=\"sk-top-container\"><div class=\"sk-text-repr-fallback\"><pre>LinearRegression()</pre><b>In a Jupyter environment, please rerun this cell to show the HTML representation or trust the notebook. <br />On GitHub, the HTML representation is unable to render, please try loading this page with nbviewer.org.</b></div><div class=\"sk-container\" hidden><div class=\"sk-item\"><div class=\"sk-estimator sk-toggleable\"><input class=\"sk-toggleable__control sk-hidden--visually\" id=\"sk-estimator-id-11\" type=\"checkbox\" checked><label for=\"sk-estimator-id-11\" class=\"sk-toggleable__label sk-toggleable__label-arrow\">LinearRegression</label><div class=\"sk-toggleable__content\"><pre>LinearRegression()</pre></div></div></div></div></div>"
      ],
      "text/plain": [
       "LinearRegression()"
      ]
     },
     "execution_count": 121,
     "metadata": {},
     "output_type": "execute_result"
    }
   ],
   "source": [
    "lm_multiple = linear_model.LinearRegression()\n",
    "lm_multiple.fit(X_train, y_train)"
   ]
  },
  {
   "cell_type": "code",
   "execution_count": 123,
   "id": "f52bea79",
   "metadata": {},
   "outputs": [
    {
     "name": "stdout",
     "output_type": "stream",
     "text": [
      "The R-squared value is: 0.9953 \n",
      "\n"
     ]
    }
   ],
   "source": [
    "print(\"The R-squared value is: {0:0.4f} \\n\".format(lm_multiple.score(X_train, y_train)))"
   ]
  },
  {
   "cell_type": "code",
   "execution_count": 124,
   "id": "2a128030",
   "metadata": {},
   "outputs": [
    {
     "data": {
      "text/plain": [
       "array([[ -23.23319802],\n",
       "       [  50.45763197],\n",
       "       [ -54.3583359 ],\n",
       "       [  23.1159156 ],\n",
       "       [ -10.05291448],\n",
       "       [ -63.35925475],\n",
       "       [  24.10754292],\n",
       "       [-181.59140832],\n",
       "       [ 250.57346062],\n",
       "       [-222.24763695],\n",
       "       [   3.85023991],\n",
       "       [-186.66252953],\n",
       "       [  64.61702523],\n",
       "       [-120.25297205],\n",
       "       [ 139.06889349],\n",
       "       [  96.60647131],\n",
       "       [ 105.86348876],\n",
       "       [-266.31883782],\n",
       "       [  43.75806327],\n",
       "       [-178.81273485],\n",
       "       [   4.4171741 ],\n",
       "       [  62.30729812],\n",
       "       [-106.20627699],\n",
       "       [  88.96138657],\n",
       "       [-157.62757426]])"
      ]
     },
     "execution_count": 124,
     "metadata": {},
     "output_type": "execute_result"
    }
   ],
   "source": [
    "predicted = lm_multiple.predict(X_test)\n",
    "predicted"
   ]
  },
  {
   "cell_type": "code",
   "execution_count": 127,
   "id": "aaa05ad0",
   "metadata": {},
   "outputs": [],
   "source": [
    "mae1 = np.mean(abs(predicted-y_test))\n",
    "rmse1 = np.sqrt(np.mean((predicted-y_test)**2))\n",
    "rae1 = np.mean(abs(predicted-y_test))/np.mean(abs(y_test-np.mean(y_test)))\n",
    "rse1 = np.mean((predicted-y_test)**2)/np.mean((y_test-np.mean(y_test))**2)"
   ]
  },
  {
   "cell_type": "code",
   "execution_count": 129,
   "id": "aab7b95d",
   "metadata": {},
   "outputs": [
    {
     "name": "stdout",
     "output_type": "stream",
     "text": [
      "The R-squared value is: 0.9937\n",
      "Mean Absolute Error: 7.396176\n",
      "Root Mean Squared Error: 9.682292\n",
      "Relative Absolute Error: 0.072245\n",
      "Relative Squared Error: 0.006337\n"
     ]
    }
   ],
   "source": [
    "print(\"The R-squared value is: {0:0.4f}\".format(lm_multiple.score(X_test, y_test))) \n",
    "print(\"Mean Absolute Error: {0:0.6f}\".format(mae1[0])) \n",
    "print(\"Root Mean Squared Error: {0:0.6f}\".format(rmse1[0])) \n",
    "print(\"Relative Absolute Error: {0:0.6f}\".format(rae1[0])) \n",
    "print(\"Relative Squared Error: {0:0.6f}\".format(rse1[0])) "
   ]
  },
  {
   "attachments": {
    "image-4.png": {
     "image/png": "[encoded data removed]"
    },
    "image-5.png": {
     "image/png": "[encoded data removed]"
    },
    "image-6.png": {
     "image/png": "[encoded data removed]"
    }
   },
   "cell_type": "markdown",
   "id": "a518ff26",
   "metadata": {},
   "source": [
    "### Какие метрики эффективности можно применять для оценки регрессионных моделей?\n",
    "Среднеквадратичная ошибка (RMSE) и средняя абсолютная ошибка (MAE). Эти показатели говорят нам, насколько точны наши прогнозы и какова величина отклонения от фактических значений.\n",
    "\n",
    "Технически, RMSE — это корень среднего квадрата ошибок, а MAE — Средняя абсолютная ошибка (или среднее абсолютное отклонение) -  определяет среднее абсолютное расстояние между прогнозируемыми и целевыми значениями.\n",
    "\n",
    "MSE\n",
    "«Среднеквадратическая ошибка» -  находит среднеквадратичную ошибку между прогнозируемыми и фактическими значениями.\n",
    "\n",
    "MAE более устойчив к выбросам, чем MSE.  в MSE путем возведения в квадрат ошибок, выбросы (которые обычно имеют более высокие ошибки, чем другие выборки) получают больше внимания и доминируют в окончательной ошибке и влияют на параметры модели.\n",
    "\n",
    "Коэффициент детерминации (R2) – наиболее распространённая статистика для оценки качества модели\n",
    "\n",
    "![image-6.png](attachment:image-6.png)\n",
    "![image-4.png](attachment:image-4.png)\n",
    "![image-5.png](attachment:image-5.png)"
   ]
  },
  {
   "cell_type": "markdown",
   "id": "2b5f5e5e",
   "metadata": {},
   "source": [
    "### Дополнительные задания\n",
    "\n",
    "1) Для целевой переменной и каждого из признаков постройте полиномиальную регрессию второго, третьего и десятого порядков. Сделайте вывод о значимости регрессии.\n",
    "\n",
    "2) Постройте сводную таблицу показателей точности всех построенных моделей по тестовой и обучающей выборке. Сделайте вывод, какие модели переобученнные, какие - недообученные.\n",
    "\n",
    "3) Используйте другие метрики качества регрессионной модели в дополнение к коэффициенту детерминации.\n",
    "\n",
    "4) (*) Замерьте время обучения на разных объемах данных и количестве признаков. Сделайте вывод о зависимости скорости обучения от объема обучающей выборки."
   ]
  },
  {
   "cell_type": "code",
   "execution_count": 78,
   "id": "bb7edfd0",
   "metadata": {},
   "outputs": [],
   "source": [
    "p2 = PolynomialFeatures(degree=2)\n",
    "p3 = PolynomialFeatures(degree=3)\n",
    "p10 = PolynomialFeatures(degree=10)\n",
    "svt1=pd.DataFrame(columns=['Полином','Данные','R^2','MSE','MeaAE','MedAE', 'RMSE'])\n",
    "svt2=pd.DataFrame(columns=['Полином','Данные','R^2','MSE','MeaAE','MedAE', 'RMSE'])\n",
    "svt3=pd.DataFrame(columns=['Полином','Данные','R^2','MSE','MeaAE','MedAE', 'RMSE'])"
   ]
  },
  {
   "cell_type": "code",
   "execution_count": 81,
   "id": "413fe0bc",
   "metadata": {},
   "outputs": [
    {
     "data": {
      "image/png": "[encoded data removed]",
      "text/plain": [
       "<Figure size 432x288 with 1 Axes>"
      ]
     },
     "metadata": {},
     "output_type": "display_data"
    }
   ],
   "source": [
    "x1_tr=p2.fit_transform(X_train[0].values.reshape(-1,1))\n",
    "x1_te=p2.fit_transform(X_test[0].values.reshape(-1,1))\n",
    "r = linear_model.LinearRegression().fit(x1_tr, y_train)\n",
    "x=np.linspace(min(X_train[0]),max(X_train[0]))\n",
    "y_pred = r.predict(p2.fit_transform(x.reshape(-1,1)))\n",
    "plt.scatter(X[0].values, Y, color=\"green\")\n",
    "plt.plot(x, y_pred, color=\"r\", linewidth=3)\n",
    "plt.show()"
   ]
  },
  {
   "cell_type": "code",
   "execution_count": 84,
   "id": "914d8fe5",
   "metadata": {},
   "outputs": [
    {
     "data": {
      "text/html": [
       "<div>\n",
       "<style scoped>\n",
       "    .dataframe tbody tr th:only-of-type {\n",
       "        vertical-align: middle;\n",
       "    }\n",
       "\n",
       "    .dataframe tbody tr th {\n",
       "        vertical-align: top;\n",
       "    }\n",
       "\n",
       "    .dataframe thead th {\n",
       "        text-align: right;\n",
       "    }\n",
       "</style>\n",
       "<table border=\"1\" class=\"dataframe\">\n",
       "  <thead>\n",
       "    <tr style=\"text-align: right;\">\n",
       "      <th></th>\n",
       "      <th>Полином</th>\n",
       "      <th>Данные</th>\n",
       "      <th>R^2</th>\n",
       "      <th>MSE</th>\n",
       "      <th>MeaAE</th>\n",
       "      <th>MedAE</th>\n",
       "      <th>RMSE</th>\n",
       "    </tr>\n",
       "  </thead>\n",
       "  <tbody>\n",
       "    <tr>\n",
       "      <th>0</th>\n",
       "      <td>2-й степени</td>\n",
       "      <td>Train</td>\n",
       "      <td>0.080793</td>\n",
       "      <td>17506.757463</td>\n",
       "      <td>111.939088</td>\n",
       "      <td>98.179751</td>\n",
       "      <td>132.313104</td>\n",
       "    </tr>\n",
       "    <tr>\n",
       "      <th>1</th>\n",
       "      <td>2-й степени</td>\n",
       "      <td>Test</td>\n",
       "      <td>0.087449</td>\n",
       "      <td>13500.204332</td>\n",
       "      <td>88.240872</td>\n",
       "      <td>59.161774</td>\n",
       "      <td>116.190380</td>\n",
       "    </tr>\n",
       "    <tr>\n",
       "      <th>2</th>\n",
       "      <td>2-й степени</td>\n",
       "      <td>Train</td>\n",
       "      <td>0.080793</td>\n",
       "      <td>17506.757463</td>\n",
       "      <td>111.939088</td>\n",
       "      <td>98.179751</td>\n",
       "      <td>132.313104</td>\n",
       "    </tr>\n",
       "    <tr>\n",
       "      <th>3</th>\n",
       "      <td>2-й степени</td>\n",
       "      <td>Test</td>\n",
       "      <td>0.087449</td>\n",
       "      <td>13500.204332</td>\n",
       "      <td>88.240872</td>\n",
       "      <td>59.161774</td>\n",
       "      <td>116.190380</td>\n",
       "    </tr>\n",
       "  </tbody>\n",
       "</table>\n",
       "</div>"
      ],
      "text/plain": [
       "       Полином Данные       R^2           MSE       MeaAE      MedAE  \\\n",
       "0  2-й степени  Train  0.080793  17506.757463  111.939088  98.179751   \n",
       "1  2-й степени   Test  0.087449  13500.204332   88.240872  59.161774   \n",
       "2  2-й степени  Train  0.080793  17506.757463  111.939088  98.179751   \n",
       "3  2-й степени   Test  0.087449  13500.204332   88.240872  59.161774   \n",
       "\n",
       "         RMSE  \n",
       "0  132.313104  \n",
       "1  116.190380  \n",
       "2  132.313104  \n",
       "3  116.190380  "
      ]
     },
     "execution_count": 84,
     "metadata": {},
     "output_type": "execute_result"
    }
   ],
   "source": [
    "x1_tr=p2.fit_transform(X_train[0].values.reshape(-1,1))\n",
    "x1_te=p2.fit_transform(X_test[0].values.reshape(-1,1))\n",
    "y_pred1 = r.predict(x1_tr)\n",
    "y_pred2 = r.predict(x1_te)\n",
    "r2_tr = r2_score(y_train,y_pred1)\n",
    "MSE_tr = mean_squared_error(y_train,y_pred1)\n",
    "MeaAE_tr = mean_absolute_error(y_train,y_pred1)\n",
    "MedAE_tr = median_absolute_error(y_train,y_pred1)\n",
    "RMSE_tr = np.sqrt(MSE_tr)\n",
    "r2_te = r2_score(y_test,y_pred2)\n",
    "MSE_te = mean_squared_error(y_test,y_pred2)\n",
    "MeaAE_te = mean_absolute_error(y_test,y_pred2)\n",
    "MedAE_te = median_absolute_error(y_test,y_pred2)\n",
    "RMSE_te = np.sqrt(MSE_te)\n",
    "svt11 = pd.DataFrame([['2-й степени','Train',r2_tr, MSE_tr,MeaAE_tr,MedAE_tr, RMSE_tr]],columns = ['Полином','Данные','R^2','MSE','MeaAE','MedAE', 'RMSE'])\n",
    "svt1 = pd.concat([svt1,svt11],ignore_index=True)\n",
    "svt12 = pd.DataFrame([['2-й степени','Test',r2_te, MSE_te,MeaAE_te,MedAE_te, RMSE_te]],columns = ['Полином','Данные','R^2','MSE','MeaAE','MedAE', 'RMSE'])\n",
    "svt1 = pd.concat([svt1,svt12],ignore_index=True)\n",
    "svt1"
   ]
  }
 ],
 "metadata": {
  "kernelspec": {
   "display_name": "Python 3",
   "language": "python",
   "name": "python3"
  },
  "language_info": {
   "codemirror_mode": {
    "name": "ipython",
    "version": 3
   },
   "file_extension": ".py",
   "mimetype": "text/x-python",
   "name": "python",
   "nbconvert_exporter": "python",
   "pygments_lexer": "ipython3",
   "version": "3.8.8"
  }
 },
 "nbformat": 4,
 "nbformat_minor": 5
}
