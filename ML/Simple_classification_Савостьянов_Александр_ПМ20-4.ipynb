{
 "cells": [
  {
   "cell_type": "markdown",
   "id": "f8fe6d51",
   "metadata": {},
   "source": [
    "# Методы метрической классификации\n",
    "\n",
    "## Задания для выполнения\n",
    "1) Загрузите данные о диагностике сахарного диабета;\n",
    "\n",
    "2) Разделите эти данные на тестовую и обучающую выборки;\n",
    "\n",
    "3) Постройте модель классификации для определения заболевания;\n",
    "\n",
    "4) Оцените качество модели на тестовой выборке с помощью следующих метрик:\n",
    "\n",
    "    - достоверность предсказания (accuracy);\n",
    "    - точность (precision);\n",
    "    - полнота (recall);\n",
    "    \n",
    "5) Сделайте вывод о применимости модели."
   ]
  },
  {
   "cell_type": "markdown",
   "id": "957cea34",
   "metadata": {},
   "source": [
    "#### Загрузим необходимые библиотеки"
   ]
  },
  {
   "cell_type": "code",
   "execution_count": 10,
   "id": "714cc087",
   "metadata": {},
   "outputs": [],
   "source": [
    "import  numpy as np\n",
    "import pandas as pd\n",
    "import seaborn as sns\n",
    "from sklearn import svm\n",
    "from sklearn import metrics\n",
    "import matplotlib.pyplot as plt\n",
    "from sklearn.neural_network import MLPClassifier\n",
    "from sklearn.neighbors import KNeighborsClassifier\n",
    "from sklearn.linear_model import LogisticRegression\n",
    "from sklearn.model_selection import train_test_split"
   ]
  },
  {
   "cell_type": "code",
   "execution_count": 2,
   "id": "794232c0",
   "metadata": {},
   "outputs": [],
   "source": [
    "col_names = ['pregnant', 'glucose', 'bp', 'skin', \n",
    "             'insulin', 'bmi', 'pedigree', 'age', 'label']\n",
    "pima = pd.read_csv('diabetes.csv', header=None, names=col_names)\n",
    "pima = pima[1:]"
   ]
  },
  {
   "cell_type": "code",
   "execution_count": 3,
   "id": "0a8d55e2",
   "metadata": {},
   "outputs": [
    {
     "data": {
      "text/html": [
       "<div>\n",
       "<style scoped>\n",
       "    .dataframe tbody tr th:only-of-type {\n",
       "        vertical-align: middle;\n",
       "    }\n",
       "\n",
       "    .dataframe tbody tr th {\n",
       "        vertical-align: top;\n",
       "    }\n",
       "\n",
       "    .dataframe thead th {\n",
       "        text-align: right;\n",
       "    }\n",
       "</style>\n",
       "<table border=\"1\" class=\"dataframe\">\n",
       "  <thead>\n",
       "    <tr style=\"text-align: right;\">\n",
       "      <th></th>\n",
       "      <th>pregnant</th>\n",
       "      <th>glucose</th>\n",
       "      <th>bp</th>\n",
       "      <th>skin</th>\n",
       "      <th>insulin</th>\n",
       "      <th>bmi</th>\n",
       "      <th>pedigree</th>\n",
       "      <th>age</th>\n",
       "      <th>label</th>\n",
       "    </tr>\n",
       "  </thead>\n",
       "  <tbody>\n",
       "    <tr>\n",
       "      <th>1</th>\n",
       "      <td>6</td>\n",
       "      <td>148</td>\n",
       "      <td>72</td>\n",
       "      <td>35</td>\n",
       "      <td>0</td>\n",
       "      <td>33.6</td>\n",
       "      <td>0.627</td>\n",
       "      <td>50</td>\n",
       "      <td>1</td>\n",
       "    </tr>\n",
       "    <tr>\n",
       "      <th>2</th>\n",
       "      <td>1</td>\n",
       "      <td>85</td>\n",
       "      <td>66</td>\n",
       "      <td>29</td>\n",
       "      <td>0</td>\n",
       "      <td>26.6</td>\n",
       "      <td>0.351</td>\n",
       "      <td>31</td>\n",
       "      <td>0</td>\n",
       "    </tr>\n",
       "    <tr>\n",
       "      <th>3</th>\n",
       "      <td>8</td>\n",
       "      <td>183</td>\n",
       "      <td>64</td>\n",
       "      <td>0</td>\n",
       "      <td>0</td>\n",
       "      <td>23.3</td>\n",
       "      <td>0.672</td>\n",
       "      <td>32</td>\n",
       "      <td>1</td>\n",
       "    </tr>\n",
       "    <tr>\n",
       "      <th>4</th>\n",
       "      <td>1</td>\n",
       "      <td>89</td>\n",
       "      <td>66</td>\n",
       "      <td>23</td>\n",
       "      <td>94</td>\n",
       "      <td>28.1</td>\n",
       "      <td>0.167</td>\n",
       "      <td>21</td>\n",
       "      <td>0</td>\n",
       "    </tr>\n",
       "    <tr>\n",
       "      <th>5</th>\n",
       "      <td>0</td>\n",
       "      <td>137</td>\n",
       "      <td>40</td>\n",
       "      <td>35</td>\n",
       "      <td>168</td>\n",
       "      <td>43.1</td>\n",
       "      <td>2.288</td>\n",
       "      <td>33</td>\n",
       "      <td>1</td>\n",
       "    </tr>\n",
       "  </tbody>\n",
       "</table>\n",
       "</div>"
      ],
      "text/plain": [
       "  pregnant glucose  bp skin insulin   bmi pedigree age label\n",
       "1        6     148  72   35       0  33.6    0.627  50     1\n",
       "2        1      85  66   29       0  26.6    0.351  31     0\n",
       "3        8     183  64    0       0  23.3    0.672  32     1\n",
       "4        1      89  66   23      94  28.1    0.167  21     0\n",
       "5        0     137  40   35     168  43.1    2.288  33     1"
      ]
     },
     "execution_count": 3,
     "metadata": {},
     "output_type": "execute_result"
    }
   ],
   "source": [
    "pima.head()"
   ]
  },
  {
   "cell_type": "markdown",
   "id": "faf341a4",
   "metadata": {},
   "source": [
    "При проведении серьезного анализа перед построением модели машинного обучения нужно провести тщательную обработку и очистку набора данных - удаление пропущенных значений, анализ шкал, нормализация, удаление выбросов и аномалий. Используемый нами набор - сам по себе довольно чистый, потому в учебных целях пропустим этот шаг."
   ]
  },
  {
   "cell_type": "markdown",
   "id": "41ba8dc3",
   "metadata": {},
   "source": [
    "Выделим целевую переменную и факторы:"
   ]
  },
  {
   "cell_type": "code",
   "execution_count": 4,
   "id": "f639a03d",
   "metadata": {},
   "outputs": [],
   "source": [
    "Y = pima.label\n",
    "X = pima.drop(['label'], axis=1)"
   ]
  },
  {
   "cell_type": "markdown",
   "id": "7e6a661e",
   "metadata": {},
   "source": [
    "Разделим набор данных на обучающую и тестовую выборки:"
   ]
  },
  {
   "cell_type": "code",
   "execution_count": 5,
   "id": "21b68f86",
   "metadata": {},
   "outputs": [],
   "source": [
    "x_train, x_test, y_train, y_test = train_test_split(X, Y, \n",
    "                                                    test_size=0.2,\n",
    "                                                    random_state=True)"
   ]
  },
  {
   "cell_type": "markdown",
   "id": "5c459c92",
   "metadata": {},
   "source": [
    "В данном случае мы используем удобную встроенную функцию sklearn для разбиения выборки. Мы используем соотношение 80/20 для обучающей и тестовой выборки. Соотношение может колебаться и зависит от множества факторов, но 80/20 - хорошее значение по умолчанию."
   ]
  },
  {
   "cell_type": "markdown",
   "id": "0987385f",
   "metadata": {},
   "source": [
    "## Логическая регрессия"
   ]
  },
  {
   "cell_type": "markdown",
   "id": "cb404818",
   "metadata": {},
   "source": [
    "Построим модель логистической регрессии:"
   ]
  },
  {
   "cell_type": "code",
   "execution_count": 6,
   "id": "bbe38e2a",
   "metadata": {},
   "outputs": [],
   "source": [
    "cls = LogisticRegression()"
   ]
  },
  {
   "cell_type": "markdown",
   "id": "08ee6217",
   "metadata": {},
   "source": [
    "Обучим наш классификатор на обучающей выборке"
   ]
  },
  {
   "cell_type": "code",
   "execution_count": 7,
   "id": "c76e85a7",
   "metadata": {},
   "outputs": [
    {
     "name": "stderr",
     "output_type": "stream",
     "text": [
      "C:\\Users\\sanha\\anaconda3\\lib\\site-packages\\sklearn\\linear_model\\_logistic.py:814: ConvergenceWarning: lbfgs failed to converge (status=1):\n",
      "STOP: TOTAL NO. of ITERATIONS REACHED LIMIT.\n",
      "\n",
      "Increase the number of iterations (max_iter) or scale the data as shown in:\n",
      "    https://scikit-learn.org/stable/modules/preprocessing.html\n",
      "Please also refer to the documentation for alternative solver options:\n",
      "    https://scikit-learn.org/stable/modules/linear_model.html#logistic-regression\n",
      "  n_iter_i = _check_optimize_result(\n"
     ]
    },
    {
     "data": {
      "text/plain": [
       "LogisticRegression()"
      ]
     },
     "execution_count": 7,
     "metadata": {},
     "output_type": "execute_result"
    }
   ],
   "source": [
    "cls.fit(x_train, y_train)"
   ]
  },
  {
   "cell_type": "markdown",
   "id": "e351ee5a",
   "metadata": {},
   "source": [
    "Сделаем предсказания по нашему классификатору на тестовой выборке для оценки эффективности полученной модели"
   ]
  },
  {
   "cell_type": "code",
   "execution_count": 8,
   "id": "79164346",
   "metadata": {},
   "outputs": [],
   "source": [
    "y_pred = cls.predict(x_test)"
   ]
  },
  {
   "cell_type": "markdown",
   "id": "98a18723",
   "metadata": {},
   "source": [
    "Оценим эффективность предсказания тестовой выборки при помощи матрицы классификации:"
   ]
  },
  {
   "cell_type": "code",
   "execution_count": 11,
   "id": "2379ff5f",
   "metadata": {},
   "outputs": [
    {
     "data": {
      "image/png": "[encoded data removed]",
      "text/plain": [
       "<Figure size 432x288 with 2 Axes>"
      ]
     },
     "metadata": {
      "needs_background": "light"
     },
     "output_type": "display_data"
    }
   ],
   "source": [
    "%matplotlib inline\n",
    "class_names = [0, 1]\n",
    "fig, ax = plt.subplots()\n",
    "ticks = np.arange(len(class_names))\n",
    "plt.xticks(ticks, class_names)\n",
    "plt.yticks(ticks, class_names)\n",
    "sns.heatmap(pd.DataFrame(\n",
    "    metrics.confusion_matrix(y_test, y_pred)),\n",
    "    annot=True)\n",
    "plt.ylabel('Действительные значения')\n",
    "plt.xlabel('Предсказанные значения')\n",
    "plt.show()"
   ]
  },
  {
   "cell_type": "markdown",
   "id": "2c65ed40",
   "metadata": {},
   "source": [
    "#### Что это означает?\n",
    "89 - это кол-во тех людей, у которых нет диабета и модель предсказала это верно\n",
    "\n",
    "31 - это кол-во тех людей, у которых есть диабет и модель предсказала это верно\n",
    "\n",
    "24 - это кол-во тех людей, у которых в действительности есть диабет, но модель предсказала, что его нет (плохо)\n",
    "\n",
    "10 - это кол-во людей, у которых нет диабета, но модель предсказала, что он есть (плохо, но не очень)\n",
    "\n",
    "#### Как это называется\n",
    "89 - true negative, классификатор верно утверждает, что объект не принадлежит к рассматриваемому классу.\n",
    "\n",
    "24 - false negative, классификатор неверно утверждает, что объект не принадлежит к рассматриваемому классу.\n",
    "\n",
    "31 - true positive, классификатор верно отнёс объект к рассматриваемому классу.\n",
    "\n",
    "10 - false positive, классификатор неверно отнёс объект к рассматриваемому классу."
   ]
  },
  {
   "cell_type": "markdown",
   "id": "db450129",
   "metadata": {},
   "source": [
    "### Метрика достоверности предсказания:"
   ]
  },
  {
   "cell_type": "code",
   "execution_count": 12,
   "id": "cc8f6f08",
   "metadata": {},
   "outputs": [
    {
     "data": {
      "text/plain": [
       "0.7792207792207793"
      ]
     },
     "execution_count": 12,
     "metadata": {},
     "output_type": "execute_result"
    }
   ],
   "source": [
    "metrics.accuracy_score(y_test, y_pred)"
   ]
  },
  {
   "cell_type": "markdown",
   "id": "eb28a71f",
   "metadata": {},
   "source": [
    "### Метрика точности:"
   ]
  },
  {
   "cell_type": "code",
   "execution_count": 13,
   "id": "0adc1f11",
   "metadata": {},
   "outputs": [
    {
     "data": {
      "text/plain": [
       "0.7560975609756098"
      ]
     },
     "execution_count": 13,
     "metadata": {},
     "output_type": "execute_result"
    }
   ],
   "source": [
    "metrics.precision_score(y_test, y_pred, pos_label=\"1\")"
   ]
  },
  {
   "cell_type": "markdown",
   "id": "ce14a89c",
   "metadata": {},
   "source": [
    "### Метрика полноты:"
   ]
  },
  {
   "cell_type": "code",
   "execution_count": 14,
   "id": "448e1f9f",
   "metadata": {},
   "outputs": [
    {
     "data": {
      "text/plain": [
       "0.5636363636363636"
      ]
     },
     "execution_count": 14,
     "metadata": {},
     "output_type": "execute_result"
    }
   ],
   "source": [
    "metrics.recall_score(y_test, y_pred, pos_label=\"1\") # выявление болезни (даже если человек не болеет то можно перепроверить его болезнь)"
   ]
  },
  {
   "cell_type": "markdown",
   "id": "20ff0509",
   "metadata": {},
   "source": [
    "## Метод опорных векторов"
   ]
  },
  {
   "cell_type": "code",
   "execution_count": 15,
   "id": "f535a4f9",
   "metadata": {},
   "outputs": [],
   "source": [
    "clf = svm.SVC()"
   ]
  },
  {
   "cell_type": "code",
   "execution_count": 16,
   "id": "f6ea6d15",
   "metadata": {},
   "outputs": [
    {
     "data": {
      "text/plain": [
       "SVC()"
      ]
     },
     "execution_count": 16,
     "metadata": {},
     "output_type": "execute_result"
    }
   ],
   "source": [
    "clf.fit(x_train, y_train)"
   ]
  },
  {
   "cell_type": "code",
   "execution_count": 17,
   "id": "9be1db23",
   "metadata": {},
   "outputs": [],
   "source": [
    "y_vect_pred = clf.predict(x_test)\n",
    "# y_v_pred"
   ]
  },
  {
   "cell_type": "code",
   "execution_count": 18,
   "id": "45962b02",
   "metadata": {},
   "outputs": [
    {
     "data": {
      "text/plain": [
       "array([[93,  6],\n",
       "       [27, 28]], dtype=int64)"
      ]
     },
     "execution_count": 18,
     "metadata": {},
     "output_type": "execute_result"
    }
   ],
   "source": [
    "my_matrix_vect = metrics.confusion_matrix(y_test, y_vect_pred)\n",
    "my_matrix_vect"
   ]
  },
  {
   "cell_type": "code",
   "execution_count": 19,
   "id": "171eb260",
   "metadata": {},
   "outputs": [
    {
     "data": {
      "image/png": "[encoded data removed]",
      "text/plain": [
       "<Figure size 432x288 with 2 Axes>"
      ]
     },
     "metadata": {
      "needs_background": "light"
     },
     "output_type": "display_data"
    }
   ],
   "source": [
    "%matplotlib inline\n",
    "class_names = [0, 1]\n",
    "fig, ax = plt.subplots()\n",
    "ticks = np.arange(len(class_names))\n",
    "plt.xticks(ticks, class_names)\n",
    "plt.yticks(ticks, class_names)\n",
    "sns.heatmap(pd.DataFrame(\n",
    "    metrics.confusion_matrix(y_test, y_vect_pred)),\n",
    "    annot=True)\n",
    "plt.ylabel('Действительные значения')\n",
    "plt.xlabel('Предсказанные значения')\n",
    "plt.show()"
   ]
  },
  {
   "cell_type": "code",
   "execution_count": 20,
   "id": "fbd9894f",
   "metadata": {},
   "outputs": [
    {
     "name": "stdout",
     "output_type": "stream",
     "text": [
      "Метрика достоверности предсказания:  0.7857142857142857\n",
      "Метрика точности:  0.8235294117647058\n",
      "Метрика полноты:  0.509090909090909\n",
      "f1 score:  0.6292134831460674\n"
     ]
    }
   ],
   "source": [
    "print(\"Метрика достоверности предсказания: \", metrics.accuracy_score(y_test, y_vect_pred))\n",
    "print(\"Метрика точности: \", metrics.precision_score(y_test, y_vect_pred, pos_label=\"1\"))\n",
    "print(\"Метрика полноты: \", metrics.recall_score(y_test, y_vect_pred, pos_label=\"1\"))\n",
    "print(\"f1 score: \", metrics.f1_score(y_test, y_vect_pred, pos_label=\"1\"))"
   ]
  },
  {
   "cell_type": "markdown",
   "id": "5147527d",
   "metadata": {},
   "source": [
    "## Метод опорных векторов с линейным ядром (SVC)"
   ]
  },
  {
   "cell_type": "code",
   "execution_count": 21,
   "id": "ed7c3e59",
   "metadata": {},
   "outputs": [],
   "source": [
    "linear_svc = svm.SVC(kernel='linear')"
   ]
  },
  {
   "cell_type": "code",
   "execution_count": 22,
   "id": "a0a4527a",
   "metadata": {},
   "outputs": [
    {
     "data": {
      "text/plain": [
       "SVC(kernel='linear')"
      ]
     },
     "execution_count": 22,
     "metadata": {},
     "output_type": "execute_result"
    }
   ],
   "source": [
    "linear_svc.fit(x_train, y_train)"
   ]
  },
  {
   "cell_type": "code",
   "execution_count": 23,
   "id": "6f32eb60",
   "metadata": {},
   "outputs": [],
   "source": [
    "y_vect_linear_pred = linear_svc.predict(x_test)"
   ]
  },
  {
   "cell_type": "code",
   "execution_count": 24,
   "id": "830356ba",
   "metadata": {},
   "outputs": [
    {
     "data": {
      "text/plain": [
       "array([[89, 10],\n",
       "       [24, 31]], dtype=int64)"
      ]
     },
     "execution_count": 24,
     "metadata": {},
     "output_type": "execute_result"
    }
   ],
   "source": [
    "my_matrix_vect_linear = metrics.confusion_matrix(y_test, y_vect_linear_pred)\n",
    "my_matrix_vect_linear"
   ]
  },
  {
   "cell_type": "code",
   "execution_count": 25,
   "id": "a2c55ee1",
   "metadata": {},
   "outputs": [
    {
     "data": {
      "image/png": "[encoded data removed]",
      "text/plain": [
       "<Figure size 432x288 with 2 Axes>"
      ]
     },
     "metadata": {
      "needs_background": "light"
     },
     "output_type": "display_data"
    }
   ],
   "source": [
    "%matplotlib inline\n",
    "class_names = [0, 1]\n",
    "fig, ax = plt.subplots()\n",
    "ticks = np.arange(len(class_names))\n",
    "plt.xticks(ticks, class_names)\n",
    "plt.yticks(ticks, class_names)\n",
    "sns.heatmap(pd.DataFrame(\n",
    "    metrics.confusion_matrix(y_test, y_vect_linear_pred)),\n",
    "    annot=True)\n",
    "plt.ylabel('Действительные значения')\n",
    "plt.xlabel('Предсказанные значения')\n",
    "plt.show()"
   ]
  },
  {
   "cell_type": "code",
   "execution_count": 26,
   "id": "08198554",
   "metadata": {},
   "outputs": [
    {
     "name": "stdout",
     "output_type": "stream",
     "text": [
      "Метрика достоверности предсказания:  0.7792207792207793\n",
      "Метрика точности:  0.7560975609756098\n",
      "Метрика полноты:  0.5636363636363636\n",
      "f1 score:  0.6458333333333333\n"
     ]
    }
   ],
   "source": [
    "print(\"Метрика достоверности предсказания: \", metrics.accuracy_score(y_test, y_vect_linear_pred))\n",
    "print(\"Метрика точности: \", metrics.precision_score(y_test, y_vect_linear_pred, pos_label=\"1\"))\n",
    "print(\"Метрика полноты: \", metrics.recall_score(y_test, y_vect_linear_pred, pos_label=\"1\"))\n",
    "print(\"f1 score: \", metrics.f1_score(y_test, y_vect_linear_pred, pos_label=\"1\"))"
   ]
  },
  {
   "cell_type": "markdown",
   "id": "c7f30e67",
   "metadata": {},
   "source": [
    "## Метод опорных векторов с гауссовым ядром (SVC)"
   ]
  },
  {
   "cell_type": "code",
   "execution_count": 27,
   "id": "6661b1a8",
   "metadata": {},
   "outputs": [],
   "source": [
    "rbf_svc = svm.SVC(kernel='rbf')"
   ]
  },
  {
   "cell_type": "code",
   "execution_count": 28,
   "id": "fecb2645",
   "metadata": {},
   "outputs": [
    {
     "data": {
      "text/plain": [
       "SVC()"
      ]
     },
     "execution_count": 28,
     "metadata": {},
     "output_type": "execute_result"
    }
   ],
   "source": [
    "rbf_svc.fit(x_train, y_train)"
   ]
  },
  {
   "cell_type": "code",
   "execution_count": 29,
   "id": "44b5542d",
   "metadata": {},
   "outputs": [],
   "source": [
    "y_vect_gaussian_pred = rbf_svc.predict(x_test)"
   ]
  },
  {
   "cell_type": "code",
   "execution_count": 30,
   "id": "5d1e66ef",
   "metadata": {},
   "outputs": [
    {
     "data": {
      "text/plain": [
       "array([[93,  6],\n",
       "       [27, 28]], dtype=int64)"
      ]
     },
     "execution_count": 30,
     "metadata": {},
     "output_type": "execute_result"
    }
   ],
   "source": [
    "my_matrix_vect_gaussian = metrics.confusion_matrix(y_test, y_vect_gaussian_pred)\n",
    "my_matrix_vect_gaussian"
   ]
  },
  {
   "cell_type": "code",
   "execution_count": 31,
   "id": "3b18bfc3",
   "metadata": {},
   "outputs": [
    {
     "data": {
      "image/png": "[encoded data removed]",
      "text/plain": [
       "<Figure size 432x288 with 2 Axes>"
      ]
     },
     "metadata": {
      "needs_background": "light"
     },
     "output_type": "display_data"
    }
   ],
   "source": [
    "%matplotlib inline\n",
    "class_names = [0, 1]\n",
    "fig, ax = plt.subplots()\n",
    "ticks = np.arange(len(class_names))\n",
    "plt.xticks(ticks, class_names)\n",
    "plt.yticks(ticks, class_names)\n",
    "sns.heatmap(pd.DataFrame(\n",
    "    metrics.confusion_matrix(y_test, y_vect_gaussian_pred)),\n",
    "    annot=True)\n",
    "plt.ylabel('Действительные значения')\n",
    "plt.xlabel('Предсказанные значения')\n",
    "plt.show()"
   ]
  },
  {
   "cell_type": "code",
   "execution_count": 32,
   "id": "ec59a3d4",
   "metadata": {},
   "outputs": [
    {
     "name": "stdout",
     "output_type": "stream",
     "text": [
      "Метрика достоверности предсказания:  0.7857142857142857\n",
      "Метрика точности:  0.8235294117647058\n",
      "Метрика полноты:  0.509090909090909\n",
      "f1 score:  0.6292134831460674\n"
     ]
    }
   ],
   "source": [
    "print(\"Метрика достоверности предсказания: \", metrics.accuracy_score(y_test, y_vect_gaussian_pred))\n",
    "print(\"Метрика точности: \", metrics.precision_score(y_test, y_vect_gaussian_pred, pos_label=\"1\"))\n",
    "print(\"Метрика полноты: \", metrics.recall_score(y_test, y_vect_gaussian_pred, pos_label=\"1\"))\n",
    "print(\"f1 score: \", metrics.f1_score(y_test, y_vect_gaussian_pred, pos_label=\"1\"))"
   ]
  },
  {
   "cell_type": "markdown",
   "id": "6f7244ab",
   "metadata": {},
   "source": [
    "## Метод k ближайших соседей (KNeighborsClassifier)"
   ]
  },
  {
   "cell_type": "code",
   "execution_count": 33,
   "id": "f773aaa5",
   "metadata": {},
   "outputs": [],
   "source": [
    "neigh = KNeighborsClassifier()"
   ]
  },
  {
   "cell_type": "code",
   "execution_count": 34,
   "id": "e7e7114f",
   "metadata": {},
   "outputs": [
    {
     "data": {
      "text/plain": [
       "KNeighborsClassifier()"
      ]
     },
     "execution_count": 34,
     "metadata": {},
     "output_type": "execute_result"
    }
   ],
   "source": [
    "neigh.fit(x_train, y_train)"
   ]
  },
  {
   "cell_type": "code",
   "execution_count": 35,
   "id": "395ba934",
   "metadata": {},
   "outputs": [
    {
     "name": "stderr",
     "output_type": "stream",
     "text": [
      "C:\\Users\\sanha\\anaconda3\\lib\\site-packages\\sklearn\\base.py:441: UserWarning: X does not have valid feature names, but KNeighborsClassifier was fitted with feature names\n",
      "  warnings.warn(\n"
     ]
    }
   ],
   "source": [
    "y_neigh_pred = neigh.predict(x_test)"
   ]
  },
  {
   "cell_type": "code",
   "execution_count": 36,
   "id": "d30d4c3f",
   "metadata": {},
   "outputs": [
    {
     "data": {
      "text/plain": [
       "array([[82, 17],\n",
       "       [24, 31]], dtype=int64)"
      ]
     },
     "execution_count": 36,
     "metadata": {},
     "output_type": "execute_result"
    }
   ],
   "source": [
    "my_matrix_neigh = metrics.confusion_matrix(y_test, y_neigh_pred)\n",
    "my_matrix_neigh"
   ]
  },
  {
   "cell_type": "code",
   "execution_count": 37,
   "id": "8e6f32aa",
   "metadata": {},
   "outputs": [
    {
     "data": {
      "image/png": "[encoded data removed]",
      "text/plain": [
       "<Figure size 432x288 with 2 Axes>"
      ]
     },
     "metadata": {
      "needs_background": "light"
     },
     "output_type": "display_data"
    }
   ],
   "source": [
    "%matplotlib inline\n",
    "class_names = [0, 1]\n",
    "fig, ax = plt.subplots()\n",
    "ticks = np.arange(len(class_names))\n",
    "plt.xticks(ticks, class_names)\n",
    "plt.yticks(ticks, class_names)\n",
    "sns.heatmap(pd.DataFrame(\n",
    "    metrics.confusion_matrix(y_test, y_neigh_pred)),\n",
    "    annot=True)\n",
    "plt.ylabel('Действительные значения')\n",
    "plt.xlabel('Предсказанные значения')\n",
    "plt.show()"
   ]
  },
  {
   "cell_type": "code",
   "execution_count": 38,
   "id": "efe0edce",
   "metadata": {},
   "outputs": [
    {
     "name": "stdout",
     "output_type": "stream",
     "text": [
      "Метрика достоверности предсказания:  0.7857142857142857\n",
      "Метрика точности:  0.8235294117647058\n",
      "Метрика полноты:  0.509090909090909\n",
      "f1 score:  0.6292134831460674\n"
     ]
    }
   ],
   "source": [
    "print(\"Метрика достоверности предсказания: \", metrics.accuracy_score(y_test, y_vect_pred))\n",
    "print(\"Метрика точности: \", metrics.precision_score(y_test, y_vect_pred, pos_label=\"1\"))\n",
    "print(\"Метрика полноты: \", metrics.recall_score(y_test, y_vect_pred, pos_label=\"1\"))\n",
    "print(\"f1 score: \", metrics.f1_score(y_test, y_vect_pred, pos_label=\"1\"))"
   ]
  },
  {
   "cell_type": "markdown",
   "id": "a10a290c",
   "metadata": {},
   "source": [
    "## Многослойный перцептрон (MLP)"
   ]
  },
  {
   "cell_type": "code",
   "execution_count": 39,
   "id": "c0186708",
   "metadata": {},
   "outputs": [],
   "source": [
    "clf_mlp = MLPClassifier()"
   ]
  },
  {
   "cell_type": "code",
   "execution_count": 40,
   "id": "52b86804",
   "metadata": {},
   "outputs": [
    {
     "data": {
      "text/plain": [
       "MLPClassifier()"
      ]
     },
     "execution_count": 40,
     "metadata": {},
     "output_type": "execute_result"
    }
   ],
   "source": [
    "clf_mlp.fit(x_train, y_train)"
   ]
  },
  {
   "cell_type": "code",
   "execution_count": 41,
   "id": "64e81fef",
   "metadata": {},
   "outputs": [],
   "source": [
    "y_mlp_pred = clf_mlp.predict(x_test)"
   ]
  },
  {
   "cell_type": "code",
   "execution_count": 42,
   "id": "28fef8ff",
   "metadata": {},
   "outputs": [
    {
     "data": {
      "text/plain": [
       "array([[90,  9],\n",
       "       [40, 15]], dtype=int64)"
      ]
     },
     "execution_count": 42,
     "metadata": {},
     "output_type": "execute_result"
    }
   ],
   "source": [
    "my_matrix_mlp = metrics.confusion_matrix(y_test, y_mlp_pred)\n",
    "my_matrix_mlp"
   ]
  },
  {
   "cell_type": "code",
   "execution_count": 43,
   "id": "39999151",
   "metadata": {},
   "outputs": [
    {
     "data": {
      "image/png": "[encoded data removed]",
      "text/plain": [
       "<Figure size 432x288 with 2 Axes>"
      ]
     },
     "metadata": {
      "needs_background": "light"
     },
     "output_type": "display_data"
    }
   ],
   "source": [
    "%matplotlib inline\n",
    "class_names = [0, 1]\n",
    "fig, ax = plt.subplots()\n",
    "ticks = np.arange(len(class_names))\n",
    "plt.xticks(ticks, class_names)\n",
    "plt.yticks(ticks, class_names)\n",
    "sns.heatmap(pd.DataFrame(\n",
    "    metrics.confusion_matrix(y_test, y_mlp_pred)),\n",
    "    annot=True)\n",
    "plt.ylabel('Действительные значения')\n",
    "plt.xlabel('Предсказанные значения')\n",
    "plt.show()"
   ]
  },
  {
   "cell_type": "code",
   "execution_count": 44,
   "id": "9b422215",
   "metadata": {},
   "outputs": [
    {
     "name": "stdout",
     "output_type": "stream",
     "text": [
      "Метрика достоверности предсказания:  0.6818181818181818\n",
      "Метрика точности:  0.625\n",
      "Метрика полноты:  0.2727272727272727\n",
      "f1 score:  0.37974683544303794\n"
     ]
    }
   ],
   "source": [
    "print(\"Метрика достоверности предсказания: \", metrics.accuracy_score(y_test, y_mlp_pred))\n",
    "print(\"Метрика точности: \", metrics.precision_score(y_test, y_mlp_pred, pos_label=\"1\"))\n",
    "print(\"Метрика полноты: \", metrics.recall_score(y_test, y_mlp_pred, pos_label=\"1\"))\n",
    "print(\"f1 score: \", metrics.f1_score(y_test, y_mlp_pred, pos_label=\"1\"))"
   ]
  },
  {
   "cell_type": "markdown",
   "id": "c329db9a",
   "metadata": {},
   "source": [
    "#### *Используемые в примере метрики отражают следующее:*\n",
    "\n",
    "- accuracy — показывает долю правильных ответов модели. Ее значение равно отношению числа правильных ответов, которые дала модель, к числу всех объектов. Но она не полностью отражает качество модели. Поэтому вводятся precision и recall.\n",
    "\n",
    "- precision (точность) — эта метрика показывает, насколько мы можем доверять модели, другими словами, какое у нас количество «ложных срабатываний». Значение метрики равно отношению числа ответов, которые модель считает правильными, и они действительно были правильными (это число обозначается «true positives») к сумме «true positives» и числа объектов которые модель посчитала правильными, а на самом деле они были неправильные(это число обозначается «false positives»). В виде формулы: precision = «true positives» / («true positives» + «false positives»)\n",
    "\n",
    "- recall (полнота) — эта метрика показывает насколько модель может вообще обнаруживать правильные ответы, другими словами, какое у нас количество «ложных пропусков». Ее численное значение равно отношению ответов, которые модель считает правильными, и они действительно были правильными к числу всех правильных ответов в выборке. В виде формулы: recall = «true positives» / «all positives»\n",
    "\n",
    "- f1-score (f-мера) — это объединение precision и recall\n",
    "\n",
    "- support — просто число найденных объектов в классе\n",
    "\n",
    "#### *Сравнение методов*\n",
    "\n",
    "- главное отличие между линейной регрессией и логистической регрессией является то, что линейная регрессия используется для прогнозирования непрерывного значения, в то время как логистическая регрессия используется для прогнозирования дискретного значения.\n",
    "\n",
    "- отличаются функцией потерь -SVM сводит к минимуму потери шарниров, а логистическая регрессия сводит к минимуму логистические потери. SVM пытается максимизировать разницу между ближайшими векторами поддержки, а LR - вероятностью апостериорного класса. Таким образом, SVM находит решение, которое является максимально возможным для обеих категорий, в то время как LR не обладает этим свойством. LR более чувствителен к выбросам, чем SVM, потому что функция стоимости LR расходится быстрее, чем функция SVM. Таким образом, выделение на изображении выше даст картину ниже:\n",
    "\n",
    "- В случае использования метода для классификации объект присваивается тому классу, который является наиболее распространённым среди k соседей данного элемента, классы которых уже известны. В случае использования метода для регрессии, объекту присваивается среднее значение по k ближайшим к нему объектам, значения которых уже известны."
   ]
  }
 ],
 "metadata": {
  "kernelspec": {
   "display_name": "Python 3",
   "language": "python",
   "name": "python3"
  },
  "language_info": {
   "codemirror_mode": {
    "name": "ipython",
    "version": 3
   },
   "file_extension": ".py",
   "mimetype": "text/x-python",
   "name": "python",
   "nbconvert_exporter": "python",
   "pygments_lexer": "ipython3",
   "version": "3.8.8"
  }
 },
 "nbformat": 4,
 "nbformat_minor": 5
}
