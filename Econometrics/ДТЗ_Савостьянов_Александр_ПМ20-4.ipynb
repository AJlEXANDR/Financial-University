{
 "cells": [
  {
   "cell_type": "markdown",
   "id": "7b9fe15d",
   "metadata": {},
   "source": [
    "# Торговое предприятие\n",
    "### Эконометрический анализ продаж (в млн. $) торговой сети"
   ]
  },
  {
   "cell_type": "markdown",
   "id": "8a515e78",
   "metadata": {},
   "source": [
    "#### Импортируем нужные библиотеки"
   ]
  },
  {
   "cell_type": "code",
   "execution_count": 1,
   "id": "5afe4212",
   "metadata": {},
   "outputs": [],
   "source": [
    "import numpy as np\n",
    "import pandas as pd\n",
    "import seaborn as sns\n",
    "from scipy.stats import chi2\n",
    "import statsmodels.api as sm\n",
    "import matplotlib.pyplot as plt\n",
    "from statsmodels.compat import lzip\n",
    "import statsmodels.stats.api as sms\n",
    "from statsmodels.graphics import tsaplots\n",
    "from statsmodels.stats.stattools import durbin_watson\n",
    "from sklearn.metrics import mean_absolute_percentage_error\n",
    "from scipy.stats import shapiro, jarque_bera, spearmanr, pearsonr, t, f\n",
    "from statsmodels.stats.diagnostic import het_white, acorr_breusch_godfrey, het_goldfeldquandt"
   ]
  },
  {
   "cell_type": "code",
   "execution_count": 56,
   "id": "a419d779",
   "metadata": {},
   "outputs": [],
   "source": [
    "import warnings\n",
    "warnings.simplefilter(action='ignore', category=FutureWarning)"
   ]
  },
  {
   "cell_type": "markdown",
   "id": "30e5de5e",
   "metadata": {},
   "source": [
    "### Прочтем датасет, посмотрим на информацию по типам переменных, проведем категориальный анализ и построим корреляционную матрицу между всеми значениями"
   ]
  },
  {
   "cell_type": "markdown",
   "id": "d5f65e50",
   "metadata": {},
   "source": [
    "Датасет: https://www.kaggle.com/datasets/dermisfit/foodmart-dataset"
   ]
  },
  {
   "cell_type": "code",
   "execution_count": 2,
   "id": "ee87d246",
   "metadata": {},
   "outputs": [
    {
     "data": {
      "text/html": [
       "<div>\n",
       "<style scoped>\n",
       "    .dataframe tbody tr th:only-of-type {\n",
       "        vertical-align: middle;\n",
       "    }\n",
       "\n",
       "    .dataframe tbody tr th {\n",
       "        vertical-align: top;\n",
       "    }\n",
       "\n",
       "    .dataframe thead th {\n",
       "        text-align: right;\n",
       "    }\n",
       "</style>\n",
       "<table border=\"1\" class=\"dataframe\">\n",
       "  <thead>\n",
       "    <tr style=\"text-align: right;\">\n",
       "      <th></th>\n",
       "      <th>Store No.</th>\n",
       "      <th>Sales $m</th>\n",
       "      <th>Wages $m</th>\n",
       "      <th>No. Staff</th>\n",
       "      <th>Location</th>\n",
       "      <th>Loc'n (Num)</th>\n",
       "      <th>State</th>\n",
       "      <th>State (Num)</th>\n",
       "      <th>Age (Yrs)</th>\n",
       "      <th>GrossProfit</th>\n",
       "      <th>...</th>\n",
       "      <th>Mng-Exp</th>\n",
       "      <th>Mng-Train</th>\n",
       "      <th>Union%</th>\n",
       "      <th>Car Spaces</th>\n",
       "      <th>HomeDel</th>\n",
       "      <th>HomeDel (Num)</th>\n",
       "      <th>Basket:2013</th>\n",
       "      <th>Basket:2014</th>\n",
       "      <th>Unnamed: 26</th>\n",
       "      <th>Unnamed: 27</th>\n",
       "    </tr>\n",
       "  </thead>\n",
       "  <tbody>\n",
       "    <tr>\n",
       "      <th>0</th>\n",
       "      <td>1</td>\n",
       "      <td>12.5</td>\n",
       "      <td>2.3</td>\n",
       "      <td>60</td>\n",
       "      <td>Mall</td>\n",
       "      <td>2</td>\n",
       "      <td>NSW</td>\n",
       "      <td>1</td>\n",
       "      <td>10</td>\n",
       "      <td>0.712</td>\n",
       "      <td>...</td>\n",
       "      <td>12</td>\n",
       "      <td>2</td>\n",
       "      <td>38</td>\n",
       "      <td>46</td>\n",
       "      <td>Del:No</td>\n",
       "      <td>0</td>\n",
       "      <td>171</td>\n",
       "      <td>178</td>\n",
       "      <td>NaN</td>\n",
       "      <td>NaN</td>\n",
       "    </tr>\n",
       "    <tr>\n",
       "      <th>1</th>\n",
       "      <td>2</td>\n",
       "      <td>14.5</td>\n",
       "      <td>2.7</td>\n",
       "      <td>69</td>\n",
       "      <td>Mall</td>\n",
       "      <td>2</td>\n",
       "      <td>Vic</td>\n",
       "      <td>2</td>\n",
       "      <td>8</td>\n",
       "      <td>0.091</td>\n",
       "      <td>...</td>\n",
       "      <td>16</td>\n",
       "      <td>1</td>\n",
       "      <td>38</td>\n",
       "      <td>73</td>\n",
       "      <td>Del:No</td>\n",
       "      <td>0</td>\n",
       "      <td>168</td>\n",
       "      <td>178</td>\n",
       "      <td>NaN</td>\n",
       "      <td>NaN</td>\n",
       "    </tr>\n",
       "    <tr>\n",
       "      <th>2</th>\n",
       "      <td>3</td>\n",
       "      <td>19.0</td>\n",
       "      <td>3.1</td>\n",
       "      <td>79</td>\n",
       "      <td>Country</td>\n",
       "      <td>3</td>\n",
       "      <td>Vic</td>\n",
       "      <td>2</td>\n",
       "      <td>7</td>\n",
       "      <td>1.075</td>\n",
       "      <td>...</td>\n",
       "      <td>9</td>\n",
       "      <td>2</td>\n",
       "      <td>39</td>\n",
       "      <td>64</td>\n",
       "      <td>Del:No</td>\n",
       "      <td>0</td>\n",
       "      <td>180</td>\n",
       "      <td>188</td>\n",
       "      <td>NaN</td>\n",
       "      <td>NaN</td>\n",
       "    </tr>\n",
       "    <tr>\n",
       "      <th>3</th>\n",
       "      <td>4</td>\n",
       "      <td>18.2</td>\n",
       "      <td>2.6</td>\n",
       "      <td>66</td>\n",
       "      <td>Mall</td>\n",
       "      <td>2</td>\n",
       "      <td>Qld</td>\n",
       "      <td>3</td>\n",
       "      <td>7</td>\n",
       "      <td>1.372</td>\n",
       "      <td>...</td>\n",
       "      <td>9</td>\n",
       "      <td>2</td>\n",
       "      <td>38</td>\n",
       "      <td>66</td>\n",
       "      <td>Del:Yes</td>\n",
       "      <td>1</td>\n",
       "      <td>173</td>\n",
       "      <td>180</td>\n",
       "      <td>NaN</td>\n",
       "      <td>NaN</td>\n",
       "    </tr>\n",
       "    <tr>\n",
       "      <th>4</th>\n",
       "      <td>5</td>\n",
       "      <td>7.6</td>\n",
       "      <td>2.0</td>\n",
       "      <td>51</td>\n",
       "      <td>Strip</td>\n",
       "      <td>1</td>\n",
       "      <td>Qld</td>\n",
       "      <td>3</td>\n",
       "      <td>15</td>\n",
       "      <td>2.148</td>\n",
       "      <td>...</td>\n",
       "      <td>4</td>\n",
       "      <td>3</td>\n",
       "      <td>40</td>\n",
       "      <td>29</td>\n",
       "      <td>Del:No</td>\n",
       "      <td>0</td>\n",
       "      <td>166</td>\n",
       "      <td>171</td>\n",
       "      <td>NaN</td>\n",
       "      <td>NaN</td>\n",
       "    </tr>\n",
       "    <tr>\n",
       "      <th>...</th>\n",
       "      <td>...</td>\n",
       "      <td>...</td>\n",
       "      <td>...</td>\n",
       "      <td>...</td>\n",
       "      <td>...</td>\n",
       "      <td>...</td>\n",
       "      <td>...</td>\n",
       "      <td>...</td>\n",
       "      <td>...</td>\n",
       "      <td>...</td>\n",
       "      <td>...</td>\n",
       "      <td>...</td>\n",
       "      <td>...</td>\n",
       "      <td>...</td>\n",
       "      <td>...</td>\n",
       "      <td>...</td>\n",
       "      <td>...</td>\n",
       "      <td>...</td>\n",
       "      <td>...</td>\n",
       "      <td>...</td>\n",
       "      <td>...</td>\n",
       "    </tr>\n",
       "    <tr>\n",
       "      <th>145</th>\n",
       "      <td>146</td>\n",
       "      <td>14.1</td>\n",
       "      <td>3.3</td>\n",
       "      <td>88</td>\n",
       "      <td>Strip</td>\n",
       "      <td>1</td>\n",
       "      <td>SA</td>\n",
       "      <td>4</td>\n",
       "      <td>5</td>\n",
       "      <td>0.504</td>\n",
       "      <td>...</td>\n",
       "      <td>9</td>\n",
       "      <td>3</td>\n",
       "      <td>35</td>\n",
       "      <td>63</td>\n",
       "      <td>Del:No</td>\n",
       "      <td>0</td>\n",
       "      <td>163</td>\n",
       "      <td>172</td>\n",
       "      <td>NaN</td>\n",
       "      <td>NaN</td>\n",
       "    </tr>\n",
       "    <tr>\n",
       "      <th>146</th>\n",
       "      <td>147</td>\n",
       "      <td>8.1</td>\n",
       "      <td>1.7</td>\n",
       "      <td>58</td>\n",
       "      <td>Country</td>\n",
       "      <td>3</td>\n",
       "      <td>NSW</td>\n",
       "      <td>1</td>\n",
       "      <td>19</td>\n",
       "      <td>0.447</td>\n",
       "      <td>...</td>\n",
       "      <td>12</td>\n",
       "      <td>3</td>\n",
       "      <td>42</td>\n",
       "      <td>35</td>\n",
       "      <td>Del:No</td>\n",
       "      <td>0</td>\n",
       "      <td>178</td>\n",
       "      <td>186</td>\n",
       "      <td>NaN</td>\n",
       "      <td>NaN</td>\n",
       "    </tr>\n",
       "    <tr>\n",
       "      <th>147</th>\n",
       "      <td>148</td>\n",
       "      <td>13.6</td>\n",
       "      <td>2.9</td>\n",
       "      <td>66</td>\n",
       "      <td>Strip</td>\n",
       "      <td>1</td>\n",
       "      <td>WA</td>\n",
       "      <td>5</td>\n",
       "      <td>17</td>\n",
       "      <td>2.620</td>\n",
       "      <td>...</td>\n",
       "      <td>8</td>\n",
       "      <td>3</td>\n",
       "      <td>45</td>\n",
       "      <td>48</td>\n",
       "      <td>Del:No</td>\n",
       "      <td>0</td>\n",
       "      <td>166</td>\n",
       "      <td>172</td>\n",
       "      <td>NaN</td>\n",
       "      <td>NaN</td>\n",
       "    </tr>\n",
       "    <tr>\n",
       "      <th>148</th>\n",
       "      <td>149</td>\n",
       "      <td>10.0</td>\n",
       "      <td>2.0</td>\n",
       "      <td>55</td>\n",
       "      <td>Mall</td>\n",
       "      <td>2</td>\n",
       "      <td>WA</td>\n",
       "      <td>5</td>\n",
       "      <td>8</td>\n",
       "      <td>1.168</td>\n",
       "      <td>...</td>\n",
       "      <td>13</td>\n",
       "      <td>3</td>\n",
       "      <td>40</td>\n",
       "      <td>34</td>\n",
       "      <td>Del:No</td>\n",
       "      <td>0</td>\n",
       "      <td>174</td>\n",
       "      <td>182</td>\n",
       "      <td>NaN</td>\n",
       "      <td>NaN</td>\n",
       "    </tr>\n",
       "    <tr>\n",
       "      <th>149</th>\n",
       "      <td>150</td>\n",
       "      <td>11.6</td>\n",
       "      <td>2.2</td>\n",
       "      <td>60</td>\n",
       "      <td>Country</td>\n",
       "      <td>3</td>\n",
       "      <td>ACT</td>\n",
       "      <td>8</td>\n",
       "      <td>9</td>\n",
       "      <td>0.032</td>\n",
       "      <td>...</td>\n",
       "      <td>8</td>\n",
       "      <td>2</td>\n",
       "      <td>39</td>\n",
       "      <td>37</td>\n",
       "      <td>Del:Yes</td>\n",
       "      <td>1</td>\n",
       "      <td>178</td>\n",
       "      <td>185</td>\n",
       "      <td>NaN</td>\n",
       "      <td>NaN</td>\n",
       "    </tr>\n",
       "  </tbody>\n",
       "</table>\n",
       "<p>150 rows × 28 columns</p>\n",
       "</div>"
      ],
      "text/plain": [
       "     Store No.  Sales $m  Wages $m  No. Staff Location  Loc'n (Num) State  \\\n",
       "0            1      12.5       2.3         60     Mall            2   NSW   \n",
       "1            2      14.5       2.7         69     Mall            2   Vic   \n",
       "2            3      19.0       3.1         79  Country            3   Vic   \n",
       "3            4      18.2       2.6         66     Mall            2   Qld   \n",
       "4            5       7.6       2.0         51    Strip            1   Qld   \n",
       "..         ...       ...       ...        ...      ...          ...   ...   \n",
       "145        146      14.1       3.3         88    Strip            1    SA   \n",
       "146        147       8.1       1.7         58  Country            3   NSW   \n",
       "147        148      13.6       2.9         66    Strip            1    WA   \n",
       "148        149      10.0       2.0         55     Mall            2    WA   \n",
       "149        150      11.6       2.2         60  Country            3   ACT   \n",
       "\n",
       "     State (Num)  Age (Yrs)  GrossProfit  ...  Mng-Exp  Mng-Train  Union%  \\\n",
       "0              1         10        0.712  ...       12          2      38   \n",
       "1              2          8        0.091  ...       16          1      38   \n",
       "2              2          7        1.075  ...        9          2      39   \n",
       "3              3          7        1.372  ...        9          2      38   \n",
       "4              3         15        2.148  ...        4          3      40   \n",
       "..           ...        ...          ...  ...      ...        ...     ...   \n",
       "145            4          5        0.504  ...        9          3      35   \n",
       "146            1         19        0.447  ...       12          3      42   \n",
       "147            5         17        2.620  ...        8          3      45   \n",
       "148            5          8        1.168  ...       13          3      40   \n",
       "149            8          9        0.032  ...        8          2      39   \n",
       "\n",
       "    Car Spaces  HomeDel HomeDel (Num)  Basket:2013  Basket:2014  Unnamed: 26  \\\n",
       "0           46   Del:No             0          171          178          NaN   \n",
       "1           73   Del:No             0          168          178          NaN   \n",
       "2           64   Del:No             0          180          188          NaN   \n",
       "3           66  Del:Yes             1          173          180          NaN   \n",
       "4           29   Del:No             0          166          171          NaN   \n",
       "..         ...      ...           ...          ...          ...          ...   \n",
       "145         63   Del:No             0          163          172          NaN   \n",
       "146         35   Del:No             0          178          186          NaN   \n",
       "147         48   Del:No             0          166          172          NaN   \n",
       "148         34   Del:No             0          174          182          NaN   \n",
       "149         37  Del:Yes             1          178          185          NaN   \n",
       "\n",
       "     Unnamed: 27  \n",
       "0            NaN  \n",
       "1            NaN  \n",
       "2            NaN  \n",
       "3            NaN  \n",
       "4            NaN  \n",
       "..           ...  \n",
       "145          NaN  \n",
       "146          NaN  \n",
       "147          NaN  \n",
       "148          NaN  \n",
       "149          NaN  \n",
       "\n",
       "[150 rows x 28 columns]"
      ]
     },
     "execution_count": 2,
     "metadata": {},
     "output_type": "execute_result"
    }
   ],
   "source": [
    "# df_mall_raw = pd.read_csv('Mall_adv_research.csv')\n",
    "df_mall_raw = pd.read_excel(open('StoresData.xlsx', 'rb'), sheet_name='Stores-Data')\n",
    "df_mall_raw"
   ]
  },
  {
   "cell_type": "markdown",
   "id": "16bb2b11",
   "metadata": {},
   "source": [
    "### Предварительный анализ данных"
   ]
  },
  {
   "cell_type": "code",
   "execution_count": 3,
   "id": "46d066f1",
   "metadata": {},
   "outputs": [
    {
     "name": "stdout",
     "output_type": "stream",
     "text": [
      "<class 'pandas.core.frame.DataFrame'>\n",
      "RangeIndex: 150 entries, 0 to 149\n",
      "Data columns (total 28 columns):\n",
      " #   Column         Non-Null Count  Dtype  \n",
      "---  ------         --------------  -----  \n",
      " 0   Store No.      150 non-null    int64  \n",
      " 1   Sales $m       150 non-null    float64\n",
      " 2   Wages $m       150 non-null    float64\n",
      " 3   No. Staff      150 non-null    int64  \n",
      " 4   Location       150 non-null    object \n",
      " 5   Loc'n (Num)    150 non-null    int64  \n",
      " 6   State          150 non-null    object \n",
      " 7   State (Num)    150 non-null    int64  \n",
      " 8   Age (Yrs)      150 non-null    int64  \n",
      " 9   GrossProfit    150 non-null    float64\n",
      " 10  Adv.$'000      150 non-null    int64  \n",
      " 11  Competitors    150 non-null    int64  \n",
      " 12  HrsTrading     150 non-null    int64  \n",
      " 13  Sundays        150 non-null    object \n",
      " 14  Sundays (Num)  150 non-null    int64  \n",
      " 15  Mng-Sex        150 non-null    object \n",
      " 16  Mng-Sex (Num)  150 non-null    int64  \n",
      " 17  Mng-Age        150 non-null    int64  \n",
      " 18  Mng-Exp        150 non-null    int64  \n",
      " 19  Mng-Train      150 non-null    int64  \n",
      " 20  Union%         150 non-null    int64  \n",
      " 21  Car Spaces     150 non-null    int64  \n",
      " 22  HomeDel        150 non-null    object \n",
      " 23  HomeDel (Num)  150 non-null    int64  \n",
      " 24  Basket:2013    150 non-null    int64  \n",
      " 25  Basket:2014    150 non-null    int64  \n",
      " 26  Unnamed: 26    0 non-null      float64\n",
      " 27  Unnamed: 27    0 non-null      float64\n",
      "dtypes: float64(5), int64(18), object(5)\n",
      "memory usage: 32.9+ KB\n"
     ]
    }
   ],
   "source": [
    "df_mall_raw.info()"
   ]
  },
  {
   "cell_type": "code",
   "execution_count": 4,
   "id": "45041a1b",
   "metadata": {},
   "outputs": [
    {
     "data": {
      "text/html": [
       "<div>\n",
       "<style scoped>\n",
       "    .dataframe tbody tr th:only-of-type {\n",
       "        vertical-align: middle;\n",
       "    }\n",
       "\n",
       "    .dataframe tbody tr th {\n",
       "        vertical-align: top;\n",
       "    }\n",
       "\n",
       "    .dataframe thead th {\n",
       "        text-align: right;\n",
       "    }\n",
       "</style>\n",
       "<table border=\"1\" class=\"dataframe\">\n",
       "  <thead>\n",
       "    <tr style=\"text-align: right;\">\n",
       "      <th></th>\n",
       "      <th>Store No.</th>\n",
       "      <th>Sales $m</th>\n",
       "      <th>Wages $m</th>\n",
       "      <th>No. Staff</th>\n",
       "      <th>Loc'n (Num)</th>\n",
       "      <th>State (Num)</th>\n",
       "      <th>Age (Yrs)</th>\n",
       "      <th>GrossProfit</th>\n",
       "      <th>Adv.$'000</th>\n",
       "      <th>Competitors</th>\n",
       "      <th>...</th>\n",
       "      <th>Mng-Age</th>\n",
       "      <th>Mng-Exp</th>\n",
       "      <th>Mng-Train</th>\n",
       "      <th>Union%</th>\n",
       "      <th>Car Spaces</th>\n",
       "      <th>HomeDel (Num)</th>\n",
       "      <th>Basket:2013</th>\n",
       "      <th>Basket:2014</th>\n",
       "      <th>Unnamed: 26</th>\n",
       "      <th>Unnamed: 27</th>\n",
       "    </tr>\n",
       "  </thead>\n",
       "  <tbody>\n",
       "    <tr>\n",
       "      <th>count</th>\n",
       "      <td>150.000000</td>\n",
       "      <td>150.000000</td>\n",
       "      <td>150.000000</td>\n",
       "      <td>150.000000</td>\n",
       "      <td>150.000000</td>\n",
       "      <td>150.000000</td>\n",
       "      <td>150.000000</td>\n",
       "      <td>150.000000</td>\n",
       "      <td>150.000000</td>\n",
       "      <td>150.000000</td>\n",
       "      <td>...</td>\n",
       "      <td>150.000000</td>\n",
       "      <td>150.000000</td>\n",
       "      <td>150.000000</td>\n",
       "      <td>150.000000</td>\n",
       "      <td>150.000000</td>\n",
       "      <td>150.000000</td>\n",
       "      <td>150.000000</td>\n",
       "      <td>150.000000</td>\n",
       "      <td>0.0</td>\n",
       "      <td>0.0</td>\n",
       "    </tr>\n",
       "    <tr>\n",
       "      <th>mean</th>\n",
       "      <td>75.500000</td>\n",
       "      <td>11.659333</td>\n",
       "      <td>2.376667</td>\n",
       "      <td>61.493333</td>\n",
       "      <td>1.913333</td>\n",
       "      <td>3.033333</td>\n",
       "      <td>8.846667</td>\n",
       "      <td>1.009953</td>\n",
       "      <td>147.273333</td>\n",
       "      <td>2.506667</td>\n",
       "      <td>...</td>\n",
       "      <td>38.420000</td>\n",
       "      <td>9.253333</td>\n",
       "      <td>2.813333</td>\n",
       "      <td>37.786667</td>\n",
       "      <td>44.186667</td>\n",
       "      <td>0.300000</td>\n",
       "      <td>171.806667</td>\n",
       "      <td>178.846667</td>\n",
       "      <td>NaN</td>\n",
       "      <td>NaN</td>\n",
       "    </tr>\n",
       "    <tr>\n",
       "      <th>std</th>\n",
       "      <td>43.445368</td>\n",
       "      <td>3.570989</td>\n",
       "      <td>0.567866</td>\n",
       "      <td>14.605206</td>\n",
       "      <td>0.767954</td>\n",
       "      <td>1.894594</td>\n",
       "      <td>5.442483</td>\n",
       "      <td>0.645794</td>\n",
       "      <td>67.994265</td>\n",
       "      <td>1.744586</td>\n",
       "      <td>...</td>\n",
       "      <td>7.337748</td>\n",
       "      <td>3.985185</td>\n",
       "      <td>1.183707</td>\n",
       "      <td>4.899783</td>\n",
       "      <td>22.162725</td>\n",
       "      <td>0.459793</td>\n",
       "      <td>8.005616</td>\n",
       "      <td>8.637158</td>\n",
       "      <td>NaN</td>\n",
       "      <td>NaN</td>\n",
       "    </tr>\n",
       "    <tr>\n",
       "      <th>min</th>\n",
       "      <td>1.000000</td>\n",
       "      <td>5.900000</td>\n",
       "      <td>1.500000</td>\n",
       "      <td>35.000000</td>\n",
       "      <td>1.000000</td>\n",
       "      <td>1.000000</td>\n",
       "      <td>1.000000</td>\n",
       "      <td>0.018000</td>\n",
       "      <td>20.000000</td>\n",
       "      <td>0.000000</td>\n",
       "      <td>...</td>\n",
       "      <td>27.000000</td>\n",
       "      <td>1.000000</td>\n",
       "      <td>1.000000</td>\n",
       "      <td>24.000000</td>\n",
       "      <td>8.000000</td>\n",
       "      <td>0.000000</td>\n",
       "      <td>156.000000</td>\n",
       "      <td>162.000000</td>\n",
       "      <td>NaN</td>\n",
       "      <td>NaN</td>\n",
       "    </tr>\n",
       "    <tr>\n",
       "      <th>25%</th>\n",
       "      <td>38.250000</td>\n",
       "      <td>8.825000</td>\n",
       "      <td>1.900000</td>\n",
       "      <td>51.000000</td>\n",
       "      <td>1.000000</td>\n",
       "      <td>1.000000</td>\n",
       "      <td>4.250000</td>\n",
       "      <td>0.511000</td>\n",
       "      <td>101.000000</td>\n",
       "      <td>1.000000</td>\n",
       "      <td>...</td>\n",
       "      <td>33.000000</td>\n",
       "      <td>7.000000</td>\n",
       "      <td>2.000000</td>\n",
       "      <td>35.000000</td>\n",
       "      <td>26.000000</td>\n",
       "      <td>0.000000</td>\n",
       "      <td>164.000000</td>\n",
       "      <td>171.000000</td>\n",
       "      <td>NaN</td>\n",
       "      <td>NaN</td>\n",
       "    </tr>\n",
       "    <tr>\n",
       "      <th>50%</th>\n",
       "      <td>75.500000</td>\n",
       "      <td>10.950000</td>\n",
       "      <td>2.200000</td>\n",
       "      <td>58.000000</td>\n",
       "      <td>2.000000</td>\n",
       "      <td>3.000000</td>\n",
       "      <td>7.500000</td>\n",
       "      <td>0.975000</td>\n",
       "      <td>130.500000</td>\n",
       "      <td>2.000000</td>\n",
       "      <td>...</td>\n",
       "      <td>37.000000</td>\n",
       "      <td>9.000000</td>\n",
       "      <td>3.000000</td>\n",
       "      <td>38.000000</td>\n",
       "      <td>39.500000</td>\n",
       "      <td>0.000000</td>\n",
       "      <td>172.000000</td>\n",
       "      <td>179.000000</td>\n",
       "      <td>NaN</td>\n",
       "      <td>NaN</td>\n",
       "    </tr>\n",
       "    <tr>\n",
       "      <th>75%</th>\n",
       "      <td>112.750000</td>\n",
       "      <td>14.000000</td>\n",
       "      <td>2.700000</td>\n",
       "      <td>69.750000</td>\n",
       "      <td>2.750000</td>\n",
       "      <td>4.000000</td>\n",
       "      <td>12.000000</td>\n",
       "      <td>1.415000</td>\n",
       "      <td>196.750000</td>\n",
       "      <td>4.000000</td>\n",
       "      <td>...</td>\n",
       "      <td>43.000000</td>\n",
       "      <td>12.000000</td>\n",
       "      <td>3.000000</td>\n",
       "      <td>41.000000</td>\n",
       "      <td>58.000000</td>\n",
       "      <td>1.000000</td>\n",
       "      <td>178.000000</td>\n",
       "      <td>185.000000</td>\n",
       "      <td>NaN</td>\n",
       "      <td>NaN</td>\n",
       "    </tr>\n",
       "    <tr>\n",
       "      <th>max</th>\n",
       "      <td>150.000000</td>\n",
       "      <td>23.500000</td>\n",
       "      <td>3.900000</td>\n",
       "      <td>117.000000</td>\n",
       "      <td>3.000000</td>\n",
       "      <td>8.000000</td>\n",
       "      <td>24.000000</td>\n",
       "      <td>2.872000</td>\n",
       "      <td>369.000000</td>\n",
       "      <td>7.000000</td>\n",
       "      <td>...</td>\n",
       "      <td>61.000000</td>\n",
       "      <td>21.000000</td>\n",
       "      <td>6.000000</td>\n",
       "      <td>50.000000</td>\n",
       "      <td>114.000000</td>\n",
       "      <td>1.000000</td>\n",
       "      <td>201.000000</td>\n",
       "      <td>204.000000</td>\n",
       "      <td>NaN</td>\n",
       "      <td>NaN</td>\n",
       "    </tr>\n",
       "  </tbody>\n",
       "</table>\n",
       "<p>8 rows × 23 columns</p>\n",
       "</div>"
      ],
      "text/plain": [
       "        Store No.    Sales $m    Wages $m   No. Staff  Loc'n (Num)  \\\n",
       "count  150.000000  150.000000  150.000000  150.000000   150.000000   \n",
       "mean    75.500000   11.659333    2.376667   61.493333     1.913333   \n",
       "std     43.445368    3.570989    0.567866   14.605206     0.767954   \n",
       "min      1.000000    5.900000    1.500000   35.000000     1.000000   \n",
       "25%     38.250000    8.825000    1.900000   51.000000     1.000000   \n",
       "50%     75.500000   10.950000    2.200000   58.000000     2.000000   \n",
       "75%    112.750000   14.000000    2.700000   69.750000     2.750000   \n",
       "max    150.000000   23.500000    3.900000  117.000000     3.000000   \n",
       "\n",
       "       State (Num)   Age (Yrs)  GrossProfit   Adv.$'000  Competitors  ...  \\\n",
       "count   150.000000  150.000000   150.000000  150.000000   150.000000  ...   \n",
       "mean      3.033333    8.846667     1.009953  147.273333     2.506667  ...   \n",
       "std       1.894594    5.442483     0.645794   67.994265     1.744586  ...   \n",
       "min       1.000000    1.000000     0.018000   20.000000     0.000000  ...   \n",
       "25%       1.000000    4.250000     0.511000  101.000000     1.000000  ...   \n",
       "50%       3.000000    7.500000     0.975000  130.500000     2.000000  ...   \n",
       "75%       4.000000   12.000000     1.415000  196.750000     4.000000  ...   \n",
       "max       8.000000   24.000000     2.872000  369.000000     7.000000  ...   \n",
       "\n",
       "          Mng-Age     Mng-Exp   Mng-Train      Union%  Car Spaces  \\\n",
       "count  150.000000  150.000000  150.000000  150.000000  150.000000   \n",
       "mean    38.420000    9.253333    2.813333   37.786667   44.186667   \n",
       "std      7.337748    3.985185    1.183707    4.899783   22.162725   \n",
       "min     27.000000    1.000000    1.000000   24.000000    8.000000   \n",
       "25%     33.000000    7.000000    2.000000   35.000000   26.000000   \n",
       "50%     37.000000    9.000000    3.000000   38.000000   39.500000   \n",
       "75%     43.000000   12.000000    3.000000   41.000000   58.000000   \n",
       "max     61.000000   21.000000    6.000000   50.000000  114.000000   \n",
       "\n",
       "       HomeDel (Num)  Basket:2013  Basket:2014  Unnamed: 26  Unnamed: 27  \n",
       "count     150.000000   150.000000   150.000000          0.0          0.0  \n",
       "mean        0.300000   171.806667   178.846667          NaN          NaN  \n",
       "std         0.459793     8.005616     8.637158          NaN          NaN  \n",
       "min         0.000000   156.000000   162.000000          NaN          NaN  \n",
       "25%         0.000000   164.000000   171.000000          NaN          NaN  \n",
       "50%         0.000000   172.000000   179.000000          NaN          NaN  \n",
       "75%         1.000000   178.000000   185.000000          NaN          NaN  \n",
       "max         1.000000   201.000000   204.000000          NaN          NaN  \n",
       "\n",
       "[8 rows x 23 columns]"
      ]
     },
     "execution_count": 4,
     "metadata": {},
     "output_type": "execute_result"
    }
   ],
   "source": [
    "df_mall_raw.describe()"
   ]
  },
  {
   "cell_type": "code",
   "execution_count": 5,
   "id": "07ba7e7a",
   "metadata": {},
   "outputs": [
    {
     "data": {
      "image/png": "[encoded data removed]",
      "text/plain": [
       "<Figure size 1080x792 with 2 Axes>"
      ]
     },
     "metadata": {
      "needs_background": "light"
     },
     "output_type": "display_data"
    }
   ],
   "source": [
    "plt.subplots(figsize=(15, 11))\n",
    "heat_map_raw_mall = sns.heatmap(df_mall_raw.corr(), annot = True)\n",
    "plt.title(\"Корреляционная матрица\", pad=16)\n",
    "plt.show()"
   ]
  },
  {
   "cell_type": "code",
   "execution_count": 6,
   "id": "2fd0ae0a",
   "metadata": {},
   "outputs": [
    {
     "data": {
      "text/plain": [
       "array([[<AxesSubplot: title={'center': \"Loc'n (Num)\"}>]], dtype=object)"
      ]
     },
     "execution_count": 6,
     "metadata": {},
     "output_type": "execute_result"
    },
    {
     "data": {
      "image/png": "[encoded data removed]",
      "text/plain": [
       "<Figure size 432x288 with 1 Axes>"
      ]
     },
     "metadata": {
      "needs_background": "light"
     },
     "output_type": "display_data"
    }
   ],
   "source": [
    "df_mall_raw.hist(column=\"Loc'n (Num)\")"
   ]
  },
  {
   "cell_type": "code",
   "execution_count": 7,
   "id": "20b39032",
   "metadata": {},
   "outputs": [
    {
     "data": {
      "text/plain": [
       "array([[<AxesSubplot: title={'center': 'Sales $m'}>]], dtype=object)"
      ]
     },
     "execution_count": 7,
     "metadata": {},
     "output_type": "execute_result"
    },
    {
     "data": {
      "image/png": "[encoded data removed]",
      "text/plain": [
       "<Figure size 432x288 with 1 Axes>"
      ]
     },
     "metadata": {
      "needs_background": "light"
     },
     "output_type": "display_data"
    }
   ],
   "source": [
    "df_mall_raw.hist(column=\"Sales $m\")"
   ]
  },
  {
   "cell_type": "code",
   "execution_count": 8,
   "id": "85042adb",
   "metadata": {},
   "outputs": [
    {
     "data": {
      "text/plain": [
       "array([[<AxesSubplot: title={'center': 'Wages $m'}>]], dtype=object)"
      ]
     },
     "execution_count": 8,
     "metadata": {},
     "output_type": "execute_result"
    },
    {
     "data": {
      "image/png": "[encoded data removed]",
      "text/plain": [
       "<Figure size 432x288 with 1 Axes>"
      ]
     },
     "metadata": {
      "needs_background": "light"
     },
     "output_type": "display_data"
    }
   ],
   "source": [
    "df_mall_raw.hist(column=\"Wages $m\")"
   ]
  },
  {
   "cell_type": "code",
   "execution_count": 9,
   "id": "fd894c3d",
   "metadata": {},
   "outputs": [
    {
     "data": {
      "text/plain": [
       "array([[<AxesSubplot: title={'center': 'No. Staff'}>]], dtype=object)"
      ]
     },
     "execution_count": 9,
     "metadata": {},
     "output_type": "execute_result"
    },
    {
     "data": {
      "image/png": "[encoded data removed]",
      "text/plain": [
       "<Figure size 432x288 with 1 Axes>"
      ]
     },
     "metadata": {
      "needs_background": "light"
     },
     "output_type": "display_data"
    }
   ],
   "source": [
    "df_mall_raw.hist(column=\"No. Staff\")"
   ]
  },
  {
   "cell_type": "code",
   "execution_count": 10,
   "id": "967eddcc",
   "metadata": {},
   "outputs": [
    {
     "data": {
      "text/plain": [
       "array([[<AxesSubplot: title={'center': 'Mng-Exp'}>]], dtype=object)"
      ]
     },
     "execution_count": 10,
     "metadata": {},
     "output_type": "execute_result"
    },
    {
     "data": {
      "image/png": "[encoded data removed]",
      "text/plain": [
       "<Figure size 432x288 with 1 Axes>"
      ]
     },
     "metadata": {
      "needs_background": "light"
     },
     "output_type": "display_data"
    }
   ],
   "source": [
    "df_mall_raw.hist(column=\"Mng-Exp\")"
   ]
  },
  {
   "cell_type": "code",
   "execution_count": 11,
   "id": "048a47f9",
   "metadata": {},
   "outputs": [
    {
     "data": {
      "text/plain": [
       "array([[<AxesSubplot: title={'center': \"Adv.$'000\"}>]], dtype=object)"
      ]
     },
     "execution_count": 11,
     "metadata": {},
     "output_type": "execute_result"
    },
    {
     "data": {
      "image/png": "[encoded data removed]",
      "text/plain": [
       "<Figure size 432x288 with 1 Axes>"
      ]
     },
     "metadata": {
      "needs_background": "light"
     },
     "output_type": "display_data"
    }
   ],
   "source": [
    "df_mall_raw.hist(column=\"Adv.$'000\")"
   ]
  },
  {
   "cell_type": "code",
   "execution_count": 12,
   "id": "a553b8e7",
   "metadata": {},
   "outputs": [
    {
     "data": {
      "text/plain": [
       "array([[<AxesSubplot: title={'center': 'Car Spaces'}>]], dtype=object)"
      ]
     },
     "execution_count": 12,
     "metadata": {},
     "output_type": "execute_result"
    },
    {
     "data": {
      "image/png": "[encoded data removed]",
      "text/plain": [
       "<Figure size 432x288 with 1 Axes>"
      ]
     },
     "metadata": {
      "needs_background": "light"
     },
     "output_type": "display_data"
    }
   ],
   "source": [
    "df_mall_raw.hist(column=\"Car Spaces\")"
   ]
  },
  {
   "cell_type": "markdown",
   "id": "eb412634",
   "metadata": {},
   "source": [
    "### Выберем необходимые экзогенные и эндогенные переменные и построим модель"
   ]
  },
  {
   "cell_type": "markdown",
   "id": "647a48a5",
   "metadata": {},
   "source": [
    "В качестве эндогенной переменной (Y) будет выступать “Sales”, а в качестве экзогенных переменных “Adv_costs”, “Staff_exp”, “Car_Spaces”. Выбраны экзогенные переменные были по причине того, что являются отличными друг от друга бизнес-показателями, а также имеют нормальное распределение."
   ]
  },
  {
   "cell_type": "markdown",
   "id": "6e03c0e5",
   "metadata": {},
   "source": [
    "Sales $m - Общая выручка от продаж по каждому супермаркету за финансовый год.\n",
    "\n",
    "Mng-Exp - Количество лет опыта работы в какой-либо форме младшего / старшего руководства.\n",
    "\n",
    "Car Spaces - Количество парковочных мест.\n",
    "\n",
    "Adv.$'000 - Расходы на рекламу и стимулирование сбыта за финансовый год."
   ]
  },
  {
   "cell_type": "code",
   "execution_count": 13,
   "id": "42d0e068",
   "metadata": {},
   "outputs": [
    {
     "data": {
      "text/html": [
       "<div>\n",
       "<style scoped>\n",
       "    .dataframe tbody tr th:only-of-type {\n",
       "        vertical-align: middle;\n",
       "    }\n",
       "\n",
       "    .dataframe tbody tr th {\n",
       "        vertical-align: top;\n",
       "    }\n",
       "\n",
       "    .dataframe thead th {\n",
       "        text-align: right;\n",
       "    }\n",
       "</style>\n",
       "<table border=\"1\" class=\"dataframe\">\n",
       "  <thead>\n",
       "    <tr style=\"text-align: right;\">\n",
       "      <th></th>\n",
       "      <th>Sales</th>\n",
       "      <th>Staff_exp</th>\n",
       "      <th>Car_Spaces</th>\n",
       "      <th>Adv_costs</th>\n",
       "    </tr>\n",
       "  </thead>\n",
       "  <tbody>\n",
       "    <tr>\n",
       "      <th>0</th>\n",
       "      <td>12.5</td>\n",
       "      <td>12</td>\n",
       "      <td>46</td>\n",
       "      <td>171</td>\n",
       "    </tr>\n",
       "    <tr>\n",
       "      <th>1</th>\n",
       "      <td>14.5</td>\n",
       "      <td>16</td>\n",
       "      <td>73</td>\n",
       "      <td>213</td>\n",
       "    </tr>\n",
       "    <tr>\n",
       "      <th>2</th>\n",
       "      <td>19.0</td>\n",
       "      <td>9</td>\n",
       "      <td>64</td>\n",
       "      <td>255</td>\n",
       "    </tr>\n",
       "    <tr>\n",
       "      <th>3</th>\n",
       "      <td>18.2</td>\n",
       "      <td>9</td>\n",
       "      <td>66</td>\n",
       "      <td>287</td>\n",
       "    </tr>\n",
       "    <tr>\n",
       "      <th>4</th>\n",
       "      <td>7.6</td>\n",
       "      <td>4</td>\n",
       "      <td>29</td>\n",
       "      <td>112</td>\n",
       "    </tr>\n",
       "    <tr>\n",
       "      <th>...</th>\n",
       "      <td>...</td>\n",
       "      <td>...</td>\n",
       "      <td>...</td>\n",
       "      <td>...</td>\n",
       "    </tr>\n",
       "    <tr>\n",
       "      <th>145</th>\n",
       "      <td>14.1</td>\n",
       "      <td>9</td>\n",
       "      <td>63</td>\n",
       "      <td>253</td>\n",
       "    </tr>\n",
       "    <tr>\n",
       "      <th>146</th>\n",
       "      <td>8.1</td>\n",
       "      <td>12</td>\n",
       "      <td>35</td>\n",
       "      <td>20</td>\n",
       "    </tr>\n",
       "    <tr>\n",
       "      <th>147</th>\n",
       "      <td>13.6</td>\n",
       "      <td>8</td>\n",
       "      <td>48</td>\n",
       "      <td>103</td>\n",
       "    </tr>\n",
       "    <tr>\n",
       "      <th>148</th>\n",
       "      <td>10.0</td>\n",
       "      <td>13</td>\n",
       "      <td>34</td>\n",
       "      <td>120</td>\n",
       "    </tr>\n",
       "    <tr>\n",
       "      <th>149</th>\n",
       "      <td>11.6</td>\n",
       "      <td>8</td>\n",
       "      <td>37</td>\n",
       "      <td>102</td>\n",
       "    </tr>\n",
       "  </tbody>\n",
       "</table>\n",
       "<p>150 rows × 4 columns</p>\n",
       "</div>"
      ],
      "text/plain": [
       "     Sales  Staff_exp  Car_Spaces  Adv_costs\n",
       "0     12.5         12          46        171\n",
       "1     14.5         16          73        213\n",
       "2     19.0          9          64        255\n",
       "3     18.2          9          66        287\n",
       "4      7.6          4          29        112\n",
       "..     ...        ...         ...        ...\n",
       "145   14.1          9          63        253\n",
       "146    8.1         12          35         20\n",
       "147   13.6          8          48        103\n",
       "148   10.0         13          34        120\n",
       "149   11.6          8          37        102\n",
       "\n",
       "[150 rows x 4 columns]"
      ]
     },
     "execution_count": 13,
     "metadata": {},
     "output_type": "execute_result"
    }
   ],
   "source": [
    "df_mall = df_mall_raw[[\"Sales $m\", \"Mng-Exp\", \"Car Spaces\", \"Adv.$'000\"]]\n",
    "df_mall = df_mall.rename(columns={\"Sales $m\": \"Sales\",\n",
    "                        \"Mng-Exp\": \"Staff_exp\", \n",
    "                        \"Car Spaces\": \"Car_Spaces\",\n",
    "                        \"Adv.$'000\": \"Adv_costs\"})\n",
    "df_mall"
   ]
  },
  {
   "cell_type": "code",
   "execution_count": 14,
   "id": "51a19c76",
   "metadata": {},
   "outputs": [],
   "source": [
    "Sales = df_mall.Sales.to_numpy()\n",
    "Staff_exp = df_mall.Staff_exp.to_numpy()\n",
    "Car_Spaces = df_mall.Car_Spaces.to_numpy()\n",
    "Adv_costs = df_mall.Adv_costs.to_numpy()"
   ]
  },
  {
   "cell_type": "code",
   "execution_count": 15,
   "id": "02f9dbde",
   "metadata": {},
   "outputs": [
    {
     "data": {
      "text/plain": [
       "Intercept     3.200868\n",
       "Adv_costs     0.036432\n",
       "Staff_exp     0.190925\n",
       "Car_Spaces    0.030015\n",
       "dtype: float64"
      ]
     },
     "execution_count": 15,
     "metadata": {},
     "output_type": "execute_result"
    }
   ],
   "source": [
    "mall_model = sm.OLS.from_formula('Sales ~ Adv_costs+Staff_exp+Car_Spaces', data=df_mall)\n",
    "fitted_mall_model = mall_model.fit()\n",
    "fitted_mall_model.params"
   ]
  },
  {
   "cell_type": "code",
   "execution_count": 16,
   "id": "139a034a",
   "metadata": {},
   "outputs": [
    {
     "name": "stdout",
     "output_type": "stream",
     "text": [
      "                            OLS Regression Results                            \n",
      "==============================================================================\n",
      "Dep. Variable:                  Sales   R-squared:                       0.772\n",
      "Model:                            OLS   Adj. R-squared:                  0.767\n",
      "Method:                 Least Squares   F-statistic:                     164.8\n",
      "Date:                Fri, 10 Feb 2023   Prob (F-statistic):           1.13e-46\n",
      "Time:                        12:29:21   Log-Likelihood:                -292.37\n",
      "No. Observations:                 150   AIC:                             592.7\n",
      "Df Residuals:                     146   BIC:                             604.8\n",
      "Df Model:                           3                                         \n",
      "Covariance Type:            nonrobust                                         \n",
      "==============================================================================\n",
      "                 coef    std err          t      P>|t|      [0.025      0.975]\n",
      "------------------------------------------------------------------------------\n",
      "Intercept      3.2009      0.457      7.002      0.000       2.297       4.104\n",
      "Adv_costs      0.0364      0.003     14.402      0.000       0.031       0.041\n",
      "Staff_exp      0.1909      0.036      5.235      0.000       0.119       0.263\n",
      "Car_Spaces     0.0300      0.008      3.965      0.000       0.015       0.045\n",
      "==============================================================================\n",
      "Omnibus:                        8.714   Durbin-Watson:                   2.006\n",
      "Prob(Omnibus):                  0.013   Jarque-Bera (JB):                7.687\n",
      "Skew:                           0.477   Prob(JB):                       0.0214\n",
      "Kurtosis:                       2.436   Cond. No.                         549.\n",
      "==============================================================================\n",
      "\n",
      "Notes:\n",
      "[1] Standard Errors assume that the covariance matrix of the errors is correctly specified.\n"
     ]
    }
   ],
   "source": [
    "print(fitted_mall_model.summary())"
   ]
  },
  {
   "cell_type": "code",
   "execution_count": 17,
   "id": "31b638cd",
   "metadata": {},
   "outputs": [
    {
     "data": {
      "text/plain": [
       "3"
      ]
     },
     "execution_count": 17,
     "metadata": {},
     "output_type": "execute_result"
    }
   ],
   "source": [
    "Df_model = len(df_mall.columns)-1\n",
    "Df_model"
   ]
  },
  {
   "cell_type": "code",
   "execution_count": 18,
   "id": "e08f4151",
   "metadata": {},
   "outputs": [
    {
     "data": {
      "text/plain": [
       "146"
      ]
     },
     "execution_count": 18,
     "metadata": {},
     "output_type": "execute_result"
    }
   ],
   "source": [
    "Df_residuals = len(df_mall) - Df_model - 1\n",
    "Df_residuals"
   ]
  },
  {
   "cell_type": "markdown",
   "id": "e40b5766",
   "metadata": {},
   "source": [
    "### Проверка выполнения предпосылки о гомоскедастичности остатков модели"
   ]
  },
  {
   "cell_type": "markdown",
   "id": "88a6ef58",
   "metadata": {},
   "source": [
    "#### Подсчет остатков модели"
   ]
  },
  {
   "cell_type": "code",
   "execution_count": 19,
   "id": "7aafb7ab",
   "metadata": {},
   "outputs": [
    {
     "data": {
      "text/plain": [
       "0     -0.602584\n",
       "1     -1.706852\n",
       "2      2.869610\n",
       "3      0.843749\n",
       "4     -1.315421\n",
       "         ...   \n",
       "145   -1.927510\n",
       "146    0.828848\n",
       "147    3.678476\n",
       "148   -1.075283\n",
       "149    2.045077\n",
       "Length: 150, dtype: float64"
      ]
     },
     "execution_count": 19,
     "metadata": {},
     "output_type": "execute_result"
    }
   ],
   "source": [
    "e = fitted_mall_model.resid\n",
    "e"
   ]
  },
  {
   "cell_type": "markdown",
   "id": "520007d7",
   "metadata": {},
   "source": [
    "#### Тест Парка"
   ]
  },
  {
   "cell_type": "code",
   "execution_count": 20,
   "id": "12b8d8e1",
   "metadata": {},
   "outputs": [
    {
     "data": {
      "text/plain": [
       "Intercept           -2.119971\n",
       "np.log(Adv_costs)    0.418858\n",
       "dtype: float64"
      ]
     },
     "execution_count": 20,
     "metadata": {},
     "output_type": "execute_result"
    }
   ],
   "source": [
    "model_Park = sm.OLS.from_formula('np.log(e**2) ~ np.log(Adv_costs)', data=df_mall)\n",
    "summary_Park = model_Park.fit()\n",
    "summary_Park.params"
   ]
  },
  {
   "cell_type": "code",
   "execution_count": 21,
   "id": "a650fba8",
   "metadata": {},
   "outputs": [
    {
     "name": "stdout",
     "output_type": "stream",
     "text": [
      "                            OLS Regression Results                            \n",
      "==============================================================================\n",
      "Dep. Variable:         np.log(e ** 2)   R-squared:                       0.010\n",
      "Model:                            OLS   Adj. R-squared:                  0.003\n",
      "Method:                 Least Squares   F-statistic:                     1.475\n",
      "Date:                Fri, 10 Feb 2023   Prob (F-statistic):              0.226\n",
      "Time:                        12:29:23   Log-Likelihood:                -324.67\n",
      "No. Observations:                 150   AIC:                             653.3\n",
      "Df Residuals:                     148   BIC:                             659.4\n",
      "Df Model:                           1                                         \n",
      "Covariance Type:            nonrobust                                         \n",
      "=====================================================================================\n",
      "                        coef    std err          t      P>|t|      [0.025      0.975]\n",
      "-------------------------------------------------------------------------------------\n",
      "Intercept            -2.1200      1.691     -1.254      0.212      -5.462       1.222\n",
      "np.log(Adv_costs)     0.4189      0.345      1.215      0.226      -0.263       1.100\n",
      "==============================================================================\n",
      "Omnibus:                       40.927   Durbin-Watson:                   2.152\n",
      "Prob(Omnibus):                  0.000   Jarque-Bera (JB):               68.988\n",
      "Skew:                          -1.339   Prob(JB):                     1.05e-15\n",
      "Kurtosis:                       4.966   Cond. No.                         49.8\n",
      "==============================================================================\n",
      "\n",
      "Notes:\n",
      "[1] Standard Errors assume that the covariance matrix of the errors is correctly specified.\n"
     ]
    }
   ],
   "source": [
    "print(summary_Park.summary())"
   ]
  },
  {
   "cell_type": "code",
   "execution_count": 22,
   "id": "81e3c31d",
   "metadata": {},
   "outputs": [
    {
     "data": {
      "text/plain": [
       "1.9759053308869137"
      ]
     },
     "execution_count": 22,
     "metadata": {},
     "output_type": "execute_result"
    }
   ],
   "source": [
    "t_table_Park = t.ppf(0.975, summary_Park.nobs)\n",
    "t_table_Park"
   ]
  },
  {
   "cell_type": "code",
   "execution_count": 23,
   "id": "1f9d8830",
   "metadata": {},
   "outputs": [
    {
     "data": {
      "text/plain": [
       "array([-1.25363103,  1.21459175])"
      ]
     },
     "execution_count": 23,
     "metadata": {},
     "output_type": "execute_result"
    }
   ],
   "source": [
    "t_val_Park = np.array(summary_Park.tvalues)\n",
    "t_val_Park"
   ]
  },
  {
   "cell_type": "code",
   "execution_count": 24,
   "id": "b53af19b",
   "metadata": {},
   "outputs": [
    {
     "data": {
      "text/plain": [
       "array([False, False])"
      ]
     },
     "execution_count": 24,
     "metadata": {},
     "output_type": "execute_result"
    }
   ],
   "source": [
    "t_val_Park > t_table_Park"
   ]
  },
  {
   "cell_type": "markdown",
   "id": "7af0ce10",
   "metadata": {},
   "source": [
    "##### оба параметра не значимы => H0 принимается"
   ]
  },
  {
   "cell_type": "markdown",
   "id": "cc616870",
   "metadata": {},
   "source": [
    "#### Тест Уайта "
   ]
  },
  {
   "cell_type": "code",
   "execution_count": 25,
   "id": "5da20a98",
   "metadata": {},
   "outputs": [
    {
     "name": "stdout",
     "output_type": "stream",
     "text": [
      "{'Test Statistic': 18.364338461367918, 'Test Statistic p-value': 0.03117428072941044}\n"
     ]
    }
   ],
   "source": [
    "white_test = het_white(fitted_mall_model.resid_pearson,  fitted_mall_model.model.exog)\n",
    "\n",
    "labels = ['Test Statistic', 'Test Statistic p-value']\n",
    "\n",
    "print(dict(zip(labels, white_test)))"
   ]
  },
  {
   "cell_type": "markdown",
   "id": "3412d7f4",
   "metadata": {},
   "source": [
    "##### Так как p-value < чем 0.05, то мы не можем принять H0 гипотезу. Можно сказать, что у нас нет достаточных доказательств, что гетероскедастичность отсутствует в данной модели"
   ]
  },
  {
   "cell_type": "markdown",
   "id": "8cc9c7a5",
   "metadata": {},
   "source": [
    "#### Тест Глейзера"
   ]
  },
  {
   "cell_type": "code",
   "execution_count": 26,
   "id": "b315b301",
   "metadata": {},
   "outputs": [
    {
     "name": "stdout",
     "output_type": "stream",
     "text": [
      "Model x t-stats : 1.5305889432055901 \n",
      "\n",
      "Model np.sqrt(x) t-stats : 1.2939348230306043 \n",
      "\n",
      "Model np.abs(1/x) t-stats : 0.2790392952979923 \n",
      "\n",
      "1.9759053308869137\n"
     ]
    }
   ],
   "source": [
    "result = [0, 1, 2, 3]\n",
    "data_glaze = df_mall[['Sales', 'Adv_costs']]\n",
    "data_glaze.columns = ['Sales', 'Adv_costs']\n",
    "model_inputs = ['x', 'np.sqrt(x)', 'np.abs(1/x)']\n",
    "\n",
    "result[1] = sm.OLS.from_formula(\"np.abs(e) ~ Adv_costs\", data = data_glaze).fit().tvalues[\"Adv_costs\"]\n",
    "result[2] = sm.OLS.from_formula(\"np.abs(e) ~ np.sqrt(Adv_costs)\", data = data_glaze).fit().tvalues[\"np.sqrt(Adv_costs)\"]\n",
    "result[3] = sm.OLS.from_formula(\"np.abs(e) ~ np.abs(1/Adv_costs)\", data = data_glaze).fit().tvalues[\"np.abs(1 / Adv_costs)\"]\n",
    "\n",
    "for i in range(3):\n",
    "    print(f'Model {model_inputs[i]} t-stats : {np.abs(result[i + 1])}', '\\n')\n",
    "print(t.ppf(0.975, fitted_mall_model.nobs))"
   ]
  },
  {
   "cell_type": "code",
   "execution_count": 27,
   "id": "8f836c13",
   "metadata": {},
   "outputs": [
    {
     "data": {
      "text/plain": [
       "1.9759053308869137"
      ]
     },
     "execution_count": 27,
     "metadata": {},
     "output_type": "execute_result"
    }
   ],
   "source": [
    "glaze_table_val = t.ppf(0.975, fitted_mall_model.nobs)\n",
    "glaze_table_val"
   ]
  },
  {
   "cell_type": "code",
   "execution_count": 28,
   "id": "9c291b0d",
   "metadata": {},
   "outputs": [
    {
     "data": {
      "text/plain": [
       "False"
      ]
     },
     "execution_count": 28,
     "metadata": {},
     "output_type": "execute_result"
    }
   ],
   "source": [
    "np.abs(result[1]) > glaze_table_val"
   ]
  },
  {
   "cell_type": "code",
   "execution_count": 29,
   "id": "4fecb10c",
   "metadata": {},
   "outputs": [
    {
     "data": {
      "text/plain": [
       "False"
      ]
     },
     "execution_count": 29,
     "metadata": {},
     "output_type": "execute_result"
    }
   ],
   "source": [
    "np.abs(result[2]) > glaze_table_val"
   ]
  },
  {
   "cell_type": "code",
   "execution_count": 30,
   "id": "9736562d",
   "metadata": {},
   "outputs": [
    {
     "data": {
      "text/plain": [
       "False"
      ]
     },
     "execution_count": 30,
     "metadata": {},
     "output_type": "execute_result"
    }
   ],
   "source": [
    "np.abs(result[3]) > glaze_table_val"
   ]
  },
  {
   "cell_type": "markdown",
   "id": "9d10ccda",
   "metadata": {},
   "source": [
    "##### Все оценкци не являются значимыми => H0 принимается"
   ]
  },
  {
   "cell_type": "markdown",
   "id": "39523928",
   "metadata": {},
   "source": [
    "#### Тест Голфреда-Квандта"
   ]
  },
  {
   "cell_type": "code",
   "execution_count": 31,
   "id": "2134fcb3",
   "metadata": {},
   "outputs": [
    {
     "data": {
      "text/plain": [
       "(0.8486639118418189, 0.754436563084995, 'increasing')"
      ]
     },
     "execution_count": 31,
     "metadata": {},
     "output_type": "execute_result"
    }
   ],
   "source": [
    "het_goldfeldquandt(e, df_mall.to_numpy())"
   ]
  },
  {
   "cell_type": "markdown",
   "id": "a6bfbe80",
   "metadata": {},
   "source": [
    "##### p_value > 0.05 => H0 принимается"
   ]
  },
  {
   "cell_type": "markdown",
   "id": "9cdddfa7",
   "metadata": {},
   "source": [
    "### После проведения проверок с помощью методов: Парка, Уайта, Глейзера, Голфреда-Квандта мы можем сделать вывод о том, что остатки гомоскедастичны"
   ]
  },
  {
   "cell_type": "markdown",
   "id": "8bdb79dc",
   "metadata": {},
   "source": [
    "### Проверим выполнение предпосылки об остутствии автокорреляции остатков модели"
   ]
  },
  {
   "cell_type": "code",
   "execution_count": 32,
   "id": "7a84eed5",
   "metadata": {},
   "outputs": [
    {
     "data": {
      "image/png": "[encoded data removed]",
      "text/plain": [
       "<Figure size 432x288 with 1 Axes>"
      ]
     },
     "metadata": {
      "needs_background": "light"
     },
     "output_type": "display_data"
    }
   ],
   "source": [
    "fig = tsaplots.plot_acf(e)\n",
    "plt.show()"
   ]
  },
  {
   "cell_type": "code",
   "execution_count": 33,
   "id": "9536e2de",
   "metadata": {},
   "outputs": [
    {
     "data": {
      "text/html": [
       "<div>\n",
       "<style scoped>\n",
       "    .dataframe tbody tr th:only-of-type {\n",
       "        vertical-align: middle;\n",
       "    }\n",
       "\n",
       "    .dataframe tbody tr th {\n",
       "        vertical-align: top;\n",
       "    }\n",
       "\n",
       "    .dataframe thead th {\n",
       "        text-align: right;\n",
       "    }\n",
       "</style>\n",
       "<table border=\"1\" class=\"dataframe\">\n",
       "  <thead>\n",
       "    <tr style=\"text-align: right;\">\n",
       "      <th></th>\n",
       "      <th>e-1</th>\n",
       "      <th>e</th>\n",
       "    </tr>\n",
       "  </thead>\n",
       "  <tbody>\n",
       "    <tr>\n",
       "      <th>0</th>\n",
       "      <td>-0.602584</td>\n",
       "      <td>-1.706852</td>\n",
       "    </tr>\n",
       "    <tr>\n",
       "      <th>1</th>\n",
       "      <td>-1.706852</td>\n",
       "      <td>2.869610</td>\n",
       "    </tr>\n",
       "    <tr>\n",
       "      <th>2</th>\n",
       "      <td>2.869610</td>\n",
       "      <td>0.843749</td>\n",
       "    </tr>\n",
       "    <tr>\n",
       "      <th>3</th>\n",
       "      <td>0.843749</td>\n",
       "      <td>-1.315421</td>\n",
       "    </tr>\n",
       "    <tr>\n",
       "      <th>4</th>\n",
       "      <td>-1.315421</td>\n",
       "      <td>2.563774</td>\n",
       "    </tr>\n",
       "    <tr>\n",
       "      <th>...</th>\n",
       "      <td>...</td>\n",
       "      <td>...</td>\n",
       "    </tr>\n",
       "    <tr>\n",
       "      <th>144</th>\n",
       "      <td>-1.675895</td>\n",
       "      <td>-1.927510</td>\n",
       "    </tr>\n",
       "    <tr>\n",
       "      <th>145</th>\n",
       "      <td>-1.927510</td>\n",
       "      <td>0.828848</td>\n",
       "    </tr>\n",
       "    <tr>\n",
       "      <th>146</th>\n",
       "      <td>0.828848</td>\n",
       "      <td>3.678476</td>\n",
       "    </tr>\n",
       "    <tr>\n",
       "      <th>147</th>\n",
       "      <td>3.678476</td>\n",
       "      <td>-1.075283</td>\n",
       "    </tr>\n",
       "    <tr>\n",
       "      <th>148</th>\n",
       "      <td>-1.075283</td>\n",
       "      <td>2.045077</td>\n",
       "    </tr>\n",
       "  </tbody>\n",
       "</table>\n",
       "<p>149 rows × 2 columns</p>\n",
       "</div>"
      ],
      "text/plain": [
       "          e-1         e\n",
       "0   -0.602584 -1.706852\n",
       "1   -1.706852  2.869610\n",
       "2    2.869610  0.843749\n",
       "3    0.843749 -1.315421\n",
       "4   -1.315421  2.563774\n",
       "..        ...       ...\n",
       "144 -1.675895 -1.927510\n",
       "145 -1.927510  0.828848\n",
       "146  0.828848  3.678476\n",
       "147  3.678476 -1.075283\n",
       "148 -1.075283  2.045077\n",
       "\n",
       "[149 rows x 2 columns]"
      ]
     },
     "execution_count": 33,
     "metadata": {},
     "output_type": "execute_result"
    }
   ],
   "source": [
    "d = {'e-1': np.array(e[:-1]), 'e': np.array(e[1:])}\n",
    "df_e = pd.DataFrame(data=d)\n",
    "df_e"
   ]
  },
  {
   "cell_type": "code",
   "execution_count": 34,
   "id": "4ce39161",
   "metadata": {},
   "outputs": [
    {
     "data": {
      "image/png": "[encoded data removed]",
      "text/plain": [
       "<Figure size 720x504 with 1 Axes>"
      ]
     },
     "metadata": {
      "needs_background": "light"
     },
     "output_type": "display_data"
    }
   ],
   "source": [
    "plt.subplots(figsize=(10, 7))\n",
    "sns.scatterplot(data=df_e, x=\"e-1\", y=\"e\", color=\"green\")\n",
    "plt.grid(linestyle='-')\n",
    "plt.axhline(y=0, linewidth=1.5, color=\"black\")\n",
    "plt.axvline(x=0, linewidth=1.5, color=\"black\")\n",
    "plt.show()"
   ]
  },
  {
   "cell_type": "markdown",
   "id": "450e50c7",
   "metadata": {},
   "source": [
    "#### тест критерий Дарбина-Уотсона"
   ]
  },
  {
   "cell_type": "code",
   "execution_count": 35,
   "id": "0d432f5c",
   "metadata": {},
   "outputs": [
    {
     "data": {
      "text/plain": [
       "2.0060098794899908"
      ]
     },
     "execution_count": 35,
     "metadata": {},
     "output_type": "execute_result"
    }
   ],
   "source": [
    "durbin_watson(fitted_mall_model.resid)"
   ]
  },
  {
   "cell_type": "code",
   "execution_count": 36,
   "id": "8d623dce",
   "metadata": {},
   "outputs": [
    {
     "name": "stdout",
     "output_type": "stream",
     "text": [
      "0---1.69---1.77---2.23---2.31---4\n",
      " cov>0        cov=0         cov>0\n"
     ]
    }
   ],
   "source": [
    "dl = 1.69\n",
    "du = 1.77\n",
    "a = 0\n",
    "b = 4\n",
    "\n",
    "print(f'{a}---{dl}---{du}---{b-du}---{b-dl}---{b}')\n",
    "print(' cov>0        cov=0         cov>0')"
   ]
  },
  {
   "cell_type": "markdown",
   "id": "9d3299c5",
   "metadata": {},
   "source": [
    "##### dw = 2.0060098794899903 . Он попадает в отрезок (du;4-du) => гипотеза H0 принимается => автокорреляции отстатков нет"
   ]
  },
  {
   "cell_type": "markdown",
   "id": "5d6c2218",
   "metadata": {},
   "source": [
    "#### тест Бройша-Годфри"
   ]
  },
  {
   "cell_type": "code",
   "execution_count": 62,
   "id": "cb971214",
   "metadata": {},
   "outputs": [
    {
     "name": "stdout",
     "output_type": "stream",
     "text": [
      "{'Test Statistic': 14.038142013130827, 'Test Statistic p-value': 0.3711633153373246, 'F-Statistic': 1.0563329561072785, 'F-Test p-value': 0.4026167928035795}\n"
     ]
    }
   ],
   "source": [
    "breusch_godfrey = acorr_breusch_godfrey(fitted_mall_model)\n",
    "\n",
    "labels = ['Test Statistic', 'Test Statistic p-value', 'F-Statistic', 'F-Test p-value']\n",
    "\n",
    "print(dict(zip(labels, breusch_godfrey)))"
   ]
  },
  {
   "cell_type": "markdown",
   "id": "5429251f",
   "metadata": {},
   "source": [
    "##### p-value = 0.37116331533732555 > 0.05 => H0 принимается => автокорреляция отсутствует"
   ]
  },
  {
   "cell_type": "markdown",
   "id": "bca491c1",
   "metadata": {},
   "source": [
    "### После проведения проверок с помощью методов: Дарбина-Уотсона, Бройша-Годфри мы можем сделать вывод о том, что автокорреляция остатков отсутствует"
   ]
  },
  {
   "cell_type": "markdown",
   "id": "cf7a22fe",
   "metadata": {},
   "source": [
    "### Оценим модель с помощью f и t критерия"
   ]
  },
  {
   "cell_type": "markdown",
   "id": "6e83b242",
   "metadata": {},
   "source": [
    "#### Оценим параметры множественной линейной регрессии, предполагая, что соблюдаются условия теоремы Гаусса-Маркова"
   ]
  },
  {
   "cell_type": "code",
   "execution_count": 38,
   "id": "28f18189",
   "metadata": {},
   "outputs": [
    {
     "data": {
      "text/plain": [
       "1.9759053308869137"
      ]
     },
     "execution_count": 38,
     "metadata": {},
     "output_type": "execute_result"
    }
   ],
   "source": [
    "t_table = t.ppf(0.975, fitted_mall_model.nobs)\n",
    "t_table"
   ]
  },
  {
   "cell_type": "code",
   "execution_count": 39,
   "id": "2e8340a4",
   "metadata": {},
   "outputs": [
    {
     "data": {
      "text/plain": [
       "array([ 7.0017592 , 14.40237065,  5.23526567,  3.96486925])"
      ]
     },
     "execution_count": 39,
     "metadata": {},
     "output_type": "execute_result"
    }
   ],
   "source": [
    "t_values = np.array(fitted_mall_model.tvalues)\n",
    "t_values"
   ]
  },
  {
   "cell_type": "code",
   "execution_count": 40,
   "id": "8bd00504",
   "metadata": {},
   "outputs": [
    {
     "data": {
      "text/plain": [
       "array([ True,  True,  True,  True])"
      ]
     },
     "execution_count": 40,
     "metadata": {},
     "output_type": "execute_result"
    }
   ],
   "source": [
    "t_values > t_table"
   ]
  },
  {
   "cell_type": "markdown",
   "id": "c6b44323",
   "metadata": {},
   "source": [
    "##### B0_tнабл > t_table => гипотеза H0 принимается => параметр значим\n",
    "\n",
    "##### Adv_costs_t_набл > t_table => гипотеза H0 принимается => параметр значим\n",
    "\n",
    "##### Staff_exp_t_набл > t_table => гипотеза H0 принимается => параметр значим\n",
    "\n",
    "##### Car_Spaces_t_набл > t_table => гипотеза H0 принимается => параметр значим"
   ]
  },
  {
   "cell_type": "markdown",
   "id": "b5cad0a2",
   "metadata": {},
   "source": [
    "#### Оценим модель, предполагая, что соблюдаются условия теоремы Гаусса-Маркова"
   ]
  },
  {
   "cell_type": "code",
   "execution_count": 41,
   "id": "18b82bfd",
   "metadata": {},
   "outputs": [
    {
     "data": {
      "text/plain": [
       "2.6665742133041834"
      ]
     },
     "execution_count": 41,
     "metadata": {},
     "output_type": "execute_result"
    }
   ],
   "source": [
    "f_table = f.isf(0.05, Df_model, Df_residuals)\n",
    "f_table"
   ]
  },
  {
   "cell_type": "code",
   "execution_count": 42,
   "id": "0d83f8b4",
   "metadata": {},
   "outputs": [
    {
     "data": {
      "text/plain": [
       "164.82406213304637"
      ]
     },
     "execution_count": 42,
     "metadata": {},
     "output_type": "execute_result"
    }
   ],
   "source": [
    "f_value = fitted_mall_model.fvalue\n",
    "f_value"
   ]
  },
  {
   "cell_type": "code",
   "execution_count": 43,
   "id": "068d1abd",
   "metadata": {},
   "outputs": [
    {
     "data": {
      "text/plain": [
       "True"
      ]
     },
     "execution_count": 43,
     "metadata": {},
     "output_type": "execute_result"
    }
   ],
   "source": [
    "f_value > f_table"
   ]
  },
  {
   "cell_type": "markdown",
   "id": "846d98ec",
   "metadata": {},
   "source": [
    "##### f_набл > f_table => гипотеза H0 принимается => модель значима"
   ]
  },
  {
   "cell_type": "markdown",
   "id": "8c19ed49",
   "metadata": {},
   "source": [
    "#### Коэффициенты детерминации"
   ]
  },
  {
   "cell_type": "markdown",
   "id": "e36d59c9",
   "metadata": {},
   "source": [
    "Коэффициент детерминации"
   ]
  },
  {
   "cell_type": "code",
   "execution_count": 44,
   "id": "b1fda89e",
   "metadata": {},
   "outputs": [
    {
     "data": {
      "text/plain": [
       "0.7720431845435151"
      ]
     },
     "execution_count": 44,
     "metadata": {},
     "output_type": "execute_result"
    }
   ],
   "source": [
    "fitted_mall_model.rsquared"
   ]
  },
  {
   "cell_type": "markdown",
   "id": "691b3f10",
   "metadata": {},
   "source": [
    "Скорректированный коэффициент детерминации"
   ]
  },
  {
   "cell_type": "code",
   "execution_count": 45,
   "id": "5ddb593f",
   "metadata": {},
   "outputs": [
    {
     "data": {
      "text/plain": [
       "0.7673591403902996"
      ]
     },
     "execution_count": 45,
     "metadata": {},
     "output_type": "execute_result"
    }
   ],
   "source": [
    "fitted_mall_model.rsquared_adj"
   ]
  },
  {
   "cell_type": "markdown",
   "id": "44912849",
   "metadata": {},
   "source": [
    "#### Ошибка апроксимации"
   ]
  },
  {
   "cell_type": "code",
   "execution_count": 46,
   "id": "13d36c97",
   "metadata": {},
   "outputs": [
    {
     "data": {
      "text/plain": [
       "0.12691172848797735"
      ]
     },
     "execution_count": 46,
     "metadata": {},
     "output_type": "execute_result"
    }
   ],
   "source": [
    "mean_absolute_percentage_error(df_mall[\"Sales\"].to_numpy(), fitted_mall_model.fittedvalues)"
   ]
  },
  {
   "cell_type": "markdown",
   "id": "68c9d9a4",
   "metadata": {},
   "source": [
    "##### Можно сделать вывод, что качество модели среднее по причине того, что: коэффициент корреляции является невысоким для малой выборки, а ошибка апроксимации выше 10%"
   ]
  },
  {
   "cell_type": "markdown",
   "id": "f28dc6e7",
   "metadata": {},
   "source": [
    "### Сравнение текущих значений и предсказанных значений"
   ]
  },
  {
   "cell_type": "markdown",
   "id": "002bd04e",
   "metadata": {},
   "source": [
    "###### `Текущие значения`"
   ]
  },
  {
   "cell_type": "code",
   "execution_count": 47,
   "id": "75e8720e",
   "metadata": {},
   "outputs": [
    {
     "data": {
      "text/html": [
       "<div>\n",
       "<style scoped>\n",
       "    .dataframe tbody tr th:only-of-type {\n",
       "        vertical-align: middle;\n",
       "    }\n",
       "\n",
       "    .dataframe tbody tr th {\n",
       "        vertical-align: top;\n",
       "    }\n",
       "\n",
       "    .dataframe thead th {\n",
       "        text-align: right;\n",
       "    }\n",
       "</style>\n",
       "<table border=\"1\" class=\"dataframe\">\n",
       "  <thead>\n",
       "    <tr style=\"text-align: right;\">\n",
       "      <th></th>\n",
       "      <th>Sales</th>\n",
       "    </tr>\n",
       "  </thead>\n",
       "  <tbody>\n",
       "    <tr>\n",
       "      <th>0</th>\n",
       "      <td>12.5</td>\n",
       "    </tr>\n",
       "    <tr>\n",
       "      <th>1</th>\n",
       "      <td>14.5</td>\n",
       "    </tr>\n",
       "    <tr>\n",
       "      <th>2</th>\n",
       "      <td>19.0</td>\n",
       "    </tr>\n",
       "    <tr>\n",
       "      <th>3</th>\n",
       "      <td>18.2</td>\n",
       "    </tr>\n",
       "    <tr>\n",
       "      <th>4</th>\n",
       "      <td>7.6</td>\n",
       "    </tr>\n",
       "    <tr>\n",
       "      <th>...</th>\n",
       "      <td>...</td>\n",
       "    </tr>\n",
       "    <tr>\n",
       "      <th>145</th>\n",
       "      <td>14.1</td>\n",
       "    </tr>\n",
       "    <tr>\n",
       "      <th>146</th>\n",
       "      <td>8.1</td>\n",
       "    </tr>\n",
       "    <tr>\n",
       "      <th>147</th>\n",
       "      <td>13.6</td>\n",
       "    </tr>\n",
       "    <tr>\n",
       "      <th>148</th>\n",
       "      <td>10.0</td>\n",
       "    </tr>\n",
       "    <tr>\n",
       "      <th>149</th>\n",
       "      <td>11.6</td>\n",
       "    </tr>\n",
       "  </tbody>\n",
       "</table>\n",
       "<p>150 rows × 1 columns</p>\n",
       "</div>"
      ],
      "text/plain": [
       "     Sales\n",
       "0     12.5\n",
       "1     14.5\n",
       "2     19.0\n",
       "3     18.2\n",
       "4      7.6\n",
       "..     ...\n",
       "145   14.1\n",
       "146    8.1\n",
       "147   13.6\n",
       "148   10.0\n",
       "149   11.6\n",
       "\n",
       "[150 rows x 1 columns]"
      ]
     },
     "execution_count": 47,
     "metadata": {},
     "output_type": "execute_result"
    }
   ],
   "source": [
    "df_mall[[\"Sales\"]]"
   ]
  },
  {
   "cell_type": "markdown",
   "id": "0ebb25a1",
   "metadata": {},
   "source": [
    "###### `Предсказанные значения`"
   ]
  },
  {
   "cell_type": "code",
   "execution_count": 48,
   "id": "7d25a456",
   "metadata": {},
   "outputs": [
    {
     "data": {
      "text/html": [
       "<div>\n",
       "<style scoped>\n",
       "    .dataframe tbody tr th:only-of-type {\n",
       "        vertical-align: middle;\n",
       "    }\n",
       "\n",
       "    .dataframe tbody tr th {\n",
       "        vertical-align: top;\n",
       "    }\n",
       "\n",
       "    .dataframe thead th {\n",
       "        text-align: right;\n",
       "    }\n",
       "</style>\n",
       "<table border=\"1\" class=\"dataframe\">\n",
       "  <thead>\n",
       "    <tr style=\"text-align: right;\">\n",
       "      <th></th>\n",
       "      <th>Predicted_Sales</th>\n",
       "    </tr>\n",
       "  </thead>\n",
       "  <tbody>\n",
       "    <tr>\n",
       "      <th>0</th>\n",
       "      <td>13.102584</td>\n",
       "    </tr>\n",
       "    <tr>\n",
       "      <th>1</th>\n",
       "      <td>16.206852</td>\n",
       "    </tr>\n",
       "    <tr>\n",
       "      <th>2</th>\n",
       "      <td>16.130390</td>\n",
       "    </tr>\n",
       "    <tr>\n",
       "      <th>3</th>\n",
       "      <td>17.356251</td>\n",
       "    </tr>\n",
       "    <tr>\n",
       "      <th>4</th>\n",
       "      <td>8.915421</td>\n",
       "    </tr>\n",
       "    <tr>\n",
       "      <th>...</th>\n",
       "      <td>...</td>\n",
       "    </tr>\n",
       "    <tr>\n",
       "      <th>145</th>\n",
       "      <td>16.027510</td>\n",
       "    </tr>\n",
       "    <tr>\n",
       "      <th>146</th>\n",
       "      <td>7.271152</td>\n",
       "    </tr>\n",
       "    <tr>\n",
       "      <th>147</th>\n",
       "      <td>9.921524</td>\n",
       "    </tr>\n",
       "    <tr>\n",
       "      <th>148</th>\n",
       "      <td>11.075283</td>\n",
       "    </tr>\n",
       "    <tr>\n",
       "      <th>149</th>\n",
       "      <td>9.554923</td>\n",
       "    </tr>\n",
       "  </tbody>\n",
       "</table>\n",
       "<p>150 rows × 1 columns</p>\n",
       "</div>"
      ],
      "text/plain": [
       "     Predicted_Sales\n",
       "0          13.102584\n",
       "1          16.206852\n",
       "2          16.130390\n",
       "3          17.356251\n",
       "4           8.915421\n",
       "..               ...\n",
       "145        16.027510\n",
       "146         7.271152\n",
       "147         9.921524\n",
       "148        11.075283\n",
       "149         9.554923\n",
       "\n",
       "[150 rows x 1 columns]"
      ]
     },
     "execution_count": 48,
     "metadata": {},
     "output_type": "execute_result"
    }
   ],
   "source": [
    "pr = pd.DataFrame(fitted_mall_model.fittedvalues, columns=[\"Predicted_Sales\"])\n",
    "pr"
   ]
  },
  {
   "cell_type": "code",
   "execution_count": 60,
   "id": "b1e3f2ee",
   "metadata": {},
   "outputs": [
    {
     "data": {
      "image/png": "[encoded data removed]",
      "text/plain": [
       "<Figure size 720x576 with 1 Axes>"
      ]
     },
     "metadata": {
      "needs_background": "light"
     },
     "output_type": "display_data"
    }
   ],
   "source": [
    "fig, ax = plt.subplots(figsize=(10, 8))\n",
    "sns.distplot(df_mall[\"Sales\"], ax=ax, label='Y').legend()\n",
    "sns.distplot(pr, ax=ax, label='Y_hat').legend()\n",
    "ax.set_xlabel('Sales in USD', size=20)\n",
    "plt.show()"
   ]
  },
  {
   "cell_type": "markdown",
   "id": "05094b8c",
   "metadata": {},
   "source": [
    "### Аналитический блок"
   ]
  },
  {
   "cell_type": "code",
   "execution_count": 61,
   "id": "165b3a8c",
   "metadata": {},
   "outputs": [],
   "source": [
    "# df_mall_raw"
   ]
  },
  {
   "cell_type": "code",
   "execution_count": 119,
   "id": "7774e61d",
   "metadata": {},
   "outputs": [
    {
     "data": {
      "image/png": "[encoded data removed]",
      "text/plain": [
       "<Figure size 720x504 with 1 Axes>"
      ]
     },
     "metadata": {
      "needs_background": "light"
     },
     "output_type": "display_data"
    }
   ],
   "source": [
    "plt.subplots(figsize=(10, 7))\n",
    "sns.barplot(data=df_mall_raw, x=\"Location\", y=\"Sales $m\")\n",
    "plt.show()"
   ]
  },
  {
   "cell_type": "markdown",
   "id": "df2cc733",
   "metadata": {},
   "source": [
    "##### Можно сделать вывод что самая большие продажи приходятся на торговые центры в городах с населением < 20 тыс. чел"
   ]
  },
  {
   "cell_type": "code",
   "execution_count": 120,
   "id": "15d01996",
   "metadata": {},
   "outputs": [
    {
     "data": {
      "image/png": "[encoded data removed]",
      "text/plain": [
       "<Figure size 720x504 with 1 Axes>"
      ]
     },
     "metadata": {
      "needs_background": "light"
     },
     "output_type": "display_data"
    }
   ],
   "source": [
    "# plt.subplots(figsize=(13, 9))\n",
    "plt.subplots(figsize=(10, 7))\n",
    "sns.barplot(data=df_mall_raw, y=\"State\", x=\"Mng-Exp\")\n",
    "plt.show()"
   ]
  },
  {
   "cell_type": "markdown",
   "id": "7c042b25",
   "metadata": {},
   "source": [
    "##### Можно сделать вывод из того что самые опытные сотрудники находятся в центральной части Австралии"
   ]
  },
  {
   "cell_type": "code",
   "execution_count": 121,
   "id": "6ba66828",
   "metadata": {},
   "outputs": [
    {
     "data": {
      "image/png": "[encoded data removed]",
      "text/plain": [
       "<Figure size 720x504 with 1 Axes>"
      ]
     },
     "metadata": {
      "needs_background": "light"
     },
     "output_type": "display_data"
    }
   ],
   "source": [
    "plt.subplots(figsize=(10, 7))\n",
    "sns.scatterplot(data=df_mall_raw, x=\"Sales $m\", y=\"Mng-Exp\", hue=\"Location\")\n",
    "plt.show()"
   ]
  },
  {
   "cell_type": "markdown",
   "id": "8b0149c7",
   "metadata": {},
   "source": [
    "##### Самый низкий показатель продаж приходится на торговые центры на улицах города. Это ожидаемо учитывая что зачастую в этих магазинах работают малоопытные сотрудники"
   ]
  },
  {
   "cell_type": "markdown",
   "id": "617a982e",
   "metadata": {},
   "source": [
    "### Подводя итоги, можно сказать, что, во-первых, был проведен анализ данных, которые были представлены выше. Было выявлено, что самая большая выручка приходится на магазины в городах с населением < 20 тыс. чел. Кроме того, было установлено, что самые опытные сотрудники работают в столичном штате (ACT, Канберра и ее пригороды). Вдобавок было установлено, что самый низкий показатель продаж приходится на небольшие торговые центры (Strip), из-за неопытности сотрудников. \n",
    "\n",
    "### Во-вторых, была построена модель регрессии на основе эндогенной переменной “Sales” и экзогенных переменных “Adv_costs”, “Staff_exp”, “Car_Spaces”. В ходе ее анализа была выявлена гомоскедастичность и отклонено предположение о наличии автокорреляции. \n",
    "\n",
    "### В-третьих, было установлено насколько новая модель является качественной. \n",
    "\n",
    "### По итогам всех действий можно смело заявить, что модель имеет среднее качество. Кроме того можно сказать, что какой бы большой ни была выручка, она не является единственным фактором, который оказывает влияние на успешность бизнеса."
   ]
  }
 ],
 "metadata": {
  "kernelspec": {
   "display_name": "Python 3",
   "language": "python",
   "name": "python3"
  },
  "language_info": {
   "codemirror_mode": {
    "name": "ipython",
    "version": 3
   },
   "file_extension": ".py",
   "mimetype": "text/x-python",
   "name": "python",
   "nbconvert_exporter": "python",
   "pygments_lexer": "ipython3",
   "version": "3.8.8"
  }
 },
 "nbformat": 4,
 "nbformat_minor": 5
}
