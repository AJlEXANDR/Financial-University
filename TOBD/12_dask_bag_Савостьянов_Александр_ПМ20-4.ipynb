{
 "cells": [
  {
   "cell_type": "markdown",
   "metadata": {},
   "source": [
    "# Dask Bag"
   ]
  },
  {
   "cell_type": "markdown",
   "metadata": {},
   "source": [
    "## Задачи для совместного разбора"
   ]
  },
  {
   "cell_type": "code",
   "execution_count": 1,
   "metadata": {},
   "outputs": [],
   "source": [
    "import dask.bag as db\n",
    "import json"
   ]
  },
  {
   "cell_type": "code",
   "execution_count": 2,
   "metadata": {},
   "outputs": [],
   "source": [
    "with open(\"posts.json\") as fp:\n",
    "    posts = json.load(fp)"
   ]
  },
  {
   "cell_type": "code",
   "execution_count": 3,
   "metadata": {},
   "outputs": [
    {
     "data": {
      "text/plain": [
       "[{'userId': 1,\n",
       "  'id': 1,\n",
       "  'title': 'sunt aut facere repellat provident occaecati excepturi optio reprehenderit',\n",
       "  'body': 'quia et suscipit\\nsuscipit recusandae consequuntur expedita et cum\\nreprehenderit molestiae ut ut quas totam\\nnostrum rerum est autem sunt rem eveniet architecto'},\n",
       " {'userId': 1,\n",
       "  'id': 2,\n",
       "  'title': 'qui est esse',\n",
       "  'body': 'est rerum tempore vitae\\nsequi sint nihil reprehenderit dolor beatae ea dolores neque\\nfugiat blanditiis voluptate porro vel nihil molestiae ut reiciendis\\nqui aperiam non debitis possimus qui neque nisi nulla'},\n",
       " {'userId': 1,\n",
       "  'id': 3,\n",
       "  'title': 'ea molestias quasi exercitationem repellat qui ipsa sit aut',\n",
       "  'body': 'et iusto sed quo iure\\nvoluptatem occaecati omnis eligendi aut ad\\nvoluptatem doloribus vel accusantium quis pariatur\\nmolestiae porro eius odio et labore et velit aut'},\n",
       " {'userId': 1,\n",
       "  'id': 4,\n",
       "  'title': 'eum et est occaecati',\n",
       "  'body': 'ullam et saepe reiciendis voluptatem adipisci\\nsit amet autem assumenda provident rerum culpa\\nquis hic commodi nesciunt rem tenetur doloremque ipsam iure\\nquis sunt voluptatem rerum illo velit'},\n",
       " {'userId': 1,\n",
       "  'id': 5,\n",
       "  'title': 'nesciunt quas odio',\n",
       "  'body': 'repudiandae veniam quaerat sunt sed\\nalias aut fugiat sit autem sed est\\nvoluptatem omnis possimus esse voluptatibus quis\\nest aut tenetur dolor neque'},\n",
       " {'userId': 1,\n",
       "  'id': 6,\n",
       "  'title': 'dolorem eum magni eos aperiam quia',\n",
       "  'body': 'ut aspernatur corporis harum nihil quis provident sequi\\nmollitia nobis aliquid molestiae\\nperspiciatis et ea nemo ab reprehenderit accusantium quas\\nvoluptate dolores velit et doloremque molestiae'},\n",
       " {'userId': 1,\n",
       "  'id': 7,\n",
       "  'title': 'magnam facilis autem',\n",
       "  'body': 'dolore placeat quibusdam ea quo vitae\\nmagni quis enim qui quis quo nemo aut saepe\\nquidem repellat excepturi ut quia\\nsunt ut sequi eos ea sed quas'},\n",
       " {'userId': 1,\n",
       "  'id': 8,\n",
       "  'title': 'dolorem dolore est ipsam',\n",
       "  'body': 'dignissimos aperiam dolorem qui eum\\nfacilis quibusdam animi sint suscipit qui sint possimus cum\\nquaerat magni maiores excepturi\\nipsam ut commodi dolor voluptatum modi aut vitae'},\n",
       " {'userId': 1,\n",
       "  'id': 9,\n",
       "  'title': 'nesciunt iure omnis dolorem tempora et accusantium',\n",
       "  'body': 'consectetur animi nesciunt iure dolore\\nenim quia ad\\nveniam autem ut quam aut nobis\\net est aut quod aut provident voluptas autem voluptas'},\n",
       " {'userId': 1,\n",
       "  'id': 10,\n",
       "  'title': 'optio molestias id quia eum',\n",
       "  'body': 'quo et expedita modi cum officia vel magni\\ndoloribus qui repudiandae\\nvero nisi sit\\nquos veniam quod sed accusamus veritatis error'},\n",
       " {'userId': 2,\n",
       "  'id': 11,\n",
       "  'title': 'et ea vero quia laudantium autem',\n",
       "  'body': 'delectus reiciendis molestiae occaecati non minima eveniet qui voluptatibus\\naccusamus in eum beatae sit\\nvel qui neque voluptates ut commodi qui incidunt\\nut animi commodi'},\n",
       " {'userId': 2,\n",
       "  'id': 12,\n",
       "  'title': 'in quibusdam tempore odit est dolorem',\n",
       "  'body': 'itaque id aut magnam\\npraesentium quia et ea odit et ea voluptas et\\nsapiente quia nihil amet occaecati quia id voluptatem\\nincidunt ea est distinctio odio'},\n",
       " {'userId': 2,\n",
       "  'id': 13,\n",
       "  'title': 'dolorum ut in voluptas mollitia et saepe quo animi',\n",
       "  'body': 'aut dicta possimus sint mollitia voluptas commodi quo doloremque\\niste corrupti reiciendis voluptatem eius rerum\\nsit cumque quod eligendi laborum minima\\nperferendis recusandae assumenda consectetur porro architecto ipsum ipsam'},\n",
       " {'userId': 2,\n",
       "  'id': 14,\n",
       "  'title': 'voluptatem eligendi optio',\n",
       "  'body': 'fuga et accusamus dolorum perferendis illo voluptas\\nnon doloremque neque facere\\nad qui dolorum molestiae beatae\\nsed aut voluptas totam sit illum'},\n",
       " {'userId': 2,\n",
       "  'id': 15,\n",
       "  'title': 'eveniet quod temporibus',\n",
       "  'body': 'reprehenderit quos placeat\\nvelit minima officia dolores impedit repudiandae molestiae nam\\nvoluptas recusandae quis delectus\\nofficiis harum fugiat vitae'},\n",
       " {'userId': 2,\n",
       "  'id': 16,\n",
       "  'title': 'sint suscipit perspiciatis velit dolorum rerum ipsa laboriosam odio',\n",
       "  'body': 'suscipit nam nisi quo aperiam aut\\nasperiores eos fugit maiores voluptatibus quia\\nvoluptatem quis ullam qui in alias quia est\\nconsequatur magni mollitia accusamus ea nisi voluptate dicta'},\n",
       " {'userId': 2,\n",
       "  'id': 17,\n",
       "  'title': 'fugit voluptas sed molestias voluptatem provident',\n",
       "  'body': 'eos voluptas et aut odit natus earum\\naspernatur fuga molestiae ullam\\ndeserunt ratione qui eos\\nqui nihil ratione nemo velit ut aut id quo'},\n",
       " {'userId': 2,\n",
       "  'id': 18,\n",
       "  'title': 'voluptate et itaque vero tempora molestiae',\n",
       "  'body': 'eveniet quo quis\\nlaborum totam consequatur non dolor\\nut et est repudiandae\\nest voluptatem vel debitis et magnam'},\n",
       " {'userId': 2,\n",
       "  'id': 19,\n",
       "  'title': 'adipisci placeat illum aut reiciendis qui',\n",
       "  'body': 'illum quis cupiditate provident sit magnam\\nea sed aut omnis\\nveniam maiores ullam consequatur atque\\nadipisci quo iste expedita sit quos voluptas'},\n",
       " {'userId': 2,\n",
       "  'id': 20,\n",
       "  'title': 'doloribus ad provident suscipit at',\n",
       "  'body': 'qui consequuntur ducimus possimus quisquam amet similique\\nsuscipit porro ipsam amet\\neos veritatis officiis exercitationem vel fugit aut necessitatibus totam\\nomnis rerum consequatur expedita quidem cumque explicabo'},\n",
       " {'userId': 3,\n",
       "  'id': 21,\n",
       "  'title': 'asperiores ea ipsam voluptatibus modi minima quia sint',\n",
       "  'body': 'repellat aliquid praesentium dolorem quo\\nsed totam minus non itaque\\nnihil labore molestiae sunt dolor eveniet hic recusandae veniam\\ntempora et tenetur expedita sunt'},\n",
       " {'userId': 3,\n",
       "  'id': 22,\n",
       "  'title': 'dolor sint quo a velit explicabo quia nam',\n",
       "  'body': 'eos qui et ipsum ipsam suscipit aut\\nsed omnis non odio\\nexpedita earum mollitia molestiae aut atque rem suscipit\\nnam impedit esse'},\n",
       " {'userId': 3,\n",
       "  'id': 23,\n",
       "  'title': 'maxime id vitae nihil numquam',\n",
       "  'body': 'veritatis unde neque eligendi\\nquae quod architecto quo neque vitae\\nest illo sit tempora doloremque fugit quod\\net et vel beatae sequi ullam sed tenetur perspiciatis'},\n",
       " {'userId': 3,\n",
       "  'id': 24,\n",
       "  'title': 'autem hic labore sunt dolores incidunt',\n",
       "  'body': 'enim et ex nulla\\nomnis voluptas quia qui\\nvoluptatem consequatur numquam aliquam sunt\\ntotam recusandae id dignissimos aut sed asperiores deserunt'},\n",
       " {'userId': 3,\n",
       "  'id': 25,\n",
       "  'title': 'rem alias distinctio quo quis',\n",
       "  'body': 'ullam consequatur ut\\nomnis quis sit vel consequuntur\\nipsa eligendi ipsum molestiae et omnis error nostrum\\nmolestiae illo tempore quia et distinctio'},\n",
       " {'userId': 3,\n",
       "  'id': 26,\n",
       "  'title': 'est et quae odit qui non',\n",
       "  'body': 'similique esse doloribus nihil accusamus\\nomnis dolorem fuga consequuntur reprehenderit fugit recusandae temporibus\\nperspiciatis cum ut laudantium\\nomnis aut molestiae vel vero'},\n",
       " {'userId': 3,\n",
       "  'id': 27,\n",
       "  'title': 'quasi id et eos tenetur aut quo autem',\n",
       "  'body': 'eum sed dolores ipsam sint possimus debitis occaecati\\ndebitis qui qui et\\nut placeat enim earum aut odit facilis\\nconsequatur suscipit necessitatibus rerum sed inventore temporibus consequatur'},\n",
       " {'userId': 3,\n",
       "  'id': 28,\n",
       "  'title': 'delectus ullam et corporis nulla voluptas sequi',\n",
       "  'body': 'non et quaerat ex quae ad maiores\\nmaiores recusandae totam aut blanditiis mollitia quas illo\\nut voluptatibus voluptatem\\nsimilique nostrum eum'},\n",
       " {'userId': 3,\n",
       "  'id': 29,\n",
       "  'title': 'iusto eius quod necessitatibus culpa ea',\n",
       "  'body': 'odit magnam ut saepe sed non qui\\ntempora atque nihil\\naccusamus illum doloribus illo dolor\\neligendi repudiandae odit magni similique sed cum maiores'},\n",
       " {'userId': 3,\n",
       "  'id': 30,\n",
       "  'title': 'a quo magni similique perferendis',\n",
       "  'body': 'alias dolor cumque\\nimpedit blanditiis non eveniet odio maxime\\nblanditiis amet eius quis tempora quia autem rem\\na provident perspiciatis quia'},\n",
       " {'userId': 4,\n",
       "  'id': 31,\n",
       "  'title': 'ullam ut quidem id aut vel consequuntur',\n",
       "  'body': 'debitis eius sed quibusdam non quis consectetur vitae\\nimpedit ut qui consequatur sed aut in\\nquidem sit nostrum et maiores adipisci atque\\nquaerat voluptatem adipisci repudiandae'},\n",
       " {'userId': 4,\n",
       "  'id': 32,\n",
       "  'title': 'doloremque illum aliquid sunt',\n",
       "  'body': 'deserunt eos nobis asperiores et hic\\nest debitis repellat molestiae optio\\nnihil ratione ut eos beatae quibusdam distinctio maiores\\nearum voluptates et aut adipisci ea maiores voluptas maxime'},\n",
       " {'userId': 4,\n",
       "  'id': 33,\n",
       "  'title': 'qui explicabo molestiae dolorem',\n",
       "  'body': 'rerum ut et numquam laborum odit est sit\\nid qui sint in\\nquasi tenetur tempore aperiam et quaerat qui in\\nrerum officiis sequi cumque quod'},\n",
       " {'userId': 4,\n",
       "  'id': 34,\n",
       "  'title': 'magnam ut rerum iure',\n",
       "  'body': 'ea velit perferendis earum ut voluptatem voluptate itaque iusto\\ntotam pariatur in\\nnemo voluptatem voluptatem autem magni tempora minima in\\nest distinctio qui assumenda accusamus dignissimos officia nesciunt nobis'},\n",
       " {'userId': 4,\n",
       "  'id': 35,\n",
       "  'title': 'id nihil consequatur molestias animi provident',\n",
       "  'body': 'nisi error delectus possimus ut eligendi vitae\\nplaceat eos harum cupiditate facilis reprehenderit voluptatem beatae\\nmodi ducimus quo illum voluptas eligendi\\net nobis quia fugit'},\n",
       " {'userId': 4,\n",
       "  'id': 36,\n",
       "  'title': 'fuga nam accusamus voluptas reiciendis itaque',\n",
       "  'body': 'ad mollitia et omnis minus architecto odit\\nvoluptas doloremque maxime aut non ipsa qui alias veniam\\nblanditiis culpa aut quia nihil cumque facere et occaecati\\nqui aspernatur quia eaque ut aperiam inventore'},\n",
       " {'userId': 4,\n",
       "  'id': 37,\n",
       "  'title': 'provident vel ut sit ratione est',\n",
       "  'body': 'debitis et eaque non officia sed nesciunt pariatur vel\\nvoluptatem iste vero et ea\\nnumquam aut expedita ipsum nulla in\\nvoluptates omnis consequatur aut enim officiis in quam qui'},\n",
       " {'userId': 4,\n",
       "  'id': 38,\n",
       "  'title': 'explicabo et eos deleniti nostrum ab id repellendus',\n",
       "  'body': 'animi esse sit aut sit nesciunt assumenda eum voluptas\\nquia voluptatibus provident quia necessitatibus ea\\nrerum repudiandae quia voluptatem delectus fugit aut id quia\\nratione optio eos iusto veniam iure'},\n",
       " {'userId': 4,\n",
       "  'id': 39,\n",
       "  'title': 'eos dolorem iste accusantium est eaque quam',\n",
       "  'body': 'corporis rerum ducimus vel eum accusantium\\nmaxime aspernatur a porro possimus iste omnis\\nest in deleniti asperiores fuga aut\\nvoluptas sapiente vel dolore minus voluptatem incidunt ex'},\n",
       " {'userId': 4,\n",
       "  'id': 40,\n",
       "  'title': 'enim quo cumque',\n",
       "  'body': 'ut voluptatum aliquid illo tenetur nemo sequi quo facilis\\nipsum rem optio mollitia quas\\nvoluptatem eum voluptas qui\\nunde omnis voluptatem iure quasi maxime voluptas nam'},\n",
       " {'userId': 5,\n",
       "  'id': 41,\n",
       "  'title': 'non est facere',\n",
       "  'body': 'molestias id nostrum\\nexcepturi molestiae dolore omnis repellendus quaerat saepe\\nconsectetur iste quaerat tenetur asperiores accusamus ex ut\\nnam quidem est ducimus sunt debitis saepe'},\n",
       " {'userId': 5,\n",
       "  'id': 42,\n",
       "  'title': 'commodi ullam sint et excepturi error explicabo praesentium voluptas',\n",
       "  'body': 'odio fugit voluptatum ducimus earum autem est incidunt voluptatem\\nodit reiciendis aliquam sunt sequi nulla dolorem\\nnon facere repellendus voluptates quia\\nratione harum vitae ut'},\n",
       " {'userId': 5,\n",
       "  'id': 43,\n",
       "  'title': 'eligendi iste nostrum consequuntur adipisci praesentium sit beatae perferendis',\n",
       "  'body': 'similique fugit est\\nillum et dolorum harum et voluptate eaque quidem\\nexercitationem quos nam commodi possimus cum odio nihil nulla\\ndolorum exercitationem magnam ex et a et distinctio debitis'},\n",
       " {'userId': 5,\n",
       "  'id': 44,\n",
       "  'title': 'optio dolor molestias sit',\n",
       "  'body': 'temporibus est consectetur dolore\\net libero debitis vel velit laboriosam quia\\nipsum quibusdam qui itaque fuga rem aut\\nea et iure quam sed maxime ut distinctio quae'},\n",
       " {'userId': 5,\n",
       "  'id': 45,\n",
       "  'title': 'ut numquam possimus omnis eius suscipit laudantium iure',\n",
       "  'body': 'est natus reiciendis nihil possimus aut provident\\nex et dolor\\nrepellat pariatur est\\nnobis rerum repellendus dolorem autem'},\n",
       " {'userId': 5,\n",
       "  'id': 46,\n",
       "  'title': 'aut quo modi neque nostrum ducimus',\n",
       "  'body': 'voluptatem quisquam iste\\nvoluptatibus natus officiis facilis dolorem\\nquis quas ipsam\\nvel et voluptatum in aliquid'},\n",
       " {'userId': 5,\n",
       "  'id': 47,\n",
       "  'title': 'quibusdam cumque rem aut deserunt',\n",
       "  'body': 'voluptatem assumenda ut qui ut cupiditate aut impedit veniam\\noccaecati nemo illum voluptatem laudantium\\nmolestiae beatae rerum ea iure soluta nostrum\\neligendi et voluptate'},\n",
       " {'userId': 5,\n",
       "  'id': 48,\n",
       "  'title': 'ut voluptatem illum ea doloribus itaque eos',\n",
       "  'body': 'voluptates quo voluptatem facilis iure occaecati\\nvel assumenda rerum officia et\\nillum perspiciatis ab deleniti\\nlaudantium repellat ad ut et autem reprehenderit'},\n",
       " {'userId': 5,\n",
       "  'id': 49,\n",
       "  'title': 'laborum non sunt aut ut assumenda perspiciatis voluptas',\n",
       "  'body': 'inventore ab sint\\nnatus fugit id nulla sequi architecto nihil quaerat\\neos tenetur in in eum veritatis non\\nquibusdam officiis aspernatur cumque aut commodi aut'},\n",
       " {'userId': 5,\n",
       "  'id': 50,\n",
       "  'title': 'repellendus qui recusandae incidunt voluptates tenetur qui omnis exercitationem',\n",
       "  'body': 'error suscipit maxime adipisci consequuntur recusandae\\nvoluptas eligendi et est et voluptates\\nquia distinctio ab amet quaerat molestiae et vitae\\nadipisci impedit sequi nesciunt quis consectetur'},\n",
       " {'userId': 6,\n",
       "  'id': 51,\n",
       "  'title': 'soluta aliquam aperiam consequatur illo quis voluptas',\n",
       "  'body': 'sunt dolores aut doloribus\\ndolore doloribus voluptates tempora et\\ndoloremque et quo\\ncum asperiores sit consectetur dolorem'},\n",
       " {'userId': 6,\n",
       "  'id': 52,\n",
       "  'title': 'qui enim et consequuntur quia animi quis voluptate quibusdam',\n",
       "  'body': 'iusto est quibusdam fuga quas quaerat molestias\\na enim ut sit accusamus enim\\ntemporibus iusto accusantium provident architecto\\nsoluta esse reprehenderit qui laborum'},\n",
       " {'userId': 6,\n",
       "  'id': 53,\n",
       "  'title': 'ut quo aut ducimus alias',\n",
       "  'body': 'minima harum praesentium eum rerum illo dolore\\nquasi exercitationem rerum nam\\nporro quis neque quo\\nconsequatur minus dolor quidem veritatis sunt non explicabo similique'},\n",
       " {'userId': 6,\n",
       "  'id': 54,\n",
       "  'title': 'sit asperiores ipsam eveniet odio non quia',\n",
       "  'body': 'totam corporis dignissimos\\nvitae dolorem ut occaecati accusamus\\nex velit deserunt\\net exercitationem vero incidunt corrupti mollitia'},\n",
       " {'userId': 6,\n",
       "  'id': 55,\n",
       "  'title': 'sit vel voluptatem et non libero',\n",
       "  'body': 'debitis excepturi ea perferendis harum libero optio\\neos accusamus cum fuga ut sapiente repudiandae\\net ut incidunt omnis molestiae\\nnihil ut eum odit'},\n",
       " {'userId': 6,\n",
       "  'id': 56,\n",
       "  'title': 'qui et at rerum necessitatibus',\n",
       "  'body': 'aut est omnis dolores\\nneque rerum quod ea rerum velit pariatur beatae excepturi\\net provident voluptas corrupti\\ncorporis harum reprehenderit dolores eligendi'},\n",
       " {'userId': 6,\n",
       "  'id': 57,\n",
       "  'title': 'sed ab est est',\n",
       "  'body': 'at pariatur consequuntur earum quidem\\nquo est laudantium soluta voluptatem\\nqui ullam et est\\net cum voluptas voluptatum repellat est'},\n",
       " {'userId': 6,\n",
       "  'id': 58,\n",
       "  'title': 'voluptatum itaque dolores nisi et quasi',\n",
       "  'body': 'veniam voluptatum quae adipisci id\\net id quia eos ad et dolorem\\naliquam quo nisi sunt eos impedit error\\nad similique veniam'},\n",
       " {'userId': 6,\n",
       "  'id': 59,\n",
       "  'title': 'qui commodi dolor at maiores et quis id accusantium',\n",
       "  'body': 'perspiciatis et quam ea autem temporibus non voluptatibus qui\\nbeatae a earum officia nesciunt dolores suscipit voluptas et\\nanimi doloribus cum rerum quas et magni\\net hic ut ut commodi expedita sunt'},\n",
       " {'userId': 6,\n",
       "  'id': 60,\n",
       "  'title': 'consequatur placeat omnis quisquam quia reprehenderit fugit veritatis facere',\n",
       "  'body': 'asperiores sunt ab assumenda cumque modi velit\\nqui esse omnis\\nvoluptate et fuga perferendis voluptas\\nillo ratione amet aut et omnis'},\n",
       " {'userId': 7,\n",
       "  'id': 61,\n",
       "  'title': 'voluptatem doloribus consectetur est ut ducimus',\n",
       "  'body': 'ab nemo optio odio\\ndelectus tenetur corporis similique nobis repellendus rerum omnis facilis\\nvero blanditiis debitis in nesciunt doloribus dicta dolores\\nmagnam minus velit'},\n",
       " {'userId': 7,\n",
       "  'id': 62,\n",
       "  'title': 'beatae enim quia vel',\n",
       "  'body': 'enim aspernatur illo distinctio quae praesentium\\nbeatae alias amet delectus qui voluptate distinctio\\nodit sint accusantium autem omnis\\nquo molestiae omnis ea eveniet optio'},\n",
       " {'userId': 7,\n",
       "  'id': 63,\n",
       "  'title': 'voluptas blanditiis repellendus animi ducimus error sapiente et suscipit',\n",
       "  'body': 'enim adipisci aspernatur nemo\\nnumquam omnis facere dolorem dolor ex quis temporibus incidunt\\nab delectus culpa quo reprehenderit blanditiis asperiores\\naccusantium ut quam in voluptatibus voluptas ipsam dicta'},\n",
       " {'userId': 7,\n",
       "  'id': 64,\n",
       "  'title': 'et fugit quas eum in in aperiam quod',\n",
       "  'body': 'id velit blanditiis\\neum ea voluptatem\\nmolestiae sint occaecati est eos perspiciatis\\nincidunt a error provident eaque aut aut qui'},\n",
       " {'userId': 7,\n",
       "  'id': 65,\n",
       "  'title': 'consequatur id enim sunt et et',\n",
       "  'body': 'voluptatibus ex esse\\nsint explicabo est aliquid cumque adipisci fuga repellat labore\\nmolestiae corrupti ex saepe at asperiores et perferendis\\nnatus id esse incidunt pariatur'},\n",
       " {'userId': 7,\n",
       "  'id': 66,\n",
       "  'title': 'repudiandae ea animi iusto',\n",
       "  'body': 'officia veritatis tenetur vero qui itaque\\nsint non ratione\\nsed et ut asperiores iusto eos molestiae nostrum\\nveritatis quibusdam et nemo iusto saepe'},\n",
       " {'userId': 7,\n",
       "  'id': 67,\n",
       "  'title': 'aliquid eos sed fuga est maxime repellendus',\n",
       "  'body': 'reprehenderit id nostrum\\nvoluptas doloremque pariatur sint et accusantium quia quod aspernatur\\net fugiat amet\\nnon sapiente et consequatur necessitatibus molestiae'},\n",
       " {'userId': 7,\n",
       "  'id': 68,\n",
       "  'title': 'odio quis facere architecto reiciendis optio',\n",
       "  'body': 'magnam molestiae perferendis quisquam\\nqui cum reiciendis\\nquaerat animi amet hic inventore\\nea quia deleniti quidem saepe porro velit'},\n",
       " {'userId': 7,\n",
       "  'id': 69,\n",
       "  'title': 'fugiat quod pariatur odit minima',\n",
       "  'body': 'officiis error culpa consequatur modi asperiores et\\ndolorum assumenda voluptas et vel qui aut vel rerum\\nvoluptatum quisquam perspiciatis quia rerum consequatur totam quas\\nsequi commodi repudiandae asperiores et saepe a'},\n",
       " {'userId': 7,\n",
       "  'id': 70,\n",
       "  'title': 'voluptatem laborum magni',\n",
       "  'body': 'sunt repellendus quae\\nest asperiores aut deleniti esse accusamus repellendus quia aut\\nquia dolorem unde\\neum tempora esse dolore'},\n",
       " {'userId': 8,\n",
       "  'id': 71,\n",
       "  'title': 'et iusto veniam et illum aut fuga',\n",
       "  'body': 'occaecati a doloribus\\niste saepe consectetur placeat eum voluptate dolorem et\\nqui quo quia voluptas\\nrerum ut id enim velit est perferendis'},\n",
       " {'userId': 8,\n",
       "  'id': 72,\n",
       "  'title': 'sint hic doloribus consequatur eos non id',\n",
       "  'body': 'quam occaecati qui deleniti consectetur\\nconsequatur aut facere quas exercitationem aliquam hic voluptas\\nneque id sunt ut aut accusamus\\nsunt consectetur expedita inventore velit'},\n",
       " {'userId': 8,\n",
       "  'id': 73,\n",
       "  'title': 'consequuntur deleniti eos quia temporibus ab aliquid at',\n",
       "  'body': 'voluptatem cumque tenetur consequatur expedita ipsum nemo quia explicabo\\naut eum minima consequatur\\ntempore cumque quae est et\\net in consequuntur voluptatem voluptates aut'},\n",
       " {'userId': 8,\n",
       "  'id': 74,\n",
       "  'title': 'enim unde ratione doloribus quas enim ut sit sapiente',\n",
       "  'body': 'odit qui et et necessitatibus sint veniam\\nmollitia amet doloremque molestiae commodi similique magnam et quam\\nblanditiis est itaque\\nquo et tenetur ratione occaecati molestiae tempora'},\n",
       " {'userId': 8,\n",
       "  'id': 75,\n",
       "  'title': 'dignissimos eum dolor ut enim et delectus in',\n",
       "  'body': 'commodi non non omnis et voluptas sit\\nautem aut nobis magnam et sapiente voluptatem\\net laborum repellat qui delectus facilis temporibus\\nrerum amet et nemo voluptate expedita adipisci error dolorem'},\n",
       " {'userId': 8,\n",
       "  'id': 76,\n",
       "  'title': 'doloremque officiis ad et non perferendis',\n",
       "  'body': 'ut animi facere\\ntotam iusto tempore\\nmolestiae eum aut et dolorem aperiam\\nquaerat recusandae totam odio'},\n",
       " {'userId': 8,\n",
       "  'id': 77,\n",
       "  'title': 'necessitatibus quasi exercitationem odio',\n",
       "  'body': 'modi ut in nulla repudiandae dolorum nostrum eos\\naut consequatur omnis\\nut incidunt est omnis iste et quam\\nvoluptates sapiente aliquam asperiores nobis amet corrupti repudiandae provident'},\n",
       " {'userId': 8,\n",
       "  'id': 78,\n",
       "  'title': 'quam voluptatibus rerum veritatis',\n",
       "  'body': 'nobis facilis odit tempore cupiditate quia\\nassumenda doloribus rerum qui ea\\nillum et qui totam\\naut veniam repellendus'},\n",
       " {'userId': 8,\n",
       "  'id': 79,\n",
       "  'title': 'pariatur consequatur quia magnam autem omnis non amet',\n",
       "  'body': 'libero accusantium et et facere incidunt sit dolorem\\nnon excepturi qui quia sed laudantium\\nquisquam molestiae ducimus est\\nofficiis esse molestiae iste et quos'},\n",
       " {'userId': 8,\n",
       "  'id': 80,\n",
       "  'title': 'labore in ex et explicabo corporis aut quas',\n",
       "  'body': 'ex quod dolorem ea eum iure qui provident amet\\nquia qui facere excepturi et repudiandae\\nasperiores molestias provident\\nminus incidunt vero fugit rerum sint sunt excepturi provident'},\n",
       " {'userId': 9,\n",
       "  'id': 81,\n",
       "  'title': 'tempora rem veritatis voluptas quo dolores vero',\n",
       "  'body': 'facere qui nesciunt est voluptatum voluptatem nisi\\nsequi eligendi necessitatibus ea at rerum itaque\\nharum non ratione velit laboriosam quis consequuntur\\nex officiis minima doloremque voluptas ut aut'},\n",
       " {'userId': 9,\n",
       "  'id': 82,\n",
       "  'title': 'laudantium voluptate suscipit sunt enim enim',\n",
       "  'body': 'ut libero sit aut totam inventore sunt\\nporro sint qui sunt molestiae\\nconsequatur cupiditate qui iste ducimus adipisci\\ndolor enim assumenda soluta laboriosam amet iste delectus hic'},\n",
       " {'userId': 9,\n",
       "  'id': 83,\n",
       "  'title': 'odit et voluptates doloribus alias odio et',\n",
       "  'body': 'est molestiae facilis quis tempora numquam nihil qui\\nvoluptate sapiente consequatur est qui\\nnecessitatibus autem aut ipsa aperiam modi dolore numquam\\nreprehenderit eius rem quibusdam'},\n",
       " {'userId': 9,\n",
       "  'id': 84,\n",
       "  'title': 'optio ipsam molestias necessitatibus occaecati facilis veritatis dolores aut',\n",
       "  'body': 'sint molestiae magni a et quos\\neaque et quasi\\nut rerum debitis similique veniam\\nrecusandae dignissimos dolor incidunt consequatur odio'},\n",
       " {'userId': 9,\n",
       "  'id': 85,\n",
       "  'title': 'dolore veritatis porro provident adipisci blanditiis et sunt',\n",
       "  'body': 'similique sed nisi voluptas iusto omnis\\nmollitia et quo\\nassumenda suscipit officia magnam sint sed tempora\\nenim provident pariatur praesentium atque animi amet ratione'},\n",
       " {'userId': 9,\n",
       "  'id': 86,\n",
       "  'title': 'placeat quia et porro iste',\n",
       "  'body': 'quasi excepturi consequatur iste autem temporibus sed molestiae beatae\\net quaerat et esse ut\\nvoluptatem occaecati et vel explicabo autem\\nasperiores pariatur deserunt optio'},\n",
       " {'userId': 9,\n",
       "  'id': 87,\n",
       "  'title': 'nostrum quis quasi placeat',\n",
       "  'body': 'eos et molestiae\\nnesciunt ut a\\ndolores perspiciatis repellendus repellat aliquid\\nmagnam sint rem ipsum est'},\n",
       " {'userId': 9,\n",
       "  'id': 88,\n",
       "  'title': 'sapiente omnis fugit eos',\n",
       "  'body': 'consequatur omnis est praesentium\\nducimus non iste\\nneque hic deserunt\\nvoluptatibus veniam cum et rerum sed'},\n",
       " {'userId': 9,\n",
       "  'id': 89,\n",
       "  'title': 'sint soluta et vel magnam aut ut sed qui',\n",
       "  'body': 'repellat aut aperiam totam temporibus autem et\\narchitecto magnam ut\\nconsequatur qui cupiditate rerum quia soluta dignissimos nihil iure\\ntempore quas est'},\n",
       " {'userId': 9,\n",
       "  'id': 90,\n",
       "  'title': 'ad iusto omnis odit dolor voluptatibus',\n",
       "  'body': 'minus omnis soluta quia\\nqui sed adipisci voluptates illum ipsam voluptatem\\neligendi officia ut in\\neos soluta similique molestias praesentium blanditiis'},\n",
       " {'userId': 10,\n",
       "  'id': 91,\n",
       "  'title': 'aut amet sed',\n",
       "  'body': 'libero voluptate eveniet aperiam sed\\nsunt placeat suscipit molestias\\nsimilique fugit nam natus\\nexpedita consequatur consequatur dolores quia eos et placeat'},\n",
       " {'userId': 10,\n",
       "  'id': 92,\n",
       "  'title': 'ratione ex tenetur perferendis',\n",
       "  'body': 'aut et excepturi dicta laudantium sint rerum nihil\\nlaudantium et at\\na neque minima officia et similique libero et\\ncommodi voluptate qui'},\n",
       " {'userId': 10,\n",
       "  'id': 93,\n",
       "  'title': 'beatae soluta recusandae',\n",
       "  'body': 'dolorem quibusdam ducimus consequuntur dicta aut quo laboriosam\\nvoluptatem quis enim recusandae ut sed sunt\\nnostrum est odit totam\\nsit error sed sunt eveniet provident qui nulla'},\n",
       " {'userId': 10,\n",
       "  'id': 94,\n",
       "  'title': 'qui qui voluptates illo iste minima',\n",
       "  'body': 'aspernatur expedita soluta quo ab ut similique\\nexpedita dolores amet\\nsed temporibus distinctio magnam saepe deleniti\\nomnis facilis nam ipsum natus sint similique omnis'},\n",
       " {'userId': 10,\n",
       "  'id': 95,\n",
       "  'title': 'id minus libero illum nam ad officiis',\n",
       "  'body': 'earum voluptatem facere provident blanditiis velit laboriosam\\npariatur accusamus odio saepe\\ncumque dolor qui a dicta ab doloribus consequatur omnis\\ncorporis cupiditate eaque assumenda ad nesciunt'},\n",
       " {'userId': 10,\n",
       "  'id': 96,\n",
       "  'title': 'quaerat velit veniam amet cupiditate aut numquam ut sequi',\n",
       "  'body': 'in non odio excepturi sint eum\\nlabore voluptates vitae quia qui et\\ninventore itaque rerum\\nveniam non exercitationem delectus aut'},\n",
       " {'userId': 10,\n",
       "  'id': 97,\n",
       "  'title': 'quas fugiat ut perspiciatis vero provident',\n",
       "  'body': 'eum non blanditiis soluta porro quibusdam voluptas\\nvel voluptatem qui placeat dolores qui velit aut\\nvel inventore aut cumque culpa explicabo aliquid at\\nperspiciatis est et voluptatem dignissimos dolor itaque sit nam'},\n",
       " {'userId': 10,\n",
       "  'id': 98,\n",
       "  'title': 'laboriosam dolor voluptates',\n",
       "  'body': 'doloremque ex facilis sit sint culpa\\nsoluta assumenda eligendi non ut eius\\nsequi ducimus vel quasi\\nveritatis est dolores'},\n",
       " {'userId': 10,\n",
       "  'id': 99,\n",
       "  'title': 'temporibus sit alias delectus eligendi possimus magni',\n",
       "  'body': 'quo deleniti praesentium dicta non quod\\naut est molestias\\nmolestias et officia quis nihil\\nitaque dolorem quia'},\n",
       " {'userId': 10,\n",
       "  'id': 100,\n",
       "  'title': 'at nam consequatur ea labore ea harum',\n",
       "  'body': 'cupiditate quo est a modi nesciunt soluta\\nipsa voluptas error itaque dicta in\\nautem qui minus magnam et distinctio eum\\naccusamus ratione error aut'}]"
      ]
     },
     "execution_count": 3,
     "metadata": {},
     "output_type": "execute_result"
    }
   ],
   "source": [
    "posts"
   ]
  },
  {
   "cell_type": "markdown",
   "metadata": {},
   "source": [
    "1. Посчитайте длину (в кол-ве символов) каждого заголовка."
   ]
  },
  {
   "attachments": {
    "image-2.png": {
     "image/png": "[encoded data removed]"
    }
   },
   "cell_type": "markdown",
   "metadata": {},
   "source": [
    "![image-2.png](attachment:image-2.png)"
   ]
  },
  {
   "cell_type": "code",
   "execution_count": 4,
   "metadata": {},
   "outputs": [
    {
     "data": {
      "text/plain": [
       "[74, 12, 59, 20, 18]"
      ]
     },
     "execution_count": 4,
     "metadata": {},
     "output_type": "execute_result"
    }
   ],
   "source": [
    "list(\n",
    "    map(\n",
    "    lambda p: len(p['title']),\n",
    "    posts\n",
    "    )\n",
    ")[:5]"
   ]
  },
  {
   "cell_type": "code",
   "execution_count": 58,
   "metadata": {},
   "outputs": [
    {
     "name": "stdout",
     "output_type": "stream",
     "text": [
      "Wall time: 2 ms\n"
     ]
    },
    {
     "data": {
      "text/plain": [
       "dask.bag<from_sequence, npartitions=100>"
      ]
     },
     "execution_count": 58,
     "metadata": {},
     "output_type": "execute_result"
    }
   ],
   "source": [
    "%%time\n",
    "bag = db.from_sequence(posts)\n",
    "bag"
   ]
  },
  {
   "cell_type": "code",
   "execution_count": 7,
   "metadata": {},
   "outputs": [
    {
     "data": {
      "text/plain": [
       "[74, 12, 59, 20, 18]"
      ]
     },
     "execution_count": 7,
     "metadata": {},
     "output_type": "execute_result"
    }
   ],
   "source": [
    "bag = db.from_sequence(posts, npartitions=10)\n",
    "bag.map(lambda p: len(p['title'])).compute()[:5]"
   ]
  },
  {
   "cell_type": "markdown",
   "metadata": {},
   "source": [
    "2. Выведите id постов, длина заголовков которых не более 15 символов."
   ]
  },
  {
   "cell_type": "code",
   "execution_count": 8,
   "metadata": {},
   "outputs": [
    {
     "data": {
      "text/plain": [
       "[2, 40, 41, 57, 91]"
      ]
     },
     "execution_count": 8,
     "metadata": {},
     "output_type": "execute_result"
    }
   ],
   "source": [
    "[p['id'] for p in posts if len(p['title']) <= 15]"
   ]
  },
  {
   "attachments": {
    "image-2.png": {
     "image/png": "[encoded data removed]"
    }
   },
   "cell_type": "markdown",
   "metadata": {},
   "source": [
    "![image-2.png](attachment:image-2.png)"
   ]
  },
  {
   "cell_type": "code",
   "execution_count": 9,
   "metadata": {},
   "outputs": [
    {
     "data": {
      "text/plain": [
       "[2, 40, 41, 57, 91]"
      ]
     },
     "execution_count": 9,
     "metadata": {},
     "output_type": "execute_result"
    }
   ],
   "source": [
    "list(\n",
    "    map( \n",
    "        lambda p: p['id'], \n",
    "        filter(\n",
    "        lambda p: len(p['title']) <= 15,\n",
    "        posts    \n",
    "    )\n",
    "  )      \n",
    ")"
   ]
  },
  {
   "cell_type": "code",
   "execution_count": 10,
   "metadata": {},
   "outputs": [
    {
     "data": {
      "text/plain": [
       "[2, 40, 41, 57, 91]"
      ]
     },
     "execution_count": 10,
     "metadata": {},
     "output_type": "execute_result"
    }
   ],
   "source": [
    "bag.filter(lambda p: len(p['title']) <= 15).map(lambda p: p['id']).compute()[:5]"
   ]
  },
  {
   "cell_type": "markdown",
   "metadata": {},
   "source": [
    "3. Посчитайте сумму длин описаний постов"
   ]
  },
  {
   "cell_type": "code",
   "execution_count": 11,
   "metadata": {},
   "outputs": [
    {
     "data": {
      "text/plain": [
       "16064"
      ]
     },
     "execution_count": 11,
     "metadata": {},
     "output_type": "execute_result"
    }
   ],
   "source": [
    "sum(len(p['body']) for p in posts)"
   ]
  },
  {
   "attachments": {
    "image-2.png": {
     "image/png": "[encoded data removed]"
    }
   },
   "cell_type": "markdown",
   "metadata": {},
   "source": [
    "![image-2.png](attachment:image-2.png)"
   ]
  },
  {
   "cell_type": "code",
   "execution_count": 12,
   "metadata": {},
   "outputs": [],
   "source": [
    "from functools import reduce"
   ]
  },
  {
   "cell_type": "code",
   "execution_count": null,
   "metadata": {},
   "outputs": [],
   "source": [
    "# 1 2 3 \n",
    "\n",
    "# (1 + 2)\n",
    "\n",
    "# (3 + 3 = 6)\n",
    "\n",
    "# (1+2) + 3 = 6 "
   ]
  },
  {
   "cell_type": "code",
   "execution_count": 13,
   "metadata": {},
   "outputs": [
    {
     "data": {
      "text/plain": [
       "16064"
      ]
     },
     "execution_count": 13,
     "metadata": {},
     "output_type": "execute_result"
    }
   ],
   "source": [
    "reduce(\n",
    "    lambda l, r: l + r,\n",
    "    map(\n",
    "        lambda p: len(p['body']),\n",
    "        posts\n",
    "    )   \n",
    ")"
   ]
  },
  {
   "attachments": {
    "image.png": {
     "image/png": "[encoded data removed]"
    }
   },
   "cell_type": "markdown",
   "metadata": {},
   "source": [
    "![image.png](attachment:image.png)"
   ]
  },
  {
   "cell_type": "code",
   "execution_count": 14,
   "metadata": {},
   "outputs": [
    {
     "data": {
      "text/plain": [
       "16064"
      ]
     },
     "execution_count": 14,
     "metadata": {},
     "output_type": "execute_result"
    }
   ],
   "source": [
    "bag.map(lambda p: len(p['body'])).reduction(\n",
    "    lambda partition: sum(partition),\n",
    "    lambda partition_results: sum(partition_results)    \n",
    ").compute()"
   ]
  },
  {
   "cell_type": "code",
   "execution_count": null,
   "metadata": {},
   "outputs": [],
   "source": [
    "class A:\n",
    "    pass\n",
    "\n",
    "a = A()"
   ]
  },
  {
   "cell_type": "code",
   "execution_count": null,
   "metadata": {},
   "outputs": [],
   "source": [
    "# import pickle # pickle - это бинарник \n",
    "\n",
    "# with open('test.pickle') as\n",
    "#     fp.dump()"
   ]
  },
  {
   "cell_type": "markdown",
   "metadata": {},
   "source": [
    "4. При помощи метода `foldby` посчитайте, сколько постов написал каждый из пользователей."
   ]
  },
  {
   "attachments": {
    "image-2.png": {
     "image/png": "[encoded data removed]"
    }
   },
   "cell_type": "markdown",
   "metadata": {},
   "source": [
    "![image-2.png](attachment:image-2.png)"
   ]
  },
  {
   "cell_type": "code",
   "execution_count": 23,
   "metadata": {},
   "outputs": [
    {
     "data": {
      "text/plain": [
       "[(1, 10),\n",
       " (2, 10),\n",
       " (3, 10),\n",
       " (4, 10),\n",
       " (5, 10),\n",
       " (6, 10),\n",
       " (7, 10),\n",
       " (8, 10),\n",
       " (9, 10),\n",
       " (10, 10)]"
      ]
     },
     "execution_count": 23,
     "metadata": {},
     "output_type": "execute_result"
    }
   ],
   "source": [
    "def binop(l, r):\n",
    "    return l + 1\n",
    "\n",
    "def combine(l, r):\n",
    "    return l + r\n",
    "\n",
    "bag.foldby(\n",
    "    lambda p: p['userId'],\n",
    "    binop,\n",
    "    0,\n",
    "    combine,\n",
    "    0\n",
    ").compute()"
   ]
  },
  {
   "cell_type": "markdown",
   "metadata": {},
   "source": [
    "## Лабораторная работа 12"
   ]
  },
  {
   "cell_type": "markdown",
   "metadata": {},
   "source": [
    "__При решении данных задач не подразумевается использования циклов или генераторов Python в ходе работы с пакетами `numpy`, `pandas` и `dask`, если в задании не сказано обратного. Решения задач, в которых для обработки массивов `numpy`, структур `pandas` или структур `dask` используются явные циклы (без согласования с преподавателем), могут быть признаны некорректными и не засчитаны.__"
   ]
  },
  {
   "cell_type": "markdown",
   "metadata": {},
   "source": [
    "В ходе выполнения все операции вычислений проводятся над `dask.bag` и средствами пакета `dask`, если в задании не сказано обратного. Переход от `dask.bag` к `pd.DataFrame` возможен исключительно для демонстрации результата в конце решения задачи. Если в задаче используются результаты выполнения предыдущих задач, то подразумевается, что вы используете результаты в виде `dask.bag` (то есть то, что было получено до вызова `compute`, а не после)."
   ]
  },
  {
   "cell_type": "code",
   "execution_count": 1,
   "metadata": {},
   "outputs": [],
   "source": [
    "import re\n",
    "import time\n",
    "import json\n",
    "import nltk\n",
    "import dask\n",
    "import numpy as np\n",
    "import pandas as pd\n",
    "import dask.bag as db\n",
    "from itertools import chain\n",
    "from functools import reduce\n",
    "from nltk import word_tokenize\n",
    "from collections import Counter\n",
    "from operator import itemgetter\n",
    "import matplotlib.pyplot as plt\n",
    "from iteration_utilities import flatten"
   ]
  },
  {
   "cell_type": "markdown",
   "metadata": {},
   "source": [
    "1\\. В файлах архива `reviews_full.zip` находятся файлы, содержащие информацию об отзывах к рецептам в формате JSON Lines. Отзывы разделены на файлы в зависимости от оценки (например, в файле `reviews_1.json` находятся отзывы с оценкой 1). Считайте файлы из этого архива (предварительно разархивировав) в виде `dask.bag`. Преобразуйте текстовое содержимое файлов с помощью модуля `json`. Выведите на экран первые 5 элементов полученного `bag`."
   ]
  },
  {
   "cell_type": "code",
   "execution_count": 2,
   "metadata": {},
   "outputs": [
    {
     "data": {
      "text/plain": [
       "({'user_id': 452355,\n",
       "  'recipe_id': 292657,\n",
       "  'date': '2016-05-08',\n",
       "  'review': 'WOW!!! This is the best. I have never been able to make homemade enchiladas that taste like the Mexican restaurants. I made this last night for my family and they said they will never have enchiladas at the Mexican Restaurants again. Thanks for sharing.'},\n",
       " {'user_id': 329304,\n",
       "  'recipe_id': 433404,\n",
       "  'date': '2006-06-14',\n",
       "  'review': 'This was good but the dressing needed something and I found it to be a little too sweet, next time I will experiment with some garlic and herbs and reduce the sugar slightly, thanks for sharing kcdlong!...Kitten'},\n",
       " {'user_id': 227932,\n",
       "  'recipe_id': 2008187,\n",
       "  'date': '1985-11-19',\n",
       "  'review': 'Very good,it was a hit for my family. I used 6 cloves of garlic and had 1 lb beef and  Johnsonville sausage,1/2 lb hot and  1/2 lb honey garlic( which I wanted to use). That was a perfect combo for us. The sausage gave it nice flavor No guestion , I will be making this often.'},\n",
       " {'user_id': 171468,\n",
       "  'recipe_id': 270716,\n",
       "  'date': '2019-05-21',\n",
       "  'review': 'Made for ZWT-8 Family Picks after I saw these mentioned in the Family Picks thread. So I got up this morning, made my morning coffee while the oven was heating & then made these quick-fix sweet treats B4 I was ready for my 2nd cup of coffee. I used 8\" tortillas (all I had on-hand) & cut them into 8 wedges. Then I used 2 of my Pamperd Chef gadgets .. my sml basting brush to spread the honey on the warm tortillas & my flour/sugar shaker to sprinkle the powd sugar/cinnamon mixture atop the honeyed tortillas. It might have taken a total of 2 min from oven to tasting! Yum! Using the same \"sweet mix\" these would also be good w/butter, cream cheese or even lime juice. Can\\'t wait to try them w/lime juice! Thx for sharing this tasty little treat w/us.'},\n",
       " {'user_id': 91392,\n",
       "  'recipe_id': 1159916,\n",
       "  'date': '1972-09-18',\n",
       "  'review': \"Very nice slaw. I especially like that it doesn't have the mayo dressing. I used a prepackaged Cole slaw mix, so i didn't include the carrots nor the nuts. I also doubled the sauce. :)\"})"
      ]
     },
     "execution_count": 2,
     "metadata": {},
     "output_type": "execute_result"
    }
   ],
   "source": [
    "bag = db.read_text('reviews_*.json').map(json.loads).take(5)\n",
    "bag"
   ]
  },
  {
   "cell_type": "markdown",
   "metadata": {},
   "source": [
    "2\\. Модифицируйте функцию разбора JSON таким образом, чтобы в каждый словарь c информацией об отзыве добавить ключ `rating`. Значение получите на основе названия файла (см. аргумент `include_path` функции `read_text`), использовав для этого регулярное выражение. При создании `bag` разбейте набор данных на сегменты размером 128 Мб (см. аргумент `blocksize`).  Выведите на экран первые 5 элементов полученного `bag`."
   ]
  },
  {
   "cell_type": "code",
   "execution_count": 3,
   "metadata": {},
   "outputs": [],
   "source": [
    "def upd_dict(bag):\n",
    "    patt = re.compile(r\"(reviews_\\d)\")\n",
    "    d = json.loads(bag[0])\n",
    "    d[\"rating\"] = rating_num = int(patt.findall(bag[1])[0].split('_')[1])\n",
    "    return d"
   ]
  },
  {
   "cell_type": "code",
   "execution_count": 4,
   "metadata": {},
   "outputs": [
    {
     "data": {
      "text/plain": [
       "({'user_id': 452355,\n",
       "  'recipe_id': 292657,\n",
       "  'date': '2016-05-08',\n",
       "  'review': 'WOW!!! This is the best. I have never been able to make homemade enchiladas that taste like the Mexican restaurants. I made this last night for my family and they said they will never have enchiladas at the Mexican Restaurants again. Thanks for sharing.',\n",
       "  'rating': 0},\n",
       " {'user_id': 329304,\n",
       "  'recipe_id': 433404,\n",
       "  'date': '2006-06-14',\n",
       "  'review': 'This was good but the dressing needed something and I found it to be a little too sweet, next time I will experiment with some garlic and herbs and reduce the sugar slightly, thanks for sharing kcdlong!...Kitten',\n",
       "  'rating': 0},\n",
       " {'user_id': 227932,\n",
       "  'recipe_id': 2008187,\n",
       "  'date': '1985-11-19',\n",
       "  'review': 'Very good,it was a hit for my family. I used 6 cloves of garlic and had 1 lb beef and  Johnsonville sausage,1/2 lb hot and  1/2 lb honey garlic( which I wanted to use). That was a perfect combo for us. The sausage gave it nice flavor No guestion , I will be making this often.',\n",
       "  'rating': 0},\n",
       " {'user_id': 171468,\n",
       "  'recipe_id': 270716,\n",
       "  'date': '2019-05-21',\n",
       "  'review': 'Made for ZWT-8 Family Picks after I saw these mentioned in the Family Picks thread. So I got up this morning, made my morning coffee while the oven was heating & then made these quick-fix sweet treats B4 I was ready for my 2nd cup of coffee. I used 8\" tortillas (all I had on-hand) & cut them into 8 wedges. Then I used 2 of my Pamperd Chef gadgets .. my sml basting brush to spread the honey on the warm tortillas & my flour/sugar shaker to sprinkle the powd sugar/cinnamon mixture atop the honeyed tortillas. It might have taken a total of 2 min from oven to tasting! Yum! Using the same \"sweet mix\" these would also be good w/butter, cream cheese or even lime juice. Can\\'t wait to try them w/lime juice! Thx for sharing this tasty little treat w/us.',\n",
       "  'rating': 0},\n",
       " {'user_id': 91392,\n",
       "  'recipe_id': 1159916,\n",
       "  'date': '1972-09-18',\n",
       "  'review': \"Very nice slaw. I especially like that it doesn't have the mayo dressing. I used a prepackaged Cole slaw mix, so i didn't include the carrots nor the nuts. I also doubled the sauce. :)\",\n",
       "  'rating': 0})"
      ]
     },
     "execution_count": 4,
     "metadata": {},
     "output_type": "execute_result"
    }
   ],
   "source": [
    "num_2_bag = db.read_text('reviews_*.json', blocksize='128MiB', encoding='utf-8', include_path=True).map(upd_dict)\n",
    "num_2_bag.take(5)"
   ]
  },
  {
   "cell_type": "markdown",
   "metadata": {},
   "source": [
    "3\\. Посчитайте, сколько различных пользователей оставляли отзывы. Выведите это количество на экран."
   ]
  },
  {
   "cell_type": "code",
   "execution_count": 14,
   "metadata": {},
   "outputs": [
    {
     "data": {
      "text/plain": [
       "226570"
      ]
     },
     "execution_count": 14,
     "metadata": {},
     "output_type": "execute_result"
    }
   ],
   "source": [
    "num_3_bag = db.read_text('reviews_*.json').map(json.loads)\n",
    "num_3_bag = num_3_bag.map(lambda x: x['user_id'])\n",
    "res = len(set(num_3_bag.compute()))\n",
    "res"
   ]
  },
  {
   "cell_type": "markdown",
   "metadata": {},
   "source": [
    "4\\. Создайте версию `bag` из задания 2, в которой сохранены только отзывы, оставленные в 2014 и 2015 годах. Посчитайте и выведите на экран долю, которую составляют отзывы, оставленные в 2014 и 2015 году, среди всех отзывов."
   ]
  },
  {
   "cell_type": "code",
   "execution_count": 15,
   "metadata": {},
   "outputs": [
    {
     "name": "stdout",
     "output_type": "stream",
     "text": [
      "Доля, которую составляют отзывы, оставленные в 2014 и 2015 году, среди всех отзывов:  0.08117811237929945\n"
     ]
    }
   ],
   "source": [
    "patt = re.compile(r\"((?:2014|2015)-\\d\\d-\\d\\d)\")\n",
    "count_1415 = num_2_bag.filter(lambda x: patt.findall(x[\"date\"])).count().compute()\n",
    "count_all = num_2_bag.map(lambda x: x['date']).count().compute()\n",
    "frac = count_1415/count_all\n",
    "print(\"Доля, которую составляют отзывы, оставленные в 2014 и 2015 году, среди всех отзывов: \", frac)"
   ]
  },
  {
   "cell_type": "markdown",
   "metadata": {},
   "source": [
    "5\\. Для отзывов, оставленных в мае 2013 года, выполните предобработку: \n",
    "   * приведите строки к нижнему регистру;\n",
    "   * обрежьте пробельные символы в начале и конце строки;\n",
    "   * удалите все символы, кроме английских букв и пробелов.\n",
    "   \n",
    "Посчитайте и выведите на экран среднюю длину этих отзывов после предобработки. Если текстовое содержимое отзыва отсутствует, считайте, что длина отзыва равна нулю."
   ]
  },
  {
   "cell_type": "code",
   "execution_count": 16,
   "metadata": {},
   "outputs": [
    {
     "name": "stdout",
     "output_type": "stream",
     "text": [
      "Средняя длина этих отзывов после предобработки:  269.2301560494494\n"
     ]
    }
   ],
   "source": [
    "patt_eng = re.compile(r\"[^a-zA-Z\\s]+\")\n",
    "patt_2013 = re.compile(r\"((?:2013)-(?:05)-\\d\\d)\")\n",
    "\n",
    "bag_filtered_2013 = num_2_bag.filter(lambda x: patt_2013.findall(x[\"date\"]))\n",
    "bag_of_reviews = bag_filtered_2013.map(lambda x: x[\"review\"].strip().lower()) \n",
    "bag_of_reviews = bag_of_reviews.map(lambda x: re.sub(r\"[^a-zA-Z\\s]+\", \"\", x))\n",
    "\n",
    "sum_len_of_all_strings = sum(map(len, bag_of_reviews.compute()))\n",
    "\n",
    "len_of_bag = len(bag_filtered_2013.compute())\n",
    "print(\"Средняя длина этих отзывов после предобработки: \", sum_len_of_all_strings/len_of_bag)"
   ]
  },
  {
   "cell_type": "markdown",
   "metadata": {},
   "source": [
    "6\\. Посчитайте, как часто встречается та или иная оценка:\n",
    "\n",
    "   * в 2014 году;\n",
    "   * в 2015 году.\n",
    "\n",
    "Создайте `pd.DataFrame`, содержащий 2 столбца: `2014`, `2015` и 6 строк, имеющие индексы строк от 0 до 5. Дайте индексам строк имя `rating`. Выведите полученную таблицу на экран."
   ]
  },
  {
   "cell_type": "code",
   "execution_count": 17,
   "metadata": {},
   "outputs": [
    {
     "data": {
      "text/html": [
       "<div>\n",
       "<style scoped>\n",
       "    .dataframe tbody tr th:only-of-type {\n",
       "        vertical-align: middle;\n",
       "    }\n",
       "\n",
       "    .dataframe tbody tr th {\n",
       "        vertical-align: top;\n",
       "    }\n",
       "\n",
       "    .dataframe thead th {\n",
       "        text-align: right;\n",
       "    }\n",
       "</style>\n",
       "<table border=\"1\" class=\"dataframe\">\n",
       "  <thead>\n",
       "    <tr style=\"text-align: right;\">\n",
       "      <th></th>\n",
       "      <th>2014</th>\n",
       "      <th>2015</th>\n",
       "    </tr>\n",
       "    <tr>\n",
       "      <th>rating</th>\n",
       "      <th></th>\n",
       "      <th></th>\n",
       "    </tr>\n",
       "  </thead>\n",
       "  <tbody>\n",
       "    <tr>\n",
       "      <th>0</th>\n",
       "      <td>21136</td>\n",
       "      <td>21336</td>\n",
       "    </tr>\n",
       "    <tr>\n",
       "      <th>1</th>\n",
       "      <td>4344</td>\n",
       "      <td>4902</td>\n",
       "    </tr>\n",
       "    <tr>\n",
       "      <th>2</th>\n",
       "      <td>4507</td>\n",
       "      <td>4873</td>\n",
       "    </tr>\n",
       "    <tr>\n",
       "      <th>3</th>\n",
       "      <td>12865</td>\n",
       "      <td>13667</td>\n",
       "    </tr>\n",
       "    <tr>\n",
       "      <th>4</th>\n",
       "      <td>58433</td>\n",
       "      <td>60980</td>\n",
       "    </tr>\n",
       "    <tr>\n",
       "      <th>5</th>\n",
       "      <td>258832</td>\n",
       "      <td>269399</td>\n",
       "    </tr>\n",
       "  </tbody>\n",
       "</table>\n",
       "</div>"
      ],
      "text/plain": [
       "          2014    2015\n",
       "rating                \n",
       "0        21136   21336\n",
       "1         4344    4902\n",
       "2         4507    4873\n",
       "3        12865   13667\n",
       "4        58433   60980\n",
       "5       258832  269399"
      ]
     },
     "execution_count": 17,
     "metadata": {},
     "output_type": "execute_result"
    }
   ],
   "source": [
    "patt_2014 = re.compile(r\"(?:2014)\")\n",
    "patt_2015 = re.compile(r\"(?:2015)\")\n",
    "\n",
    "bag_filtered_2014 = num_2_bag.filter(lambda x: patt_2014.findall(x[\"date\"]))\n",
    "rating_stats_2014 = bag_filtered_2014.map(lambda x: Counter(x).get(\"rating\")).compute()\n",
    "bag_filtered_2015 = num_2_bag.filter(lambda x: patt_2015.findall(x[\"date\"]))\n",
    "rating_stats_2015 = bag_filtered_2015.map(lambda x: Counter(x).get(\"rating\")).compute()\n",
    "\n",
    "d = {'rating': list(np.unique(rating_stats_2014, return_counts=True)[0]),\n",
    "     '2014': list(np.unique(rating_stats_2014, return_counts=True)[1]),\n",
    "     '2015': list(np.unique(rating_stats_2015, return_counts=True)[1])}\n",
    "df_answ = pd.DataFrame(data=d)\n",
    "df_answ = df_answ.set_index('rating')\n",
    "\n",
    "df_answ"
   ]
  },
  {
   "cell_type": "markdown",
   "metadata": {},
   "source": [
    "7\\.  Перераспределите данные из исходного `bag` на $k, k=2, 16, 32, 64, 128$ частей. Для каждого разбиения измерьте время выполнения расчета среднего рейтинга. Визуализируйте зависимость времени выполнения функции от числа сегментов. Временем, затрачиваемым на вызов метода `repartition`, можно пренебречь. Для итерации по $k$ допускается использовать циклы."
   ]
  },
  {
   "cell_type": "markdown",
   "metadata": {},
   "source": [
    "### k = 2"
   ]
  },
  {
   "cell_type": "code",
   "execution_count": 14,
   "metadata": {},
   "outputs": [
    {
     "name": "stdout",
     "output_type": "stream",
     "text": [
      "Средний рейтинг:  4.410805803783367\n",
      "331.69\n"
     ]
    }
   ],
   "source": [
    "start_time = time.time()\n",
    "\n",
    "bag_k_2 = num_2_bag.repartition(2)\n",
    "sum_of_ratings_bag_k_2 = bag_k_2.map(lambda x: x['rating']).sum().compute()\n",
    "len_of_bag_k_2 = bag_k_2.map(lambda x: x['rating']).count().compute()\n",
    "average_rating_bag_k_2 = sum_of_ratings_bag_k_2/len_of_bag_k_2\n",
    "\n",
    "spended_time_bag_k_2 = round(time.time() - start_time, 2)\n",
    "\n",
    "print(\"Средний рейтинг: \", average_rating_bag_k_2)\n",
    "print(spended_time_bag_k_2)"
   ]
  },
  {
   "cell_type": "markdown",
   "metadata": {},
   "source": [
    "### k = 16"
   ]
  },
  {
   "cell_type": "code",
   "execution_count": 22,
   "metadata": {},
   "outputs": [
    {
     "name": "stdout",
     "output_type": "stream",
     "text": [
      "Средний рейтинг:  4.410805803783367\n",
      "230.57\n"
     ]
    }
   ],
   "source": [
    "start_time = time.time()\n",
    "\n",
    "bag_k_16 = num_2_bag.repartition(16)\n",
    "sum_of_ratings_bag_k_16 = bag_k_16.map(lambda x: x['rating']).sum().compute()\n",
    "len_of_bag_k_16 = bag_k_16.map(lambda x: x['rating']).count().compute()\n",
    "average_rating_bag_k_16 = sum_of_ratings_bag_k_16/len_of_bag_k_16\n",
    "\n",
    "spended_time_bag_k_16 = round(time.time() - start_time, 2)\n",
    "\n",
    "print(\"Средний рейтинг: \", average_rating_bag_k_16)\n",
    "print(spended_time_bag_k_16)"
   ]
  },
  {
   "cell_type": "markdown",
   "metadata": {},
   "source": [
    "### k = 32"
   ]
  },
  {
   "cell_type": "code",
   "execution_count": 23,
   "metadata": {},
   "outputs": [
    {
     "name": "stdout",
     "output_type": "stream",
     "text": [
      "Средний рейтинг:  4.410805803783367\n",
      "36.95\n"
     ]
    }
   ],
   "source": [
    "start_time = time.time()\n",
    "\n",
    "bag_k_32 = num_2_bag.repartition(32)\n",
    "sum_of_ratings_bag_k_32 = bag_k_32.map(lambda x: x['rating']).sum().compute()\n",
    "len_of_bag_k_32 = bag_k_32.map(lambda x: x['rating']).count().compute()\n",
    "average_rating_bag_k_32 = sum_of_ratings_bag_k_32/len_of_bag_k_32\n",
    "\n",
    "spended_time_bag_k_32 = round(time.time() - start_time, 2)\n",
    "\n",
    "print(\"Средний рейтинг: \", average_rating_bag_k_32)\n",
    "print(spended_time_bag_k_32)"
   ]
  },
  {
   "cell_type": "markdown",
   "metadata": {},
   "source": [
    "### k = 64"
   ]
  },
  {
   "cell_type": "code",
   "execution_count": 24,
   "metadata": {},
   "outputs": [
    {
     "name": "stdout",
     "output_type": "stream",
     "text": [
      "Средний рейтинг:  4.410805803783367\n",
      "342.9\n"
     ]
    }
   ],
   "source": [
    "start_time = time.time()\n",
    "\n",
    "bag_k_64 = num_2_bag.repartition(64)\n",
    "sum_of_ratings_bag_k_64 = bag_k_64.map(lambda x: x['rating']).sum().compute()\n",
    "len_of_bag_k_64 = bag_k_64.map(lambda x: x['rating']).count().compute()\n",
    "average_rating_bag_k_64 = sum_of_ratings_bag_k_64/len_of_bag_k_64\n",
    "\n",
    "spended_time_bag_k_64 = round(time.time() - start_time, 2)\n",
    "\n",
    "print(\"Средний рейтинг: \", average_rating_bag_k_64)\n",
    "print(spended_time_bag_k_64)"
   ]
  },
  {
   "cell_type": "markdown",
   "metadata": {},
   "source": [
    "### k = 128"
   ]
  },
  {
   "cell_type": "code",
   "execution_count": 25,
   "metadata": {},
   "outputs": [
    {
     "name": "stdout",
     "output_type": "stream",
     "text": [
      "Средний рейтинг:  4.410805803783367\n",
      "544.78\n"
     ]
    }
   ],
   "source": [
    "start_time = time.time()\n",
    "\n",
    "bag_k_128 = num_2_bag.repartition(128)\n",
    "sum_of_ratings_bag_k_128 = bag_k_128.map(lambda x: x['rating']).sum().compute()\n",
    "len_of_bag_k_128 = bag_k_128.map(lambda x: x['rating']).count().compute()\n",
    "average_rating_bag_k_128 = sum_of_ratings_bag_k_128/len_of_bag_k_128\n",
    "\n",
    "spended_time_bag_k_128 = round(time.time() - start_time, 2)\n",
    "\n",
    "print(\"Средний рейтинг: \", average_rating_bag_k_128)\n",
    "print(spended_time_bag_k_128)"
   ]
  },
  {
   "cell_type": "code",
   "execution_count": 26,
   "metadata": {},
   "outputs": [
    {
     "data": {
      "text/html": [
       "<div>\n",
       "<style scoped>\n",
       "    .dataframe tbody tr th:only-of-type {\n",
       "        vertical-align: middle;\n",
       "    }\n",
       "\n",
       "    .dataframe tbody tr th {\n",
       "        vertical-align: top;\n",
       "    }\n",
       "\n",
       "    .dataframe thead th {\n",
       "        text-align: right;\n",
       "    }\n",
       "</style>\n",
       "<table border=\"1\" class=\"dataframe\">\n",
       "  <thead>\n",
       "    <tr style=\"text-align: right;\">\n",
       "      <th></th>\n",
       "      <th>time</th>\n",
       "      <th>k</th>\n",
       "    </tr>\n",
       "  </thead>\n",
       "  <tbody>\n",
       "    <tr>\n",
       "      <th>0</th>\n",
       "      <td>324.33</td>\n",
       "      <td>2</td>\n",
       "    </tr>\n",
       "    <tr>\n",
       "      <th>1</th>\n",
       "      <td>230.57</td>\n",
       "      <td>16</td>\n",
       "    </tr>\n",
       "    <tr>\n",
       "      <th>2</th>\n",
       "      <td>36.95</td>\n",
       "      <td>32</td>\n",
       "    </tr>\n",
       "    <tr>\n",
       "      <th>3</th>\n",
       "      <td>342.90</td>\n",
       "      <td>64</td>\n",
       "    </tr>\n",
       "    <tr>\n",
       "      <th>4</th>\n",
       "      <td>544.78</td>\n",
       "      <td>128</td>\n",
       "    </tr>\n",
       "  </tbody>\n",
       "</table>\n",
       "</div>"
      ],
      "text/plain": [
       "     time    k\n",
       "0  324.33    2\n",
       "1  230.57   16\n",
       "2   36.95   32\n",
       "3  342.90   64\n",
       "4  544.78  128"
      ]
     },
     "execution_count": 26,
     "metadata": {},
     "output_type": "execute_result"
    }
   ],
   "source": [
    "df_summar = pd.DataFrame(data={'time': [spended_time_bag_k_2, spended_time_bag_k_16, \n",
    "                                        spended_time_bag_k_32, spended_time_bag_k_64, spended_time_bag_k_128],\n",
    "                               'k': [2, 16, 32, 64, 128]})\n",
    "df_summar"
   ]
  },
  {
   "cell_type": "code",
   "execution_count": 29,
   "metadata": {},
   "outputs": [
    {
     "data": {
      "image/png": "[encoded data removed]",
      "text/plain": [
       "<Figure size 432x288 with 1 Axes>"
      ]
     },
     "metadata": {
      "needs_background": "light"
     },
     "output_type": "display_data"
    }
   ],
   "source": [
    "plt.plot(df_summar.k, df_summar.time)\n",
    "plt.xlabel('k')\n",
    "plt.ylabel('time')\n",
    "plt.show()"
   ]
  },
  {
   "cell_type": "markdown",
   "metadata": {},
   "source": [
    "##### Можно сделать вывод, что самым оптимальным количеством разбиений является k = 32, а самым не оптимальным k = 128"
   ]
  },
  {
   "cell_type": "markdown",
   "metadata": {},
   "source": [
    "8\\. Будем считать, что сегмент _плохо перемешан_, если в нем _подряд_ идет 5 или более отзывов, оставленных в один и тот же год. Воспользовавшись методом `map_partitions`, посчитайте и выведите на экран, сколько сегментов оказались _плохо перемешанными_ в `bag` из задачи 2. Также выведите на экран общее количество сегментов в `bag`, для которого производились расчеты."
   ]
  },
  {
   "cell_type": "code",
   "execution_count": null,
   "metadata": {},
   "outputs": [],
   "source": [
    "def f(partition):\n",
    "    prev_y = None\n",
    "    curr_len = 0\n",
    "    \n",
    "    for year in partition:\n",
    "        if year == prev_y:\n",
    "            curr_len += 1\n",
    "            if curr_len >= 5:\n",
    "                return (1, )\n",
    "        else:\n",
    "            curr_len = 1\n",
    "            prev_y = year\n",
    "            \n",
    "    return (0, )\n",
    "\n",
    "num_2_bag.pluck('year').map_partition(f).sum().compute()"
   ]
  },
  {
   "cell_type": "markdown",
   "metadata": {},
   "source": [
    "9\\. Используя метод `foldby`, подсчитайте и выведите на экран максимальную длину отзывов в зависимости от оценки `rating` в наборе, полученном в задании 2."
   ]
  },
  {
   "cell_type": "code",
   "execution_count": 10,
   "metadata": {},
   "outputs": [
    {
     "data": {
      "text/plain": [
       "[(0, (0, 6972)),\n",
       " (1, (1, 5567)),\n",
       " (2, (2, 6972)),\n",
       " (3, (3, 4954)),\n",
       " (4, (4, 8587)),\n",
       " (5, (5, 8587))]"
      ]
     },
     "execution_count": 10,
     "metadata": {},
     "output_type": "execute_result"
    }
   ],
   "source": [
    "def binop(rat, am):\n",
    "    max_val = max((rat, am), key=lambda x: x[1])\n",
    "    return max_val\n",
    "\n",
    "max_len_rating = num_2_bag.map(lambda b: tuple([b['rating'], len(str(b['review'] or ''))])).foldby(lambda x: x[0], binop).compute()\n",
    "max_len_rating"
   ]
  }
 ],
 "metadata": {
  "kernelspec": {
   "display_name": "Python 3",
   "language": "python",
   "name": "python3"
  },
  "language_info": {
   "codemirror_mode": {
    "name": "ipython",
    "version": 3
   },
   "file_extension": ".py",
   "mimetype": "text/x-python",
   "name": "python",
   "nbconvert_exporter": "python",
   "pygments_lexer": "ipython3",
   "version": "3.8.8"
  }
 },
 "nbformat": 4,
 "nbformat_minor": 4
}
